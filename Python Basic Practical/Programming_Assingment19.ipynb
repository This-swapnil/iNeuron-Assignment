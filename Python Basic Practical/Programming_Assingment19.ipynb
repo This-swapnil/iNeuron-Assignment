{
 "cells": [
  {
   "cell_type": "markdown",
   "id": "137805f9",
   "metadata": {},
   "source": [
    "### Q 1Create a function that takes a string and returns a string in which each character is repeated once.\n",
    "    Examples\n",
    "    double_char('String') ➞ 'SSttrriinngg'\n",
    "    double_char('Hello World!') ➞ 'HHeelllloo WWoorrlldd!!'\n",
    "    double_char('1234!_ ') ➞ '11223344!!__ '"
   ]
  },
  {
   "cell_type": "code",
   "execution_count": 1,
   "id": "b93f64a4",
   "metadata": {},
   "outputs": [
    {
     "data": {
      "text/plain": [
       "'11223344!!__'"
      ]
     },
     "execution_count": 1,
     "metadata": {},
     "output_type": "execute_result"
    }
   ],
   "source": [
    "def double_char(st):\n",
    "    return ''.join([c+c for c in st])\n",
    "double_char('1234!_')"
   ]
  },
  {
   "cell_type": "markdown",
   "id": "c6a05fbf",
   "metadata": {},
   "source": [
    "### Q 2 Create a function that reverses a boolean value and returns the string 'boolean expected' if another variable type is given.\n",
    "    Examples\n",
    "    reverse(True) ➞ False\n",
    "    reverse(False) ➞ True\n",
    "    reverse(0) ➞ 'boolean expected'\n",
    "    reverse(None) ➞ 'boolean expected'"
   ]
  },
  {
   "cell_type": "code",
   "execution_count": 2,
   "id": "05a59bc9",
   "metadata": {},
   "outputs": [
    {
     "data": {
      "text/plain": [
       "True"
      ]
     },
     "execution_count": 2,
     "metadata": {},
     "output_type": "execute_result"
    }
   ],
   "source": [
    "def reverse(val):\n",
    "    if type(val)==bool:\n",
    "        return not(val)\n",
    "    else:\n",
    "        return \"boolean expected\"\n",
    "reverse(False)"
   ]
  },
  {
   "cell_type": "markdown",
   "id": "f13a713a",
   "metadata": {},
   "source": [
    "### Q 3 Create a function that returns the thickness (in meters) of a piece of paper after folding it n number of times. The paper starts off with a thickness of 0.5mm.\n",
    "    Examples\n",
    "    num_layers(1) ➞ '0.001m'\n",
    "    # Paper folded once is 1mm (equal to 0.001m)\n",
    "    num_layers(4) ➞ '0.008m'\n",
    "    # Paper folded 4 times is 8mm (equal to 0.008m)\n",
    "    num_layers(21) ➞ '1048.576m'\n",
    "    # Paper folded 21 times is 1048576mm (equal to 1048.576m)"
   ]
  },
  {
   "cell_type": "code",
   "execution_count": 3,
   "id": "ecb02c10",
   "metadata": {},
   "outputs": [
    {
     "data": {
      "text/plain": [
       "'1048.576m'"
      ]
     },
     "execution_count": 3,
     "metadata": {},
     "output_type": "execute_result"
    }
   ],
   "source": [
    "def num_layers(n):\n",
    "    thick = 0.5\n",
    "    for _ in range(n):\n",
    "        thick *= 2\n",
    "    return str(thick/1000)+\"m\"\n",
    "num_layers(21)"
   ]
  },
  {
   "cell_type": "markdown",
   "id": "5f13aef0",
   "metadata": {},
   "source": [
    "### Q 4 Create a function that takes a single string as argument and returns an ordered list containing the indices of all capital letters in the string.\n",
    "    Examples\n",
    "    index_of_caps('eDaBiT') ➞ [1, 3, 5]\n",
    "    index_of_caps('eQuINoX') ➞ [1, 3, 4, 6]\n",
    "    index_of_caps('determine') ➞ []\n",
    "    index_of_caps('STRIKE') ➞ [0, 1, 2, 3, 4, 5]\n",
    "    index_of_caps('sUn') ➞ [1]"
   ]
  },
  {
   "cell_type": "code",
   "execution_count": 4,
   "id": "8b3dd032",
   "metadata": {},
   "outputs": [
    {
     "data": {
      "text/plain": [
       "[1, 3, 4, 6]"
      ]
     },
     "execution_count": 4,
     "metadata": {},
     "output_type": "execute_result"
    }
   ],
   "source": [
    "def index_of_caps(str):\n",
    "    index = []\n",
    "    for i in range(len(str)):\n",
    "        if str[i].isupper():\n",
    "            index.append(i)\n",
    "    return index\n",
    "index_of_caps('eQuINoX')"
   ]
  },
  {
   "cell_type": "markdown",
   "id": "90271745",
   "metadata": {},
   "source": [
    "### Q 5 Using list comprehensions, create a function that finds all even numbers from 1 to the given number.\n",
    "    Examples\n",
    "    find_even_nums(8) ➞ [2, 4, 6, 8]\n",
    "    find_even_nums(4) ➞ [2, 4]\n",
    "    find_even_nums(2) ➞ [2]"
   ]
  },
  {
   "cell_type": "code",
   "execution_count": 5,
   "id": "146fb0be",
   "metadata": {},
   "outputs": [
    {
     "data": {
      "text/plain": [
       "[2, 4, 6, 8]"
      ]
     },
     "execution_count": 5,
     "metadata": {},
     "output_type": "execute_result"
    }
   ],
   "source": [
    "def find_even_nums(n):\n",
    "    return [x for x in range(2,n+1) if x % 2 ==0]\n",
    "find_even_nums(8)"
   ]
  },
  {
   "cell_type": "code",
   "execution_count": null,
   "id": "c637cde5",
   "metadata": {},
   "outputs": [],
   "source": []
  }
 ],
 "metadata": {
  "kernelspec": {
   "display_name": "Python 3",
   "language": "python",
   "name": "python3"
  },
  "language_info": {
   "codemirror_mode": {
    "name": "ipython",
    "version": 3
   },
   "file_extension": ".py",
   "mimetype": "text/x-python",
   "name": "python",
   "nbconvert_exporter": "python",
   "pygments_lexer": "ipython3",
   "version": "3.8.8"
  }
 },
 "nbformat": 4,
 "nbformat_minor": 5
}
