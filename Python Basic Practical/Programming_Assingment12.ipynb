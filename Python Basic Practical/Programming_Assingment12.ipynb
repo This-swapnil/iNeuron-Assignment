{
 "cells": [
  {
   "cell_type": "markdown",
   "id": "5732189c",
   "metadata": {},
   "source": [
    "### Q 1.\tWrite a Python program to Extract Unique values dictionary values?"
   ]
  },
  {
   "cell_type": "code",
   "execution_count": 2,
   "id": "25b4259a",
   "metadata": {},
   "outputs": [
    {
     "name": "stdout",
     "output_type": "stream",
     "text": [
      "The unique values list is : {1, 2, 5, 6, 7, 8, 10, 11, 12}\n"
     ]
    }
   ],
   "source": [
    "test_dict = {'gfg' : [5, 6, 7, 8],\n",
    "             'is' : [10, 11, 7, 5],\n",
    "             'best' : [6, 12, 10, 8],\n",
    "             'for' : [1, 2, 5]}\n",
    "res = set(ele for val in test_dict.values() for ele in val)\n",
    "print(\"The unique values list is : {}\".format(res)) "
   ]
  },
  {
   "cell_type": "markdown",
   "id": "cce714e7",
   "metadata": {},
   "source": [
    "### Q 2.\tWrite a Python program to find the sum of all items in a dictionary?"
   ]
  },
  {
   "cell_type": "code",
   "execution_count": 8,
   "id": "58961015",
   "metadata": {},
   "outputs": [
    {
     "name": "stdout",
     "output_type": "stream",
     "text": [
      "Sum of all items in dictionary is : 100\n"
     ]
    }
   ],
   "source": [
    "myDict = {'a': 10, 'b':20, 'c':30,'d':40}\n",
    "sum = 0\n",
    "for i in myDict:\n",
    "    sum = sum + myDict[i]\n",
    "print(\"Sum of all items in dictionary is : {}\".format(sum))"
   ]
  },
  {
   "cell_type": "markdown",
   "id": "855540dc",
   "metadata": {},
   "source": [
    "### Q 3.\tWrite a Python program to Merging two Dictionaries?"
   ]
  },
  {
   "cell_type": "code",
   "execution_count": 13,
   "id": "4d65d328",
   "metadata": {},
   "outputs": [
    {
     "name": "stdout",
     "output_type": "stream",
     "text": [
      "{3: 'c', 4: 'd', 1: 'a', 2: 'b'}\n"
     ]
    }
   ],
   "source": [
    "dict_1 = {1: 'a', 2: 'b'}\n",
    "dict_2 = {3: 'c', 4: 'd'}\n",
    "\n",
    "dict_3 = dict_2.copy()\n",
    "dict_3.update(dict_1)\n",
    "\n",
    "print(dict_3)"
   ]
  },
  {
   "cell_type": "markdown",
   "id": "86b25b20",
   "metadata": {},
   "source": [
    "### Q 4.\tWrite a Python program to convert key-values list to flat dictionary?"
   ]
  },
  {
   "cell_type": "code",
   "execution_count": 2,
   "id": "17940ffb",
   "metadata": {},
   "outputs": [
    {
     "name": "stdout",
     "output_type": "stream",
     "text": [
      "The original dictionary is : {'month': [1, 2, 3], 'name': ['Jan', 'Feb', 'March']}\n",
      "Flattened dictionary : {1: 'Jan', 2: 'Feb', 3: 'March'}\n"
     ]
    }
   ],
   "source": [
    "test_dict = {'month' : [1, 2, 3],\n",
    "             'name' : ['Jan', 'Feb', 'March']}\n",
    "print(\"The original dictionary is : \" + str(test_dict))\n",
    "res = dict(zip(test_dict['month'], test_dict['name']))\n",
    "print(\"Flattened dictionary : \" + str(res)) "
   ]
  },
  {
   "cell_type": "markdown",
   "id": "7a70c2ee",
   "metadata": {},
   "source": [
    "### Q 5.\tWrite a Python program to insertion at the beginning in OrderedDict?"
   ]
  },
  {
   "cell_type": "code",
   "execution_count": 4,
   "id": "7dd84d8a",
   "metadata": {},
   "outputs": [
    {
     "name": "stdout",
     "output_type": "stream",
     "text": [
      "Resultant Dictionary : OrderedDict([('One', '1'), ('Two', '2'), ('Three', '2')])\n"
     ]
    }
   ],
   "source": [
    "from collections import OrderedDict\n",
    "iniordered_dict = OrderedDict([('Two', '2'), ('Three', '2')])\n",
    "iniordered_dict.update({'One':'1'})\n",
    "iniordered_dict.move_to_end('One', last = False)\n",
    "print (\"Resultant Dictionary : \"+str(iniordered_dict))\n"
   ]
  },
  {
   "cell_type": "markdown",
   "id": "bb0cb712",
   "metadata": {},
   "source": [
    "### Q 6.\tWrite a Python program to check order of character in string using OrderedDict()?"
   ]
  },
  {
   "cell_type": "code",
   "execution_count": 10,
   "id": "5cd89d4f",
   "metadata": {},
   "outputs": [
    {
     "name": "stdout",
     "output_type": "stream",
     "text": [
      "Pattern Matched\n"
     ]
    }
   ],
   "source": [
    "from collections import OrderedDict\n",
    "\n",
    "\n",
    "def checkOrder(input, pattern):\n",
    "    dict = OrderedDict.fromkeys(input)\n",
    "    ptrlen = 0\n",
    "    for key, value in dict.items():\n",
    "        if (key == pattern[ptrlen]):\n",
    "            ptrlen = ptrlen + 1\n",
    "        if (ptrlen == (len(pattern))):\n",
    "            return 'true'\n",
    "    return 'false'\n",
    "\n",
    "\n",
    "string = \"swpnil\"\n",
    "pattern = \"sw\"\n",
    "if checkOrder(string, pattern):\n",
    "    print(\"Pattern Matched\")\n",
    "else:\n",
    "    print(\"Pattern not Matched\")"
   ]
  },
  {
   "cell_type": "markdown",
   "id": "b9326dda",
   "metadata": {},
   "source": [
    "### Q 7.\tWrite a Python program to sort Python Dictionaries by Key or Value?"
   ]
  },
  {
   "cell_type": "code",
   "execution_count": 15,
   "id": "c2740f19",
   "metadata": {},
   "outputs": [
    {
     "name": "stdout",
     "output_type": "stream",
     "text": [
      "Key sorted dictionar ['A', 'B', 'C', 'D', 'E']\n",
      "Item sorted dictionar [10, 20, 30, 40, 50]\n"
     ]
    }
   ],
   "source": [
    "dict1 = {'A':10,'C':30,'B':20,'E':50,'D':40}\n",
    "print(\"Key sorted dictionar {}\".format(sorted(dict1.keys())))\n",
    "print(\"Item sorted dictionar {}\".format(sorted(dict1.values())))"
   ]
  },
  {
   "cell_type": "code",
   "execution_count": null,
   "id": "991eb891",
   "metadata": {},
   "outputs": [],
   "source": []
  }
 ],
 "metadata": {
  "kernelspec": {
   "display_name": "Python 3",
   "language": "python",
   "name": "python3"
  },
  "language_info": {
   "codemirror_mode": {
    "name": "ipython",
    "version": 3
   },
   "file_extension": ".py",
   "mimetype": "text/x-python",
   "name": "python",
   "nbconvert_exporter": "python",
   "pygments_lexer": "ipython3",
   "version": "3.8.8"
  }
 },
 "nbformat": 4,
 "nbformat_minor": 5
}
