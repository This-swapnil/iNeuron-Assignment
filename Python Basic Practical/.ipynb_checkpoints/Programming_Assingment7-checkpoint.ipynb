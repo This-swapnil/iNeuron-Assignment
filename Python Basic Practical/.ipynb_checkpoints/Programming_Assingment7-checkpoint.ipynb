{
 "cells": [
  {
   "cell_type": "markdown",
   "id": "2e8c79e4",
   "metadata": {},
   "source": [
    "### Q. 1.\tWrite a Python Program to find sum of array"
   ]
  },
  {
   "cell_type": "code",
   "execution_count": 1,
   "id": "db02b84f",
   "metadata": {},
   "outputs": [],
   "source": [
    "import numpy as np"
   ]
  },
  {
   "cell_type": "code",
   "execution_count": 2,
   "id": "47d36157",
   "metadata": {},
   "outputs": [],
   "source": [
    "array = np.array([10,20,30,40,50,60,70,80,90,100])"
   ]
  },
  {
   "cell_type": "code",
   "execution_count": 10,
   "id": "c0b15a74",
   "metadata": {},
   "outputs": [
    {
     "name": "stdout",
     "output_type": "stream",
     "text": [
      "Sum of array element is: 550\n"
     ]
    }
   ],
   "source": [
    "sum = 0\n",
    "for i in array:\n",
    "    sum +=i\n",
    "print(\"Sum of array element is: {}\".format(sum))"
   ]
  },
  {
   "cell_type": "markdown",
   "id": "638fcd4c",
   "metadata": {},
   "source": [
    "### Q. 2.\tWrite a Python Program to find largest element in an array?"
   ]
  },
  {
   "cell_type": "code",
   "execution_count": 11,
   "id": "4fc89124",
   "metadata": {},
   "outputs": [
    {
     "name": "stdout",
     "output_type": "stream",
     "text": [
      "Maximum element in array is: 100\n"
     ]
    }
   ],
   "source": [
    "array = np.array([10,20,30,40,50,60,70,80,90,100])\n",
    "print(\"Maximum element in array is: {}\".format(max(array)))"
   ]
  },
  {
   "cell_type": "markdown",
   "id": "929c4192",
   "metadata": {},
   "source": [
    "### Q. 3.\tWrite a Python Program for array rotation?"
   ]
  },
  {
   "cell_type": "code",
   "execution_count": 17,
   "id": "02902b15",
   "metadata": {},
   "outputs": [
    {
     "name": "stdout",
     "output_type": "stream",
     "text": [
      "[100, 90, 80, 70, 60, 50, 40, 30, 20, 10]\n"
     ]
    }
   ],
   "source": [
    "rev = [ele for ele in reversed(array)]\n",
    "print(rev)"
   ]
  },
  {
   "cell_type": "markdown",
   "id": "3cac9e24",
   "metadata": {},
   "source": [
    "### Q. 4.\tWrite a Python Program to Split the array and add the first part to the end?"
   ]
  },
  {
   "cell_type": "code",
   "execution_count": 31,
   "id": "3c6564eb",
   "metadata": {},
   "outputs": [
    {
     "name": "stdout",
     "output_type": "stream",
     "text": [
      "[ 60  70  80  90 100  10  20  30  40  50]\n"
     ]
    }
   ],
   "source": [
    "split = np.split(array,2)\n",
    "arr1 = split[0]\n",
    "arr2 = split[1]\n",
    "arr3 = np.concatenate((arr2,arr1))\n",
    "print(arr3)"
   ]
  },
  {
   "cell_type": "markdown",
   "id": "44d72f7a",
   "metadata": {},
   "source": [
    "### Q. 5.\tWrite a Python Program to check if given array is Monotonic?"
   ]
  },
  {
   "cell_type": "code",
   "execution_count": 6,
   "id": "66a27d18",
   "metadata": {},
   "outputs": [
    {
     "name": "stdout",
     "output_type": "stream",
     "text": [
      "True\n"
     ]
    }
   ],
   "source": [
    "def isMonotonic(A):\n",
    "    return (all(A[i] <= A[i + 1] for i in range(len(A) - 1)) or\n",
    "        all(A[i] >= A[i + 1] for i in range(len(A) - 1)))\n",
    "print(isMonotonic(array))"
   ]
  },
  {
   "cell_type": "code",
   "execution_count": null,
   "id": "1fb44d5f",
   "metadata": {},
   "outputs": [],
   "source": []
  }
 ],
 "metadata": {
  "kernelspec": {
   "display_name": "Python 3",
   "language": "python",
   "name": "python3"
  },
  "language_info": {
   "codemirror_mode": {
    "name": "ipython",
    "version": 3
   },
   "file_extension": ".py",
   "mimetype": "text/x-python",
   "name": "python",
   "nbconvert_exporter": "python",
   "pygments_lexer": "ipython3",
   "version": "3.8.8"
  }
 },
 "nbformat": 4,
 "nbformat_minor": 5
}
