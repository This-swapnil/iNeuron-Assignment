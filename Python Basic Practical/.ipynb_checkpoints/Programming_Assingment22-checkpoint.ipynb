{
 "cells": [
  {
   "cell_type": "markdown",
   "id": "6bc87730",
   "metadata": {},
   "source": [
    "### Q 1 Create a function that takes three parameters where:\n",
    "    • x is the start of the range (inclusive).\n",
    "    • y is the end of the range (inclusive).\n",
    "    • n is the divisor to be checked against.\n",
    "    Return an ordered list with numbers in the range that are divisible by the third parameter n. Return an empty list if there are no numbers that are divisible by n.\n",
    "    Examples\n",
    "    list_operation(1, 10, 3) ➞ [3, 6, 9]\n",
    "\n",
    "    list_operation(7, 9, 2) ➞ [8]\n",
    "\n",
    "    list_operation(15, 20, 7) ➞ []\n"
   ]
  },
  {
   "cell_type": "code",
   "execution_count": 1,
   "id": "c5662d97",
   "metadata": {},
   "outputs": [
    {
     "data": {
      "text/plain": [
       "[8]"
      ]
     },
     "execution_count": 1,
     "metadata": {},
     "output_type": "execute_result"
    }
   ],
   "source": [
    "def list_operation(a,b,c):\n",
    "    ls = []\n",
    "    for i in range(a,b+1):\n",
    "        if i % c == 0:\n",
    "            ls.append(i)\n",
    "    return ls\n",
    "list_operation(7,9,2)"
   ]
  },
  {
   "cell_type": "markdown",
   "id": "49079ad6",
   "metadata": {},
   "source": [
    "### Q 2 Create a function that takes in two lists and returns True if the second list follows the first list by one element, and False otherwise. In other words, determine if the second list is the first list shifted to the right by 1.\n",
    "    Examples\n",
    "    simon_says([1, 2], [5, 1]) ➞ True\n",
    "\n",
    "    simon_says([1, 2], [5, 5]) ➞ False\n",
    "\n",
    "    simon_says([1, 2, 3, 4, 5], [0, 1, 2, 3, 4]) ➞ True\n",
    "\n",
    "    simon_says([1, 2, 3, 4, 5], [5, 5, 1, 2, 3]) ➞ False\n",
    "    Notes\n",
    "    • Both input lists will be of the same length, and will have a minimum length of 2.\n",
    "    • The values of the 0-indexed element in the second list and the n-1th indexed element in the first list do not matter.\n"
   ]
  },
  {
   "cell_type": "code",
   "execution_count": 2,
   "id": "1a8edd15",
   "metadata": {},
   "outputs": [
    {
     "data": {
      "text/plain": [
       "True"
      ]
     },
     "execution_count": 2,
     "metadata": {},
     "output_type": "execute_result"
    }
   ],
   "source": [
    "def simon_says(ls1,ls2):\n",
    "    if ls1[0:len(ls1)-1] == ls2[1:len(ls2)]:\n",
    "        return True\n",
    "    return False\n",
    "simon_says([1, 2, 3, 4, 5], [0, 1, 2, 3, 4])"
   ]
  },
  {
   "cell_type": "markdown",
   "id": "ea7fe40f",
   "metadata": {},
   "source": [
    "### Q 3 A group of friends have decided to start a secret society. The name will be the first letter of each of their names, sorted in alphabetical order. Create a function that takes in a list of names and returns the name of the secret society.\n",
    "    Examples\n",
    "    society_name([\"Adam\", \"Sarah\", \"Malcolm\"]) ➞ \"AMS\"\n",
    "\n",
    "    society_name([\"Harry\", \"Newt\", \"Luna\", \"Cho\"]) ➞ \"CHLN\"\n",
    "\n",
    "    society_name([\"Phoebe\", \"Chandler\", \"Rachel\", \"Ross\", \"Monica\", \"Joey\"])\n"
   ]
  },
  {
   "cell_type": "code",
   "execution_count": 3,
   "id": "78bd22ae",
   "metadata": {},
   "outputs": [
    {
     "data": {
      "text/plain": [
       "'CJMPRR'"
      ]
     },
     "execution_count": 3,
     "metadata": {},
     "output_type": "execute_result"
    }
   ],
   "source": [
    "def society_name(lst):\n",
    "    return ''.join([i[0] for i in sorted(lst)])\n",
    "society_name([\"Phoebe\", \"Chandler\", \"Rachel\", \"Ross\", \"Monica\", \"Joey\"])"
   ]
  },
  {
   "cell_type": "markdown",
   "id": "0a89a5a0",
   "metadata": {},
   "source": [
    "### Q 4 An isogram is a word that has no duplicate letters. Create a function that takes a string and returns either True or False depending on whether or not it's an \"isogram\".\n",
    "    Examples\n",
    "    is_isogram(\"Algorism\") ➞ True\n",
    "\n",
    "    is_isogram(\"PasSword\") ➞ False\n",
    "    # Not case sensitive.\n",
    "\n",
    "    is_isogram(\"Consecutive\") ➞ False\n",
    "    Notes\n",
    "    • Ignore letter case (should not be case sensitive).\n",
    "    • All test cases contain valid one word strings.\n"
   ]
  },
  {
   "cell_type": "code",
   "execution_count": 4,
   "id": "36c0a117",
   "metadata": {},
   "outputs": [
    {
     "data": {
      "text/plain": [
       "False"
      ]
     },
     "execution_count": 4,
     "metadata": {},
     "output_type": "execute_result"
    }
   ],
   "source": [
    "def is_isogram(string):\n",
    "    for i in range(len(string)):\n",
    "        if string.lower().count(string[i])>1:\n",
    "            return False\n",
    "    else:\n",
    "        return True\n",
    "is_isogram(\"PasSword\")"
   ]
  },
  {
   "cell_type": "markdown",
   "id": "e6bfaaf3",
   "metadata": {},
   "source": [
    "### Q 5 Create a function that takes a string and returns True or False, depending on whether the characters are in order or not.\n",
    "    Examples\n",
    "    is_in_order(\"abc\") ➞ True\n",
    "\n",
    "    is_in_order(\"edabit\") ➞ False\n",
    "\n",
    "    is_in_order(\"123\") ➞ True\n",
    "\n",
    "    is_in_order(\"xyzz\") ➞ True\n",
    "    Notes\n",
    "    You don't have to handle empty strings."
   ]
  },
  {
   "cell_type": "code",
   "execution_count": 5,
   "id": "1d840ce0",
   "metadata": {},
   "outputs": [
    {
     "data": {
      "text/plain": [
       "True"
      ]
     },
     "execution_count": 5,
     "metadata": {},
     "output_type": "execute_result"
    }
   ],
   "source": [
    "def is_in_order(s):\n",
    "    n = len(s)\n",
    "    c = [s[i] for i in range(len(s))]\n",
    "    c.sort()\n",
    "    for i in range(n):\n",
    "        if c[i] != s[i]:\n",
    "            return False\n",
    "    return True\n",
    "is_in_order(\"123\")"
   ]
  }
 ],
 "metadata": {
  "kernelspec": {
   "display_name": "Python 3",
   "language": "python",
   "name": "python3"
  },
  "language_info": {
   "codemirror_mode": {
    "name": "ipython",
    "version": 3
   },
   "file_extension": ".py",
   "mimetype": "text/x-python",
   "name": "python",
   "nbconvert_exporter": "python",
   "pygments_lexer": "ipython3",
   "version": "3.8.8"
  }
 },
 "nbformat": 4,
 "nbformat_minor": 5
}
