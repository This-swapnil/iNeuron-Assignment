{
 "cells": [
  {
   "cell_type": "markdown",
   "id": "8d06880b",
   "metadata": {},
   "source": [
    "### Q 1 Please write a program using generator to print the numbers which can be divisible by 5 and 7 between 0 and n in comma separated form while n is input by console.\n",
    "    Example:\n",
    "    If the following n is given as input to the program:\n",
    "    100\n",
    "    Then, the output of the program should be:\n",
    "    0,35,70"
   ]
  },
  {
   "cell_type": "code",
   "execution_count": 1,
   "id": "7f048591",
   "metadata": {},
   "outputs": [
    {
     "name": "stdout",
     "output_type": "stream",
     "text": [
      "Enter the number: 100\n",
      "0,35,70\n"
     ]
    }
   ],
   "source": [
    "def generator(n):\n",
    "    i = 0\n",
    "    while i < n:\n",
    "        j = i\n",
    "        if j % 7 == 0 and j % 5 == 0:\n",
    "            yield j\n",
    "        i += 1\n",
    "\n",
    "\n",
    "n = int(input(\"Enter the number: \"))\n",
    "res = []\n",
    "for i in generator(n):\n",
    "    res.append(str(i))\n",
    "print(','.join(res))"
   ]
  },
  {
   "cell_type": "markdown",
   "id": "21b917f4",
   "metadata": {},
   "source": [
    "### Q 2 Please write a program using generator to print the even numbers between 0 and n in comma separated form while n is input by console.\n",
    "    Example:\n",
    "    If the following n is given as input to the program:\n",
    "    10\n",
    "    Then, the output of the program should be:\n",
    "    0,2,4,6,8,10"
   ]
  },
  {
   "cell_type": "code",
   "execution_count": 2,
   "id": "1f9359a1",
   "metadata": {},
   "outputs": [
    {
     "name": "stdout",
     "output_type": "stream",
     "text": [
      "Enter the number: 10\n",
      "0,2,4,6,8,10\n"
     ]
    }
   ],
   "source": [
    "def generator(n):\n",
    "    i = 0\n",
    "    while i <= n:\n",
    "        j = i\n",
    "        if j % 2 == 0:\n",
    "            yield j\n",
    "        i += 1\n",
    "\n",
    "\n",
    "n = int(input(\"Enter the number: \"))\n",
    "res = []\n",
    "for i in generator(n):\n",
    "    res.append(str(i))\n",
    "print(','.join(res))"
   ]
  },
  {
   "cell_type": "markdown",
   "id": "408b76c5",
   "metadata": {},
   "source": [
    "### Q 3 The Fibonacci Sequence is computed based on the following formula:\n",
    "    f(n)=0 if n=0\n",
    "    f(n)=1 if n=1\n",
    "    f(n)=f(n-1)+f(n-2) if n > 1\n",
    "    Please write a program using list comprehension to print the Fibonacci Sequence in comma\n",
    "    separated form with a given n input by console.\n",
    "    Example:\n",
    "    If the following n is given as input to the program:\n",
    "    7\n",
    "\n",
    "    Then, the output of the program should be:\n",
    "    0,1,1,2,3,5,8,13"
   ]
  },
  {
   "cell_type": "code",
   "execution_count": 3,
   "id": "382624fd",
   "metadata": {},
   "outputs": [
    {
     "name": "stdout",
     "output_type": "stream",
     "text": [
      "Enter a number :7\n",
      "0,1,1,2,3,5,8,13\n"
     ]
    }
   ],
   "source": [
    "def fib(n):    \n",
    "    if n == 0: \n",
    "            return 0    \n",
    "    elif n == 1: \n",
    "            return 1    \n",
    "    else: \n",
    "            return fib(n-1)+fib(n-2)\n",
    "n=int(input('Enter a number :')) \n",
    "res = [str(fib(x)) for x in range(0,n+1)]\n",
    "# res=[]\n",
    "# for x in range(0,n+1):\n",
    "#     res.append(str(fib(x)))\n",
    "print(','.join(res))"
   ]
  },
  {
   "cell_type": "markdown",
   "id": "ef1016d0",
   "metadata": {},
   "source": [
    "### Q 4 Assuming that we have some email addresses in the 'username@companyname.com' format,\n",
    "    please write program to print the user name of a given email address. Both user names and\n",
    "    company names are composed of letters only.\n",
    "    Example:\n",
    "    If the following email address is given as input to the program:\n",
    "    john@google.com\n",
    "    Then, the output of the program should be:\n",
    "    john"
   ]
  },
  {
   "cell_type": "code",
   "execution_count": 4,
   "id": "e20723ec",
   "metadata": {},
   "outputs": [
    {
     "name": "stdout",
     "output_type": "stream",
     "text": [
      "Enter the email address: swapnil@gmail.com\n",
      "User Name:  swapnil\n"
     ]
    }
   ],
   "source": [
    "email = input(\"Enter the email address: \").split('@')\n",
    "print(\"User Name: \",email[0])"
   ]
  },
  {
   "cell_type": "code",
   "execution_count": 5,
   "id": "19f2ff94",
   "metadata": {},
   "outputs": [
    {
     "name": "stdout",
     "output_type": "stream",
     "text": [
      "Enter the Email address: swapnil@gmail.com\n",
      "swapnil\n"
     ]
    }
   ],
   "source": [
    "# using Regular Expression\n",
    "import re\n",
    "\n",
    "regexStr = r'^([^@]+)@[^@]+$'\n",
    "emailStr = input(\"Enter the Email address: \")\n",
    "matchobj = re.search(regexStr, emailStr)\n",
    "if not matchobj is None:\n",
    "    print(matchobj.group(1))\n",
    "else:\n",
    "    print(\"Did not match\")"
   ]
  },
  {
   "cell_type": "markdown",
   "id": "355e8166",
   "metadata": {},
   "source": [
    "### Q 5 Define a class named Shape and its subclass Square. The Square class has an init function which takes a length as argument. Both classes have a area function which can print the area of the shape where Shape's area is 0 by default."
   ]
  },
  {
   "cell_type": "code",
   "execution_count": 6,
   "id": "5f8f796e",
   "metadata": {},
   "outputs": [
    {
     "name": "stdout",
     "output_type": "stream",
     "text": [
      "The area of a square with a side length of 2 is 4\n"
     ]
    }
   ],
   "source": [
    "class Shape:\n",
    "    def __init__(self):\n",
    "        pass\n",
    "    def area(self):\n",
    "        return 0\n",
    "\n",
    "class Square(Shape):\n",
    "\n",
    "    def __init__(self, length):\n",
    "        self.length = length\n",
    "\n",
    "    def area(self):\n",
    "        a = (self.length * self.length)\n",
    "        print('The area of a square with a side length of {} is {}'.format(self.length, a))\n",
    "\n",
    "\n",
    "s = Square(2)\n",
    "s.area()"
   ]
  },
  {
   "cell_type": "code",
   "execution_count": null,
   "id": "10e8f05d",
   "metadata": {},
   "outputs": [],
   "source": []
  }
 ],
 "metadata": {
  "kernelspec": {
   "display_name": "Python 3",
   "language": "python",
   "name": "python3"
  },
  "language_info": {
   "codemirror_mode": {
    "name": "ipython",
    "version": 3
   },
   "file_extension": ".py",
   "mimetype": "text/x-python",
   "name": "python",
   "nbconvert_exporter": "python",
   "pygments_lexer": "ipython3",
   "version": "3.8.8"
  }
 },
 "nbformat": 4,
 "nbformat_minor": 5
}
