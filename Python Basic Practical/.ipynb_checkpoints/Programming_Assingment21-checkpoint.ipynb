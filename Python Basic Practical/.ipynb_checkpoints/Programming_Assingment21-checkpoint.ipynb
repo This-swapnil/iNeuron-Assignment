{
 "cells": [
  {
   "cell_type": "markdown",
   "id": "7dcb20c4",
   "metadata": {},
   "source": [
    "### Q 1 Write a function that takes a list and a number as arguments. Add the number to the end of the list, then remove the first element of the list. The function should then return the updated list.\n",
    "    Examples\n",
    "    next_in_line([5, 6, 7, 8, 9], 1) ➞ [6, 7, 8, 9, 1]\n",
    "    next_in_line([7, 6, 3, 23, 17], 10) ➞ [6, 3, 23, 17, 10]\n",
    "    next_in_line([1, 10, 20, 42 ], 6) ➞ [10, 20, 42, 6]\n",
    "    next_in_line([], 6) ➞ 'No list has been selected'"
   ]
  },
  {
   "cell_type": "code",
   "execution_count": 1,
   "id": "3b4f5d8a",
   "metadata": {},
   "outputs": [
    {
     "data": {
      "text/plain": [
       "[6, 3, 23, 17, 10]"
      ]
     },
     "execution_count": 1,
     "metadata": {},
     "output_type": "execute_result"
    }
   ],
   "source": [
    "def next_in_line(lst,n):\n",
    "    lst.append(n)\n",
    "    lst.pop(0)\n",
    "    return lst\n",
    "next_in_line([7, 6, 3, 23, 17], 10)"
   ]
  },
  {
   "cell_type": "markdown",
   "id": "19d36fba",
   "metadata": {},
   "source": [
    "### Q 2 Create the function that takes a list of dictionaries and returns the sum of people's budgets.\n",
    "    Examples\n",
    "    get_budgets([\n",
    "    { 'name': 'John', 'age': 21, 'budget': 23000 },\n",
    "    { 'name': 'Steve', 'age': 32, 'budget': 40000 },\n",
    "    { 'name': 'Martin', 'age': 16, 'budget': 2700 }\n",
    "    ]) ➞ 65700\n",
    "    get_budgets([\n",
    "    { 'name': 'John', 'age': 21, 'budget': 29000 },\n",
    "    { 'name': 'Steve', 'age': 32, 'budget': 32000 },\n",
    "    { 'name': 'Martin', 'age': 16, 'budget': 1600 }\n",
    "    ]) ➞ 62600"
   ]
  },
  {
   "cell_type": "code",
   "execution_count": 2,
   "id": "4e6967ed",
   "metadata": {},
   "outputs": [
    {
     "data": {
      "text/plain": [
       "62600"
      ]
     },
     "execution_count": 2,
     "metadata": {},
     "output_type": "execute_result"
    }
   ],
   "source": [
    "def get_budgets(dic):\n",
    "    sum=0\n",
    "    for i in dic:\n",
    "        for k,v in i.items():\n",
    "            if k == \"budget\":\n",
    "                sum +=v\n",
    "    return sum\n",
    "get_budgets([\n",
    "{ 'name': 'John', 'age': 21, 'budget': 29000 },\n",
    "{ 'name': 'Steve', 'age': 32, 'budget': 32000 },\n",
    "{ 'name': 'Martin', 'age': 16, 'budget': 1600 }\n",
    "])"
   ]
  },
  {
   "cell_type": "markdown",
   "id": "4f89a1b2",
   "metadata": {},
   "source": [
    "### Q 3 Create a function that takes a string and returns a string with its letters in alphabetical order.\n",
    "    Examples\n",
    "    alphabet_soup('hello') ➞ 'ehllo'\n",
    "    alphabet_soup('edabit') ➞ 'abdeit'\n",
    "    alphabet_soup('hacker') ➞ 'acehkr'\n",
    "    alphabet_soup('geek') ➞ 'eegk'\n",
    "    alphabet_soup('javascript') ➞ 'aacijprstv'"
   ]
  },
  {
   "cell_type": "code",
   "execution_count": 3,
   "id": "41f199aa",
   "metadata": {},
   "outputs": [
    {
     "data": {
      "text/plain": [
       "'acehkr'"
      ]
     },
     "execution_count": 3,
     "metadata": {},
     "output_type": "execute_result"
    }
   ],
   "source": [
    "def alphabet_soup(string):\n",
    "    return ''.join(sorted(string))\n",
    "alphabet_soup(\"hacker\")"
   ]
  },
  {
   "cell_type": "markdown",
   "id": "7ad05afe",
   "metadata": {},
   "source": [
    "### Q 4 Suppose that you invest $10,000 for 10 years at an interest rate of 6% compounded monthly. What will be the value of your investment at the end of the 10 year period?\n",
    "    Create a function that accepts the principal p, the term in years t, the interest rate r, and the number of compounding periods per year n. The function returns the value at the end of term rounded to the nearest cent.\n",
    "    For the example above:\n",
    "    compound_interest(10000, 10, 0.06, 12) ➞ 18193.97\n",
    "    Note that the interest rate is given as a decimal and n=12 because with monthly compounding there are 12 periods per year. Compounding can also be done annually, quarterly, weekly, or daily.\n",
    "    Examples\n",
    "    compound_interest(100, 1, 0.05, 1) ➞ 105.0\n",
    "\n",
    "    compound_interest(3500, 15, 0.1, 4) ➞ 15399.26\n",
    "\n",
    "    compound_interest(100000, 20, 0.15, 365) ➞ 2007316.26\n"
   ]
  },
  {
   "cell_type": "code",
   "execution_count": 4,
   "id": "924681ba",
   "metadata": {},
   "outputs": [
    {
     "data": {
      "text/plain": [
       "15399.26"
      ]
     },
     "execution_count": 4,
     "metadata": {},
     "output_type": "execute_result"
    }
   ],
   "source": [
    "# FV = PV (1 + r / n)nt\n",
    "# Here, PV = Present Value (Initial investment), \n",
    "#r = rate of interest, \n",
    "#n = number of times the amount is compounding,\n",
    "#t = time in years.\n",
    "\n",
    "def compound_interest(prn,yrs,rt,cp):\n",
    "    val = prn*(1+(rt/cp))**(yrs*cp)\n",
    "    return round(val,2)\n",
    "compound_interest(3500, 15, 0.1, 4)"
   ]
  },
  {
   "cell_type": "markdown",
   "id": "5e502488",
   "metadata": {},
   "source": [
    "### Q 5 Write a function that takes a list of elements and returns only the integers.\n",
    "    Examples\n",
    "    return_only_integer([9, 2, 'space', 'car', 'lion', 16]) ➞ [9, 2, 16]\n",
    "    return_only_integer(['hello', 81, 'basketball', 123, 'fox']) ➞ [81, 123]\n",
    "    return_only_integer([10, '121', 56, 20, 'car', 3, 'lion']) ➞ [10, 56, 20, 3]\n",
    "    return_only_integer(['String', True, 3.3, 1]) ➞ [1]"
   ]
  },
  {
   "cell_type": "code",
   "execution_count": 5,
   "id": "5116b6c5",
   "metadata": {},
   "outputs": [
    {
     "data": {
      "text/plain": [
       "[81, 123]"
      ]
     },
     "execution_count": 5,
     "metadata": {},
     "output_type": "execute_result"
    }
   ],
   "source": [
    "def return_only_integer(lst):\n",
    "    ls = []\n",
    "    for i in lst:\n",
    "        if type(i) == int:\n",
    "            ls.append(i)\n",
    "    return ls\n",
    "return_only_integer(['hello', 81, 'basketball', 123, 'fox'])"
   ]
  }
 ],
 "metadata": {
  "kernelspec": {
   "display_name": "Python 3",
   "language": "python",
   "name": "python3"
  },
  "language_info": {
   "codemirror_mode": {
    "name": "ipython",
    "version": 3
   },
   "file_extension": ".py",
   "mimetype": "text/x-python",
   "name": "python",
   "nbconvert_exporter": "python",
   "pygments_lexer": "ipython3",
   "version": "3.8.8"
  }
 },
 "nbformat": 4,
 "nbformat_minor": 5
}
