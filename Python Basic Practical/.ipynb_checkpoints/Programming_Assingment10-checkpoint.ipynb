{
 "cells": [
  {
   "cell_type": "markdown",
   "id": "c56a070d",
   "metadata": {},
   "source": [
    "### Q. 1.\tWrite a Python program to find sum of elements in list?"
   ]
  },
  {
   "cell_type": "code",
   "execution_count": 1,
   "id": "a2d3514f",
   "metadata": {},
   "outputs": [
    {
     "name": "stdout",
     "output_type": "stream",
     "text": [
      "Sum of all elements in given list:  74\n"
     ]
    }
   ],
   "source": [
    "list = [11,5,17,18,23]\n",
    "total = sum(list)\n",
    "print(\"Sum of all elements in given list: \",total)"
   ]
  },
  {
   "cell_type": "markdown",
   "id": "540e8767",
   "metadata": {},
   "source": [
    "### Q. 2.\tWrite a Python program to  Multiply all numbers in the list?"
   ]
  },
  {
   "cell_type": "code",
   "execution_count": 5,
   "id": "2d96f1b7",
   "metadata": {},
   "outputs": [
    {
     "name": "stdout",
     "output_type": "stream",
     "text": [
      "Multipy of all number is: 387090\n"
     ]
    }
   ],
   "source": [
    "list = [11,5,17,18,23]\n",
    "total = 1\n",
    "for i in list:\n",
    "    total = i * total\n",
    "print(\"Multipy of all number is: {}\".format(total))"
   ]
  },
  {
   "cell_type": "markdown",
   "id": "a5d11697",
   "metadata": {},
   "source": [
    "### Q. 3.\tWrite a Python program to find smallest number in a list?"
   ]
  },
  {
   "cell_type": "code",
   "execution_count": 7,
   "id": "80f0ce4d",
   "metadata": {},
   "outputs": [
    {
     "name": "stdout",
     "output_type": "stream",
     "text": [
      "Smallest number in a list is: 5\n"
     ]
    }
   ],
   "source": [
    "list = [11,5,17,18,23]\n",
    "print(\"Smallest number in a list is: {}\".format(min(list)))"
   ]
  },
  {
   "cell_type": "markdown",
   "id": "2fe3b999",
   "metadata": {},
   "source": [
    "### Q. 4.\tWrite a Python program to find smallest number in a list?"
   ]
  },
  {
   "cell_type": "code",
   "execution_count": 8,
   "id": "ec326f0b",
   "metadata": {},
   "outputs": [
    {
     "name": "stdout",
     "output_type": "stream",
     "text": [
      "Largest number in a list is: 23\n"
     ]
    }
   ],
   "source": [
    "list = [11,5,17,18,23]\n",
    "print(\"Largest number in a list is: {}\".format(max(list)))"
   ]
  },
  {
   "cell_type": "markdown",
   "id": "19708798",
   "metadata": {},
   "source": [
    "### Q. 5.\tWrite a Python program to find second largest number in a list?"
   ]
  },
  {
   "cell_type": "code",
   "execution_count": 19,
   "id": "c24da183",
   "metadata": {},
   "outputs": [
    {
     "name": "stdout",
     "output_type": "stream",
     "text": [
      "Second largest number is: 18\n"
     ]
    }
   ],
   "source": [
    "list = [11,5,17,18,23]\n",
    "list.sort()\n",
    "print(\"Second largest number is: {}\".format(list[-2]))"
   ]
  },
  {
   "cell_type": "markdown",
   "id": "1fa52c7f",
   "metadata": {},
   "source": [
    "### Q. 6.\tWrite a Python program to find N largest elements from a list?"
   ]
  },
  {
   "cell_type": "code",
   "execution_count": 20,
   "id": "ffacb57d",
   "metadata": {},
   "outputs": [
    {
     "name": "stdout",
     "output_type": "stream",
     "text": [
      "[85, 41]\n"
     ]
    }
   ],
   "source": [
    "def Nmaxelements(list1, N):\n",
    "    final_list = []\n",
    "\n",
    "    for i in range(0, N):\n",
    "        max1 = 0\n",
    "        for j in range(len(list1)):\n",
    "            if list1[j] > max1:\n",
    "                max1 = list1[j];\n",
    "        list1.remove(max1);\n",
    "        final_list.append(max1)\n",
    "    print(final_list)\n",
    "\n",
    "list1 = [2, 6, 41, 85, 0, 3, 7, 6, 10]\n",
    "N = 2\n",
    "Nmaxelements(list1, N)\n"
   ]
  },
  {
   "cell_type": "markdown",
   "id": "e8b73b7c",
   "metadata": {},
   "source": [
    "### Q. 7.\tWrite a Python program to print even numbers in a list?"
   ]
  },
  {
   "cell_type": "code",
   "execution_count": 9,
   "id": "a3268874",
   "metadata": {},
   "outputs": [
    {
     "name": "stdout",
     "output_type": "stream",
     "text": [
      "Even number in list: \n",
      "18 20 16 "
     ]
    }
   ],
   "source": [
    "list = [11,5,17,18,23,20,16]\n",
    "print(\"Even number in list: \")\n",
    "for i in list:\n",
    "    if i % 2 == 0:\n",
    "        print(i, end = \" \")"
   ]
  },
  {
   "cell_type": "markdown",
   "id": "3c333b8b",
   "metadata": {},
   "source": [
    "### Q. 8.\tWrite a Python program to print odd numbers in a List?"
   ]
  },
  {
   "cell_type": "code",
   "execution_count": 10,
   "id": "957ff877",
   "metadata": {},
   "outputs": [
    {
     "name": "stdout",
     "output_type": "stream",
     "text": [
      "odd number in list: \n",
      "11 5 17 23 "
     ]
    }
   ],
   "source": [
    "list = [11,5,17,18,23,20,16]\n",
    "print(\"odd number in list: \")\n",
    "for i in list:\n",
    "    if i % 2 != 0:\n",
    "        print(i, end = \" \")"
   ]
  },
  {
   "cell_type": "markdown",
   "id": "552b30f8",
   "metadata": {},
   "source": [
    "### Q. 9.\tWrite a Python program to Remove empty List from List?"
   ]
  },
  {
   "cell_type": "code",
   "execution_count": 22,
   "id": "8b098773",
   "metadata": {},
   "outputs": [
    {
     "name": "stdout",
     "output_type": "stream",
     "text": [
      "The original list is : [5, 6, [], 3, [], [], 9]\n",
      "List after empty list removal : [5, 6, 3, 9]\n"
     ]
    }
   ],
   "source": [
    "test_list = [5, 6, [], 3, [], [], 9]\n",
    "\n",
    "print(\"The original list is : \" + str(test_list))\n",
    "\n",
    "res = [ele for ele in test_list if ele != []]\n",
    " \n",
    "print (\"List after empty list removal : \" + str(res))"
   ]
  },
  {
   "cell_type": "markdown",
   "id": "9b028cbc",
   "metadata": {},
   "source": [
    "### Q. 10.\tWrite a Python program to Cloning or Copying a list?"
   ]
  },
  {
   "cell_type": "code",
   "execution_count": 23,
   "id": "e4731ec0",
   "metadata": {},
   "outputs": [
    {
     "name": "stdout",
     "output_type": "stream",
     "text": [
      "Original List: [4, 8, 2, 10, 15, 18]\n",
      "After Cloning: [4, 8, 2, 10, 15, 18]\n"
     ]
    }
   ],
   "source": [
    "def Cloning(li1):\n",
    "    li_copy = [i for i in li1]\n",
    "    return li_copy\n",
    "li1 = [4, 8, 2, 10, 15, 18]\n",
    "li2 = Cloning(li1)\n",
    "print(\"Original List:\", li1)\n",
    "print(\"After Cloning:\", li2)"
   ]
  },
  {
   "cell_type": "markdown",
   "id": "af8800b0",
   "metadata": {},
   "source": [
    "### Q. 11.\tWrite a Python program to Count occurrences of an element in a list?"
   ]
  },
  {
   "cell_type": "code",
   "execution_count": 18,
   "id": "3c8407a3",
   "metadata": {},
   "outputs": [
    {
     "name": "stdout",
     "output_type": "stream",
     "text": [
      "20 is occured 2 times in list.\n",
      "11 is occured 1 times in list.\n",
      "5 is occured 1 times in list.\n",
      "17 is occured 1 times in list.\n",
      "18 is occured 1 times in list.\n",
      "23 is occured 1 times in list.\n",
      "20 is occured 2 times in list.\n",
      "16 is occured 1 times in list.\n"
     ]
    }
   ],
   "source": [
    "list = [20,11,5,17,18,23,20,16]\n",
    "for i in list:\n",
    "    print(\"{} is occured {} times in list.\".format(i,list.count(i)))"
   ]
  },
  {
   "cell_type": "code",
   "execution_count": null,
   "id": "17fb0c6b",
   "metadata": {},
   "outputs": [],
   "source": []
  }
 ],
 "metadata": {
  "kernelspec": {
   "display_name": "Python 3",
   "language": "python",
   "name": "python3"
  },
  "language_info": {
   "codemirror_mode": {
    "name": "ipython",
    "version": 3
   },
   "file_extension": ".py",
   "mimetype": "text/x-python",
   "name": "python",
   "nbconvert_exporter": "python",
   "pygments_lexer": "ipython3",
   "version": "3.8.8"
  }
 },
 "nbformat": 4,
 "nbformat_minor": 5
}
