{
 "cells": [
  {
   "cell_type": "markdown",
   "id": "d5d41e23",
   "metadata": {},
   "source": [
    "### Q 1 Create a function that takes a list of non-negative integers and strings and return a new list without the strings.\n",
    "    Examples\n",
    "    filter_list([1, 2, 'a', 'b']) ➞ [1, 2]\n",
    "    filter_list([1, 'a', 'b', 0, 15]) ➞ [1, 0, 15]\n",
    "    filter_list([1, 2, 'aasf', '1', '123', 123]) ➞ [1, 2, 123]"
   ]
  },
  {
   "cell_type": "code",
   "execution_count": 1,
   "id": "d1f8b5b3",
   "metadata": {},
   "outputs": [
    {
     "data": {
      "text/plain": [
       "[1, 2, 123]"
      ]
     },
     "execution_count": 1,
     "metadata": {},
     "output_type": "execute_result"
    }
   ],
   "source": [
    "def filter_list(lst):\n",
    "    ls=[]\n",
    "    for i in lst:\n",
    "        if type(i) == int:\n",
    "            ls.append(i)\n",
    "    return ls\n",
    "filter_list([1, 2, 'aasf', '1', '123', 123])"
   ]
  },
  {
   "cell_type": "markdown",
   "id": "cdcab37d",
   "metadata": {},
   "source": [
    "### Q 2 The 'Reverser' takes a string as input and returns that string in reverse order, with the opposite case.\n",
    "    Examples\n",
    "    reverse('Hello World') ➞ 'DLROw OLLEh'\n",
    "    reverse('ReVeRsE') ➞ 'eSrEvEr'\n",
    "    reverse('Radar') ➞ 'RADAr'"
   ]
  },
  {
   "cell_type": "code",
   "execution_count": 2,
   "id": "0b18b94d",
   "metadata": {},
   "outputs": [
    {
     "data": {
      "text/plain": [
       "'eSrEvEr'"
      ]
     },
     "execution_count": 2,
     "metadata": {},
     "output_type": "execute_result"
    }
   ],
   "source": [
    "def reverse(string):\n",
    "    string = string[::-1]\n",
    "    return string.swapcase()\n",
    "reverse('ReVeRsE')"
   ]
  },
  {
   "cell_type": "markdown",
   "id": "7b235b78",
   "metadata": {},
   "source": [
    "### Q 3 You can assign variables from lists like this:\n",
    "    lst = [1, 2, 3, 4, 5, 6]\n",
    "    first = lst[0]\n",
    "    middle = lst[1:-1]\n",
    "    last = lst[-1]\n",
    "    print(first) ➞ outputs 1\n",
    "    print(middle) ➞ outputs [2, 3, 4, 5]\n",
    "    print(last) ➞ outputs 6\n",
    "    With Python 3, you can assign variables from lists in a much more succinct way. Create\n",
    "    variables first, middle and last from the given list using destructuring assignment\n",
    "    (check the Resources tab for some examples), where:\n",
    "    first ➞ 1\n",
    "    middle ➞ [2, 3, 4, 5]\n",
    "    last ➞ 6\n",
    "\n",
    "    Your task is to unpack the list writeyourcodehere into three variables, being first,\n",
    "    middle, and last, with middle being everything in between the first and last element. Then\n",
    "    print all three variables."
   ]
  },
  {
   "cell_type": "code",
   "execution_count": 3,
   "id": "a91420ad",
   "metadata": {},
   "outputs": [
    {
     "name": "stdout",
     "output_type": "stream",
     "text": [
      "first:  1\n",
      "middle:  [2, 3, 4, 5]\n",
      "last:  6\n"
     ]
    }
   ],
   "source": [
    "lst = [1, 2, 3, 4, 5, 6]\n",
    "first,*middle,last=lst\n",
    "print(\"first: \",first)\n",
    "print(\"middle: \",middle)\n",
    "print(\"last: \",last)"
   ]
  },
  {
   "cell_type": "markdown",
   "id": "8d69fae8",
   "metadata": {},
   "source": [
    "### Q 4 Write a function that calculates the factorial of a number recursively.\n",
    "    Examples\n",
    "    factorial(5) ➞ 120\n",
    "    factorial(3) ➞ 6\n",
    "    factorial(1) ➞ 1\n",
    "    factorial(0) ➞ 1"
   ]
  },
  {
   "cell_type": "code",
   "execution_count": 4,
   "id": "76de5af4",
   "metadata": {},
   "outputs": [
    {
     "data": {
      "text/plain": [
       "120"
      ]
     },
     "execution_count": 4,
     "metadata": {},
     "output_type": "execute_result"
    }
   ],
   "source": [
    "def factorial(n):     \n",
    "    if n == 0:\n",
    "        return 1\n",
    "    if n <0:\n",
    "        return 'Can not calculate factorial of Negative Number!'\n",
    "    return n * factorial(n-1)\n",
    "\n",
    "factorial(5)"
   ]
  },
  {
   "cell_type": "markdown",
   "id": "a730fa27",
   "metadata": {},
   "source": [
    "### Q 5 Write a function that moves all elements of one type to the end of the list.\n",
    "    Examples\n",
    "    move_to_end([1, 3, 2, 4, 4, 1], 1) ➞ [3, 2, 4, 4, 1, 1]\n",
    "    # Move all the 1s to the end of the array.\n",
    "    move_to_end([7, 8, 9, 1, 2, 3, 4], 9) ➞ [7, 8, 1, 2, 3, 4, 9]\n",
    "    move_to_end(['a', 'a', 'a', 'b'], 'a') ➞ ['b', 'a', 'a', 'a']"
   ]
  },
  {
   "cell_type": "code",
   "execution_count": 5,
   "id": "6eaffe09",
   "metadata": {},
   "outputs": [
    {
     "data": {
      "text/plain": [
       "[7, 8, 1, 2, 3, 4, 9]"
      ]
     },
     "execution_count": 5,
     "metadata": {},
     "output_type": "execute_result"
    }
   ],
   "source": [
    "def move_to_end(lst,n):\n",
    "    lst = lst\n",
    "    for _ in range(len(lst)):\n",
    "        lst.append(lst.pop(lst.index(n)))\n",
    "    return lst\n",
    "move_to_end([7, 8, 9, 1, 2, 3, 4], 9)"
   ]
  }
 ],
 "metadata": {
  "kernelspec": {
   "display_name": "Python 3",
   "language": "python",
   "name": "python3"
  },
  "language_info": {
   "codemirror_mode": {
    "name": "ipython",
    "version": 3
   },
   "file_extension": ".py",
   "mimetype": "text/x-python",
   "name": "python",
   "nbconvert_exporter": "python",
   "pygments_lexer": "ipython3",
   "version": "3.8.8"
  }
 },
 "nbformat": 4,
 "nbformat_minor": 5
}
