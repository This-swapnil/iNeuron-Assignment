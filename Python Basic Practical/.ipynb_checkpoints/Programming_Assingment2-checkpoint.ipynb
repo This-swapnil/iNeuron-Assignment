{
 "cells": [
  {
   "cell_type": "markdown",
   "id": "61227384",
   "metadata": {},
   "source": [
    "### Q. 1.\tWrite a Python program to convert kilometers to miles?"
   ]
  },
  {
   "cell_type": "code",
   "execution_count": 1,
   "id": "877b9b17",
   "metadata": {},
   "outputs": [
    {
     "name": "stdout",
     "output_type": "stream",
     "text": [
      "Enter the distance in KM: 10\n",
      "Distance in miles: 6.213699999999999\n"
     ]
    }
   ],
   "source": [
    "a = int(input(\"Enter the distance in KM: \"))\n",
    "result = a * 0.62137\n",
    "print(\"Distance in miles: {}\".format(result))"
   ]
  },
  {
   "cell_type": "markdown",
   "id": "b2838368",
   "metadata": {},
   "source": [
    "### Q. 2.\tWrite a Python program to convert Celsius to Fahrenheit?"
   ]
  },
  {
   "cell_type": "code",
   "execution_count": 2,
   "id": "030c01f8",
   "metadata": {},
   "outputs": [
    {
     "name": "stdout",
     "output_type": "stream",
     "text": [
      "Enter the temperatures  in celsius : 50\n",
      "Temperatures in fahrenheit: 122.0\n"
     ]
    }
   ],
   "source": [
    "temp = int(input(\"Enter the temperatures  in celsius : \"))\n",
    "f = (temp * 1.8) + 32\n",
    "print(\"Temperatures in fahrenheit: {}\".format(f))"
   ]
  },
  {
   "cell_type": "markdown",
   "id": "091cb2f7",
   "metadata": {},
   "source": [
    "### Q. 3.\tWrite a Python program to display calendar?"
   ]
  },
  {
   "cell_type": "code",
   "execution_count": 3,
   "id": "4f6bbb84",
   "metadata": {},
   "outputs": [
    {
     "name": "stdout",
     "output_type": "stream",
     "text": [
      "Enter the year: 2021\n",
      "                                  2021\n",
      "\n",
      "      January                   February                   March\n",
      "Mo Tu We Th Fr Sa Su      Mo Tu We Th Fr Sa Su      Mo Tu We Th Fr Sa Su\n",
      "             1  2  3       1  2  3  4  5  6  7       1  2  3  4  5  6  7\n",
      " 4  5  6  7  8  9 10       8  9 10 11 12 13 14       8  9 10 11 12 13 14\n",
      "11 12 13 14 15 16 17      15 16 17 18 19 20 21      15 16 17 18 19 20 21\n",
      "18 19 20 21 22 23 24      22 23 24 25 26 27 28      22 23 24 25 26 27 28\n",
      "25 26 27 28 29 30 31                                29 30 31\n",
      "\n",
      "       April                      May                       June\n",
      "Mo Tu We Th Fr Sa Su      Mo Tu We Th Fr Sa Su      Mo Tu We Th Fr Sa Su\n",
      "          1  2  3  4                      1  2          1  2  3  4  5  6\n",
      " 5  6  7  8  9 10 11       3  4  5  6  7  8  9       7  8  9 10 11 12 13\n",
      "12 13 14 15 16 17 18      10 11 12 13 14 15 16      14 15 16 17 18 19 20\n",
      "19 20 21 22 23 24 25      17 18 19 20 21 22 23      21 22 23 24 25 26 27\n",
      "26 27 28 29 30            24 25 26 27 28 29 30      28 29 30\n",
      "                          31\n",
      "\n",
      "        July                     August                  September\n",
      "Mo Tu We Th Fr Sa Su      Mo Tu We Th Fr Sa Su      Mo Tu We Th Fr Sa Su\n",
      "          1  2  3  4                         1             1  2  3  4  5\n",
      " 5  6  7  8  9 10 11       2  3  4  5  6  7  8       6  7  8  9 10 11 12\n",
      "12 13 14 15 16 17 18       9 10 11 12 13 14 15      13 14 15 16 17 18 19\n",
      "19 20 21 22 23 24 25      16 17 18 19 20 21 22      20 21 22 23 24 25 26\n",
      "26 27 28 29 30 31         23 24 25 26 27 28 29      27 28 29 30\n",
      "                          30 31\n",
      "\n",
      "      October                   November                  December\n",
      "Mo Tu We Th Fr Sa Su      Mo Tu We Th Fr Sa Su      Mo Tu We Th Fr Sa Su\n",
      "             1  2  3       1  2  3  4  5  6  7             1  2  3  4  5\n",
      " 4  5  6  7  8  9 10       8  9 10 11 12 13 14       6  7  8  9 10 11 12\n",
      "11 12 13 14 15 16 17      15 16 17 18 19 20 21      13 14 15 16 17 18 19\n",
      "18 19 20 21 22 23 24      22 23 24 25 26 27 28      20 21 22 23 24 25 26\n",
      "25 26 27 28 29 30 31      29 30                     27 28 29 30 31\n",
      "\n"
     ]
    }
   ],
   "source": [
    "import calendar\n",
    "year = int(input(\"Enter the year: \"))\n",
    "print(calendar.calendar(year))"
   ]
  },
  {
   "cell_type": "markdown",
   "id": "5ebcdb5f",
   "metadata": {},
   "source": [
    "### Q. 4.\tWrite a Python program to solve quadratic equation?"
   ]
  },
  {
   "cell_type": "code",
   "execution_count": 4,
   "id": "5c88ed28",
   "metadata": {},
   "outputs": [
    {
     "name": "stdout",
     "output_type": "stream",
     "text": [
      "Enter the value of 'a' 1\n",
      "Enter the value of 'b' 10\n",
      "Enter the value of 'c' -24\n",
      "roots are real and different\n",
      "2.0\n",
      "-12.0\n"
     ]
    }
   ],
   "source": [
    "import math\n",
    "\n",
    "a = int(input(\"Enter the value of 'a' \"))\n",
    "b = int(input(\"Enter the value of 'b' \"))\n",
    "c = int(input(\"Enter the value of 'c' \"))\n",
    "if a == 0:\n",
    "    print(\"Enter value greater than 0 for a\")\n",
    "else:\n",
    "    dis_form = b*b-4*a*c\n",
    "    sqrt_val = math.sqrt(abs(dis_form))\n",
    "\n",
    "    if dis_form > 0:\n",
    "        print(\"roots are real and different\")\n",
    "        print((-b + sqrt_val) / (2 * a))\n",
    "        print((-b - sqrt_val) / (2 * a))\n",
    "    elif dis_form == 0:\n",
    "        print(\"roots are real and same\")\n",
    "        print( -b / (2 * a))\n",
    "    else:\n",
    "        print(\"roots are complex\")\n",
    "        print( -b / (2 * a), \"+i\", sqrt_val)\n",
    "        print( -b / (2 * a), \"-i\", sqrt_val)"
   ]
  },
  {
   "cell_type": "markdown",
   "id": "0ca2cad7",
   "metadata": {},
   "source": [
    "### Q. 5.\tWrite a Python program to swap two variables without temp variable?"
   ]
  },
  {
   "cell_type": "code",
   "execution_count": 5,
   "id": "19b77d6a",
   "metadata": {},
   "outputs": [
    {
     "name": "stdout",
     "output_type": "stream",
     "text": [
      "Enter the 1st number: 10\n",
      "Enter the 2nd number: 15\n",
      "values before swapping: a = 10 and b = 15\n",
      "values after swapping: a = 15 and b = 10\n"
     ]
    }
   ],
   "source": [
    "a = int(input(\"Enter the 1st number: \"))\n",
    "b = int(input(\"Enter the 2nd number: \"))\n",
    "print(\"values before swapping: a = {} and b = {}\".format(a,b))\n",
    "a,b = b, a\n",
    "print(\"values after swapping: a = {} and b = {}\".format(a,b))"
   ]
  },
  {
   "cell_type": "code",
   "execution_count": null,
   "id": "36f3f70c",
   "metadata": {},
   "outputs": [],
   "source": []
  }
 ],
 "metadata": {
  "kernelspec": {
   "display_name": "Python 3",
   "language": "python",
   "name": "python3"
  },
  "language_info": {
   "codemirror_mode": {
    "name": "ipython",
    "version": 3
   },
   "file_extension": ".py",
   "mimetype": "text/x-python",
   "name": "python",
   "nbconvert_exporter": "python",
   "pygments_lexer": "ipython3",
   "version": "3.8.8"
  }
 },
 "nbformat": 4,
 "nbformat_minor": 5
}
