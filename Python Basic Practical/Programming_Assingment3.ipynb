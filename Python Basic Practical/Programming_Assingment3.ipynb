{
 "cells": [
  {
   "cell_type": "markdown",
   "id": "778d51a3",
   "metadata": {},
   "source": [
    "### Q. 1.\tWrite a Python Program to Check if a Number is Positive, Negative or Zero?"
   ]
  },
  {
   "cell_type": "code",
   "execution_count": null,
   "id": "71bf7c6b",
   "metadata": {},
   "outputs": [],
   "source": [
    "number = int(input(\"Enter the Number: \"))\n",
    "if number > 0:\n",
    "    print(\"Number is \\\"positive\\\"\")\n",
    "elif number < 0:\n",
    "    print(\"Number is \\\"Negative\\\"\")\n",
    "else:\n",
    "    print(\"Number is equalt to \\\"Zero\\\"\")"
   ]
  },
  {
   "cell_type": "markdown",
   "id": "7f165983",
   "metadata": {},
   "source": [
    "### Q. 2.\tWrite a Python Program to Check if a Number is Odd or Even?"
   ]
  },
  {
   "cell_type": "code",
   "execution_count": null,
   "id": "67f48c08",
   "metadata": {},
   "outputs": [],
   "source": [
    "number = int(input(\"Enter the Number: \"))\n",
    "if number % 2 == 0:\n",
    "    print(\"Number is \\\"Even\\\"\")\n",
    "else:\n",
    "    print(\"Number is \\\"odd\\\"\")"
   ]
  },
  {
   "cell_type": "markdown",
   "id": "2ea24e8a",
   "metadata": {},
   "source": [
    "### Q. 3.\tWrite a Python Program to Check Leap Year?"
   ]
  },
  {
   "cell_type": "code",
   "execution_count": null,
   "id": "b9382a32",
   "metadata": {},
   "outputs": [],
   "source": [
    "year = int(input(\"Enter the year: \"))\n",
    "if (year % 4 == 0):\n",
    "    if (year % 100 == 0):\n",
    "        if (year % 400 == 0):\n",
    "            print(\"{} is a leap year\".format(year))\n",
    "        else:\n",
    "            print(\"{} is not a leap year\".format(year))\n",
    "    else:\n",
    "        print(\"{} is a leap year\".format(year))\n",
    "else:\n",
    "    print(\"{} year is not a leap year\".format(year))"
   ]
  },
  {
   "cell_type": "markdown",
   "id": "071ee43c",
   "metadata": {},
   "source": [
    "### Q. 4.\tWrite a Python Program to Check Prime Number?"
   ]
  },
  {
   "cell_type": "code",
   "execution_count": null,
   "id": "4a0572ba",
   "metadata": {},
   "outputs": [],
   "source": [
    "number = int(input(\"Enter the number: \"))\n",
    "if number > 1:\n",
    "    for i in range(2, number):\n",
    "        if (number % i) == 0:\n",
    "            print(\"{} is not a prime number\".format(number))\n",
    "            break\n",
    "    else:\n",
    "        print(\"{} is a prime number\".format(number))"
   ]
  },
  {
   "cell_type": "markdown",
   "id": "5bcf6138",
   "metadata": {},
   "source": [
    "### Q. 5.\tWrite a Python Program to Print all Prime Numbers in an Interval of 1-10000?"
   ]
  },
  {
   "cell_type": "code",
   "execution_count": null,
   "id": "633b2bee",
   "metadata": {},
   "outputs": [],
   "source": [
    "start = 1\n",
    "end = 10000\n",
    "print(\"Prime number betweeen {} and {} are: \\n\".format(start, end))\n",
    "for i in range(start, end+1):\n",
    "    if i > 1:\n",
    "        for j in range(2, i):\n",
    "            if i % j == 0:\n",
    "                break\n",
    "        else:\n",
    "            print(i)"
   ]
  }
 ],
 "metadata": {
  "kernelspec": {
   "display_name": "Python 3",
   "language": "python",
   "name": "python3"
  },
  "language_info": {
   "codemirror_mode": {
    "name": "ipython",
    "version": 3
   },
   "file_extension": ".py",
   "mimetype": "text/x-python",
   "name": "python",
   "nbconvert_exporter": "python",
   "pygments_lexer": "ipython3",
   "version": "3.8.8"
  }
 },
 "nbformat": 4,
 "nbformat_minor": 5
}
