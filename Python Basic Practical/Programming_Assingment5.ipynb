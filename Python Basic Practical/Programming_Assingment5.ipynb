{
 "cells": [
  {
   "cell_type": "markdown",
   "id": "584bdb80",
   "metadata": {},
   "source": [
    "### Q.1. Write a Python Program to Find LCM?"
   ]
  },
  {
   "cell_type": "code",
   "execution_count": 1,
   "id": "214b4ca4",
   "metadata": {},
   "outputs": [
    {
     "name": "stdout",
     "output_type": "stream",
     "text": [
      "Enter first number: 12\n",
      "Enter second number: 20\n",
      "The L.C.M. of 12 and 20 is 60\n"
     ]
    }
   ],
   "source": [
    "x = int(input(\"Enter first number: \"))  \n",
    "y = int(input(\"Enter second number: \"))  \n",
    "lcm = 0  \n",
    "if x > y:  \n",
    "    greater = x  \n",
    "else:  \n",
    "    greater = y  \n",
    "while(True):  \n",
    "    if((greater % x == 0) and (greater % y == 0)):  \n",
    "        lcm = greater  \n",
    "        break  \n",
    "    greater += 1 \n",
    "print(\"The L.C.M. of {} and {} is {}\".format(x,y,lcm))"
   ]
  },
  {
   "cell_type": "markdown",
   "id": "2298fa1a",
   "metadata": {},
   "source": [
    "### Q. 2.\tWrite a Python Program to Find HCF?"
   ]
  },
  {
   "cell_type": "code",
   "execution_count": 2,
   "id": "230cede8",
   "metadata": {},
   "outputs": [
    {
     "name": "stdout",
     "output_type": "stream",
     "text": [
      "Enter first number: 12\n",
      "Enter second number: 20\n",
      "The H.C.F of 12 and 20 is 4\n"
     ]
    }
   ],
   "source": [
    "x = int(input(\"Enter first number: \"))  \n",
    "y = int(input(\"Enter second number: \")) \n",
    "\n",
    "if x > y:\n",
    "    smaller = y\n",
    "else:\n",
    "    smaller = x\n",
    "for i in range(1, smaller+1):\n",
    "    if((x % i == 0) and (y % i == 0)):\n",
    "        hcf = i \n",
    "print(\"The H.C.F of {} and {} is {}\".format(x,y,hcf))"
   ]
  },
  {
   "cell_type": "markdown",
   "id": "21035877",
   "metadata": {},
   "source": [
    "### Q. 3.\tWrite a Python Program to Convert Decimal to Binary, Octal and Hexadecimal?"
   ]
  },
  {
   "cell_type": "code",
   "execution_count": 3,
   "id": "5d924a19",
   "metadata": {},
   "outputs": [
    {
     "name": "stdout",
     "output_type": "stream",
     "text": [
      "Enter the number to convert: 55\n",
      "Binary of 55 is: 0b110111\n",
      "octal of 55 is: 0o67\n",
      "hexadecimal of 55 is: 0x37\n"
     ]
    }
   ],
   "source": [
    "number = int(input(\"Enter the number to convert: \"))\n",
    "print(\"Binary of {} is: {}\".format(number, bin(number)))\n",
    "print(\"octal of {} is: {}\".format(number, oct(number)))\n",
    "print(\"hexadecimal of {} is: {}\".format(number, hex(number)))"
   ]
  },
  {
   "cell_type": "markdown",
   "id": "69ac90d9",
   "metadata": {},
   "source": [
    "### Q. 4.\tWrite a Python Program To Find ASCII value of a character?"
   ]
  },
  {
   "cell_type": "code",
   "execution_count": 5,
   "id": "fb44c4a1",
   "metadata": {},
   "outputs": [
    {
     "name": "stdout",
     "output_type": "stream",
     "text": [
      "Enter the character: A\n",
      "ASCII value of the '65' is: \n"
     ]
    }
   ],
   "source": [
    "char = input(\"Enter the character: \")\n",
    "print(\"ASCII value of the '{}' is: \".format(ord(char)))"
   ]
  },
  {
   "cell_type": "markdown",
   "id": "08a8e363",
   "metadata": {},
   "source": [
    "### Q. 5.\tWrite a Python Program to Make a Simple Calculator with 4 basic mathematical operations?"
   ]
  },
  {
   "cell_type": "code",
   "execution_count": 17,
   "id": "29261e08",
   "metadata": {},
   "outputs": [
    {
     "name": "stdout",
     "output_type": "stream",
     "text": [
      "Enter the first number: 10\n",
      "Enter the second number: 2\n",
      "Enter the mathematical operation: division\n",
      "division of 10 and 2 is: 5.0\n"
     ]
    }
   ],
   "source": [
    "num1 = int(input(\"Enter the first number: \"))\n",
    "num2 = int(input(\"Enter the second number: \"))\n",
    "opr = input(\"Enter the mathematical operation: \")\n",
    "res = 0\n",
    "opr = opr.lower()\n",
    "if opr == \"addition\":\n",
    "    res = num1 + num2\n",
    "elif opr == 'subtract':\n",
    "    res = num1 - num2\n",
    "elif opr == 'multiplication':\n",
    "    res = num1 * num2\n",
    "elif opr == 'division':\n",
    "    if num2 == 0:\n",
    "        print(\"Zero Division Error! \\n Enter positive number\")\n",
    "        res = \"Null\"\n",
    "    else:\n",
    "        res = num1 / num2\n",
    "print(\"{} of {} and {} is: {}\".format(opr, num1, num2, res))"
   ]
  }
 ],
 "metadata": {
  "kernelspec": {
   "display_name": "Python 3",
   "language": "python",
   "name": "python3"
  },
  "language_info": {
   "codemirror_mode": {
    "name": "ipython",
    "version": 3
   },
   "file_extension": ".py",
   "mimetype": "text/x-python",
   "name": "python",
   "nbconvert_exporter": "python",
   "pygments_lexer": "ipython3",
   "version": "3.8.8"
  }
 },
 "nbformat": 4,
 "nbformat_minor": 5
}
