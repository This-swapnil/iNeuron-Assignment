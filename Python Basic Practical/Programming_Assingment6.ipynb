{
 "cells": [
  {
   "cell_type": "markdown",
   "id": "dddcdb68",
   "metadata": {},
   "source": [
    "### Q. 1.\tWrite a Python Program to Display Fibonacci Sequence Using Recursion?"
   ]
  },
  {
   "cell_type": "code",
   "execution_count": 1,
   "id": "190fe51d",
   "metadata": {},
   "outputs": [
    {
     "name": "stdout",
     "output_type": "stream",
     "text": [
      "Enter the no of terms: 10\n",
      "Fibonacci sequence:\n",
      "0\n",
      "1\n",
      "1\n",
      "2\n",
      "3\n",
      "5\n",
      "8\n",
      "13\n",
      "21\n",
      "34\n"
     ]
    }
   ],
   "source": [
    "def fibo_rec(n):\n",
    "    if n <= 1:\n",
    "        return n\n",
    "    else:\n",
    "        return(fibo_rec(n-1) + fibo_rec(n-2))\n",
    "\n",
    "nterms = int(input(\"Enter the no of terms: \"))\n",
    "\n",
    "if nterms <= 0:\n",
    "    print(\"Plese enter a positive integer!!\")\n",
    "else:\n",
    "    print(\"Fibonacci sequence:\")\n",
    "    for i in range(nterms):\n",
    "        print(fibo_rec(i))"
   ]
  },
  {
   "cell_type": "markdown",
   "id": "fca023c9",
   "metadata": {},
   "source": [
    "### Q. 2.\tWrite a Python Program to Find Factorial of Number Using Recursion?"
   ]
  },
  {
   "cell_type": "code",
   "execution_count": 7,
   "id": "98b045b8",
   "metadata": {},
   "outputs": [
    {
     "name": "stdout",
     "output_type": "stream",
     "text": [
      "Enter the number: -9\n",
      "Sorry, factorial does not exist for negative numbers!\n",
      "Enter a positive number\n"
     ]
    }
   ],
   "source": [
    "def factorial_rec(n):\n",
    "    if n == 1:\n",
    "        return n\n",
    "    else:\n",
    "        return n*factorial_rec(n-1)\n",
    "\n",
    "number = int(input(\"Enter the number: \"))\n",
    "\n",
    "if number < 0:\n",
    "    print(\"Sorry, factorial does not exist for negative numbers!\\nEnter a positive number\")\n",
    "elif number == 0:\n",
    "    print(\"The factorial of 0 is 1\")\n",
    "else:\n",
    "    print(\"The factorial of {} is: {}\".format(number,factorial_rec(number)))"
   ]
  },
  {
   "cell_type": "markdown",
   "id": "5ca44190",
   "metadata": {},
   "source": [
    "### Q. 3.\tWrite a Python Program to calculate your Body Mass Index?"
   ]
  },
  {
   "cell_type": "code",
   "execution_count": 10,
   "id": "330aa242",
   "metadata": {},
   "outputs": [
    {
     "name": "stdout",
     "output_type": "stream",
     "text": [
      "Input your height in Feet: 5.5\n",
      "Input your weight in Kilogram: 55\n",
      "Your height is 5.5 feet and body weight is 55.0 kg and BMI of your body is: 1.82\n"
     ]
    }
   ],
   "source": [
    "height = float(input(\"Input your height in Feet: \"))\n",
    "weight = float(input(\"Input your weight in Kilogram: \"))\n",
    "bmi = round(weight / (height * height), 2)\n",
    "print(\"Your height is {} feet and body weight is {} kg and BMI of your body is: {}\".format(height,weight,bmi))\n"
   ]
  },
  {
   "cell_type": "markdown",
   "id": "a8135390",
   "metadata": {},
   "source": [
    "### Q. 4.\tWrite a Python Program to calculate the natural logarithm of any number?"
   ]
  },
  {
   "cell_type": "code",
   "execution_count": 11,
   "id": "33b62ac4",
   "metadata": {},
   "outputs": [
    {
     "name": "stdout",
     "output_type": "stream",
     "text": [
      "Enter number: 10\n",
      "Natural logarithm of 10 is 2.302585092994046 :\n"
     ]
    }
   ],
   "source": [
    "import math\n",
    "\n",
    "num = int(input(\"Enter number: \"))\n",
    "print (\"Natural logarithm of {} is {} :\".format(num,math.log(num)))"
   ]
  },
  {
   "cell_type": "markdown",
   "id": "62642462",
   "metadata": {},
   "source": [
    "### Q. 5.\tWrite a Python Program for cube sum of first n natural numbers?"
   ]
  },
  {
   "cell_type": "code",
   "execution_count": 12,
   "id": "92effc5c",
   "metadata": {},
   "outputs": [
    {
     "name": "stdout",
     "output_type": "stream",
     "text": [
      "Enter the number10\n",
      "sum of first 10 natural number is: 3025\n"
     ]
    }
   ],
   "source": [
    "n = int(input(\"Enter the number\"))\n",
    "sum = 0\n",
    "if n>0:\n",
    "    for i in range(1, n+1):\n",
    "        sum +=i*i*i\n",
    "else:\n",
    "    print(\"Enter number greater than 0\")\n",
    "print(\"sum of first {} natural number is: {}\".format(n,sum))"
   ]
  }
 ],
 "metadata": {
  "kernelspec": {
   "display_name": "Python 3",
   "language": "python",
   "name": "python3"
  },
  "language_info": {
   "codemirror_mode": {
    "name": "ipython",
    "version": 3
   },
   "file_extension": ".py",
   "mimetype": "text/x-python",
   "name": "python",
   "nbconvert_exporter": "python",
   "pygments_lexer": "ipython3",
   "version": "3.8.8"
  }
 },
 "nbformat": 4,
 "nbformat_minor": 5
}
