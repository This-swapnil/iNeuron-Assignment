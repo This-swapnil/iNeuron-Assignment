{
 "cells": [
  {
   "cell_type": "markdown",
   "id": "cd19603a",
   "metadata": {},
   "source": [
    "### Q. 1.\tWrite a Python Program to Find the Factorial of a Number?"
   ]
  },
  {
   "cell_type": "code",
   "execution_count": 1,
   "id": "d9785abc",
   "metadata": {},
   "outputs": [
    {
     "name": "stdout",
     "output_type": "stream",
     "text": [
      "Enter a number to calculate Factorial: 5\n",
      "Factorial of number is: 120\n"
     ]
    }
   ],
   "source": [
    "number = int(input(\"Enter a number to calculate Factorial: \"))\n",
    "if number < 0:\n",
    "    print(\"can not calculate factorial for negative number! \\nEnter a positive number\")\n",
    "elif number == 0 or number == 1:\n",
    "    print(\"Factorial of number {} is: {}\".format(number,1))\n",
    "else:\n",
    "    fact = 1\n",
    "    while ( number > 1):\n",
    "        fact *= number\n",
    "        number -= 1\n",
    "    print(\"Factorial of number is: {}\".format(fact))"
   ]
  },
  {
   "cell_type": "markdown",
   "id": "893785fb",
   "metadata": {},
   "source": [
    "### Q. 2.\tWrite a Python Program to Display the multiplication Table?"
   ]
  },
  {
   "cell_type": "code",
   "execution_count": 2,
   "id": "ed078da8",
   "metadata": {},
   "outputs": [
    {
     "name": "stdout",
     "output_type": "stream",
     "text": [
      "Enter the number for printing the table5\n",
      "5 * 1 = 5\n",
      "5 * 2 = 10\n",
      "5 * 3 = 15\n",
      "5 * 4 = 20\n",
      "5 * 5 = 25\n",
      "5 * 6 = 30\n",
      "5 * 7 = 35\n",
      "5 * 8 = 40\n",
      "5 * 9 = 45\n",
      "5 * 10 = 50\n"
     ]
    }
   ],
   "source": [
    "num = int(input(\"Enter the number for printing the table\"))\n",
    "if num<0:\n",
    "    print(\"Enter positive number\")\n",
    "else:\n",
    "    for i in range(1,11):\n",
    "        res = i * num\n",
    "        print(\"{} * {} = {}\".format(num,i,res))"
   ]
  },
  {
   "cell_type": "markdown",
   "id": "a890f2fb",
   "metadata": {},
   "source": [
    "### Q. 3.\tWrite a Python Program to Print the Fibonacci sequence?"
   ]
  },
  {
   "cell_type": "code",
   "execution_count": 3,
   "id": "6e281238",
   "metadata": {},
   "outputs": [
    {
     "name": "stdout",
     "output_type": "stream",
     "text": [
      "Enter the length of the sequence10\n",
      "Fibonacci sequence is: \n",
      "0\n",
      "1\n",
      "1\n",
      "2\n",
      "3\n",
      "5\n",
      "8\n",
      "13\n",
      "21\n"
     ]
    }
   ],
   "source": [
    "nterms = int(input(\"Enter the length of the sequence\"))\n",
    "n1 = 0\n",
    "n2 = 1\n",
    "count = 1\n",
    "\n",
    "if nterms < 0:\n",
    "    print(\"Enter positive number\")\n",
    "elif nterms == 1:\n",
    "    print(\"Fibonacci sequence: {}\".format(nterms))\n",
    "    print(n1)\n",
    "else:\n",
    "    print(\"Fibonacci sequence is: \")\n",
    "    while count < nterms:\n",
    "        print(n1)\n",
    "        nth = n1 + n2\n",
    "        n1 = n2\n",
    "        n2 = nth\n",
    "        count += 1"
   ]
  },
  {
   "cell_type": "markdown",
   "id": "30b44ed5",
   "metadata": {},
   "source": [
    "### Q. 4.\tWrite a Python Program to Check Armstrong Number?"
   ]
  },
  {
   "cell_type": "code",
   "execution_count": 11,
   "id": "5cea31b7",
   "metadata": {},
   "outputs": [
    {
     "name": "stdout",
     "output_type": "stream",
     "text": [
      "Enter a number370\n",
      "370 is a Armstrong number\n"
     ]
    }
   ],
   "source": [
    "num = int(input(\"Enter a number\"))\n",
    "sum = 0\n",
    "temp = num\n",
    "while temp > 0:\n",
    "    digit = temp % 10\n",
    "    sum += digit ** 3\n",
    "    temp //= 10\n",
    "\n",
    "if num == sum :\n",
    "    print(\"{} is a Armstrong number\".format(num))\n",
    "else:\n",
    "    print(\"{} is not a Armstrong number\".format(num))"
   ]
  },
  {
   "cell_type": "markdown",
   "id": "d914bc4c",
   "metadata": {},
   "source": [
    "### Q. 5.\tWrite a Python Program to Find Armstrong Number in an Interval?"
   ]
  },
  {
   "cell_type": "code",
   "execution_count": 10,
   "id": "a0e67b48",
   "metadata": {},
   "outputs": [
    {
     "name": "stdout",
     "output_type": "stream",
     "text": [
      "Enter the starting number100\n",
      "Enter the ending number2000\n",
      "153\n",
      "370\n",
      "371\n",
      "407\n",
      "1634\n"
     ]
    }
   ],
   "source": [
    "lower = int(input(\"Enter the starting number\"))\n",
    "upper = int(input(\"Enter the ending number\"))\n",
    "\n",
    "for num in range(lower, upper + 1):\n",
    "    order = len(str(num))\n",
    "    sum = 0\n",
    "    temp = num\n",
    "    while temp > 0:\n",
    "        digit = temp % 10\n",
    "        sum += digit ** order\n",
    "        temp //= 10\n",
    "    if num == sum:\n",
    "        print(num)"
   ]
  },
  {
   "cell_type": "markdown",
   "id": "e35a37f1",
   "metadata": {},
   "source": [
    "### Q.6.\tWrite a Python Program to Find the Sum of Natural Numbers?"
   ]
  },
  {
   "cell_type": "code",
   "execution_count": 7,
   "id": "9d3aabca",
   "metadata": {},
   "outputs": [
    {
     "name": "stdout",
     "output_type": "stream",
     "text": [
      "Enter the start number:10\n",
      "Enter the end number: 20\n",
      "Sum of natural number from 10 to 20 is: 165\n"
     ]
    }
   ],
   "source": [
    "start = int(input(\"Enter the start number:\"))\n",
    "end = int(input(\"Enter the end number: \"))\n",
    "if start < 0 or end < 0:\n",
    "    print(\"Enter a positive number!!!!\")\n",
    "else:\n",
    "    sum = 0\n",
    "    for i in range(start, end+1):\n",
    "        sum += i\n",
    "    print(\"Sum of natural number from {} to {} is: {}\".format(start, end, sum))"
   ]
  }
 ],
 "metadata": {
  "kernelspec": {
   "display_name": "Python 3",
   "language": "python",
   "name": "python3"
  },
  "language_info": {
   "codemirror_mode": {
    "name": "ipython",
    "version": 3
   },
   "file_extension": ".py",
   "mimetype": "text/x-python",
   "name": "python",
   "nbconvert_exporter": "python",
   "pygments_lexer": "ipython3",
   "version": "3.8.8"
  }
 },
 "nbformat": 4,
 "nbformat_minor": 5
}
