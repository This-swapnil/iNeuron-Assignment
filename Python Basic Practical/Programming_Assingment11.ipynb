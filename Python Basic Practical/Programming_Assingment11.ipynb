{
 "cells": [
  {
   "cell_type": "markdown",
   "id": "147a1e76",
   "metadata": {},
   "source": [
    "### Q. 1.\tWrite a Python program to find words which are greater than given length k?"
   ]
  },
  {
   "cell_type": "code",
   "execution_count": 1,
   "id": "afbc0239",
   "metadata": {},
   "outputs": [
    {
     "name": "stdout",
     "output_type": "stream",
     "text": [
      "['quick', 'brown', 'jumps', 'over', 'lazy']\n"
     ]
    }
   ],
   "source": [
    "def string_k(k, str):\n",
    "    string = []\n",
    "    text = str.split(\" \")\n",
    "    for x in text:\n",
    "        if len(x) > k:\n",
    "            string.append(x)\n",
    "    return string\n",
    "k = 3\n",
    "str =\"The quick brown fox jumps over the lazy dog\"\n",
    "print(string_k(k, str))"
   ]
  },
  {
   "cell_type": "markdown",
   "id": "de9a18e1",
   "metadata": {},
   "source": [
    "### Q. 2.\tWrite a Python program for removing i-th character from a string?"
   ]
  },
  {
   "cell_type": "code",
   "execution_count": 2,
   "id": "f126b8f1",
   "metadata": {},
   "outputs": [
    {
     "name": "stdout",
     "output_type": "stream",
     "text": [
      "swapnlsonawane\n"
     ]
    }
   ],
   "source": [
    "def remove(string, i):\n",
    "    for j in range(len(string)):\n",
    "        if j == i:\n",
    "            string = string.replace(string[i], \"\", 1)\n",
    "    return string\n",
    "\n",
    "string = \"swapnilsonawane\"\n",
    "i = 5\n",
    "print(remove(string, i))"
   ]
  },
  {
   "cell_type": "markdown",
   "id": "1f8a1f58",
   "metadata": {},
   "source": [
    "### Q. 3.\tWrite a Python program to split and join a string?"
   ]
  },
  {
   "cell_type": "code",
   "execution_count": 6,
   "id": "96969131",
   "metadata": {},
   "outputs": [
    {
     "name": "stdout",
     "output_type": "stream",
     "text": [
      "['The', 'quick', 'brown', 'fox', 'jumps', 'over', 'the', 'lazy', 'dog']\n",
      "The-quick-brown-fox-jumps-over-the-lazy-dog\n"
     ]
    }
   ],
   "source": [
    "def split_string(string):\n",
    "    list_string = string.split(' ')\n",
    "    return list_string\n",
    "\n",
    "def join_string(list_string):\n",
    "    string = '-'.join(list_string)\n",
    "    return string\n",
    "\n",
    "\n",
    "string = 'The quick brown fox jumps over the lazy dog'\n",
    "list_string = split_string(string)\n",
    "print(list_string)\n",
    "new_string = join_string(list_string)\n",
    "print(new_string)\n"
   ]
  },
  {
   "cell_type": "markdown",
   "id": "96440837",
   "metadata": {},
   "source": [
    "### Q. 4.\tWrite a Python to check if a given string is binary string or not?"
   ]
  },
  {
   "cell_type": "code",
   "execution_count": 12,
   "id": "95658ed3",
   "metadata": {},
   "outputs": [
    {
     "name": "stdout",
     "output_type": "stream",
     "text": [
      "No\n"
     ]
    }
   ],
   "source": [
    "def check2(string) :\n",
    "    t = '01'\n",
    "    count = 0\n",
    "    for char in string :\n",
    "        if char not in t :\n",
    "            count = 1\n",
    "            break\n",
    "    if count :\n",
    "        print(\"No\")\n",
    "    else :\n",
    "        print(\"Yes\")\n",
    "\n",
    "string = \"001021010001010\"\n",
    "check2(string)"
   ]
  },
  {
   "cell_type": "markdown",
   "id": "44c8b95d",
   "metadata": {},
   "source": [
    "### Q. 5.\tWrite a Python program to find uncommon words from two Strings?"
   ]
  },
  {
   "cell_type": "code",
   "execution_count": 14,
   "id": "ed2773b9",
   "metadata": {},
   "outputs": [
    {
     "name": "stdout",
     "output_type": "stream",
     "text": [
      "['fox', 'dog', 'cat', 'pig']\n"
     ]
    }
   ],
   "source": [
    "def UncommonWords(A, B):\n",
    "    count = {}\n",
    "    for word in A.split():\n",
    "        count[word] = count.get(word, 0) + 1\n",
    "    for word in B.split():\n",
    "        count[word] = count.get(word, 0) + 1\n",
    "    return [word for word in count if count[word] == 1]\n",
    "\n",
    "A = \"The quick brown fox jumps over the lazy dog\"\n",
    "B = \"The quick brown cat jumps over the lazy pig\"\n",
    "\n",
    "print(UncommonWords(A, B))"
   ]
  },
  {
   "cell_type": "markdown",
   "id": "3805fc16",
   "metadata": {},
   "source": [
    "### Q. 6.\tWrite a Python to find all duplicate characters in string?"
   ]
  },
  {
   "cell_type": "code",
   "execution_count": 18,
   "id": "ebea985f",
   "metadata": {},
   "outputs": [
    {
     "name": "stdout",
     "output_type": "stream",
     "text": [
      "Duplicate characters in a given string: \n",
      "l\n"
     ]
    }
   ],
   "source": [
    "string = \"hello\"  \n",
    "   \n",
    "print(\"Duplicate characters in a given string: \")  \n",
    "for i in range(0, len(string)):  \n",
    "    count = 1  \n",
    "    for j in range(i+1, len(string)):  \n",
    "        if(string[i] == string[j] and string[i] != ' '):  \n",
    "            count = count + 1  \n",
    "            string = string[:j] + '0' + string[j+1:]   \n",
    "    if(count > 1 and string[i] != '0'):  \n",
    "        print(string[i])  "
   ]
  },
  {
   "cell_type": "markdown",
   "id": "8896d1cf",
   "metadata": {},
   "source": [
    "### Q. 7.\tWrite a Python Program to check if a string contains any special character?"
   ]
  },
  {
   "cell_type": "code",
   "execution_count": 27,
   "id": "3d93cf82",
   "metadata": {},
   "outputs": [
    {
     "name": "stdout",
     "output_type": "stream",
     "text": [
      "String contains special character\n"
     ]
    }
   ],
   "source": [
    "import re\n",
    "def run(string):\n",
    "    regex = re.compile('[@_!#$%^&*()<>?/\\|}{~:]')\n",
    "    if(regex.search(string)):\n",
    "        print(\"String contains special character\")\n",
    "    else:\n",
    "        print(\"String does not contains any special character\")\n",
    "\n",
    "string = 'sw@pni!#'\n",
    "run(string)\n"
   ]
  },
  {
   "cell_type": "code",
   "execution_count": null,
   "id": "86b994f8",
   "metadata": {},
   "outputs": [],
   "source": []
  }
 ],
 "metadata": {
  "kernelspec": {
   "display_name": "Python 3",
   "language": "python",
   "name": "python3"
  },
  "language_info": {
   "codemirror_mode": {
    "name": "ipython",
    "version": 3
   },
   "file_extension": ".py",
   "mimetype": "text/x-python",
   "name": "python",
   "nbconvert_exporter": "python",
   "pygments_lexer": "ipython3",
   "version": "3.8.8"
  }
 },
 "nbformat": 4,
 "nbformat_minor": 5
}
