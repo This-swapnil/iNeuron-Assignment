{
 "cells": [
  {
   "cell_type": "markdown",
   "id": "5125f199",
   "metadata": {},
   "source": [
    "### Q 1 Create a function that takes a list of strings and integers, and filters out the list so that it returns a list of integers only.\n",
    "    Examples\n",
    "    filter_list([1, 2, 3, 'a', 'b', 4]) ➞ [1, 2, 3, 4]\n",
    "    filter_list(['A', 0, 'Edabit', 1729, 'Python', '1729']) ➞ [0, 1729]\n",
    "    filter_list(['Nothing', 'here']) ➞ []"
   ]
  },
  {
   "cell_type": "code",
   "execution_count": 1,
   "id": "882bd237",
   "metadata": {},
   "outputs": [
    {
     "data": {
      "text/plain": [
       "[0, 1729]"
      ]
     },
     "execution_count": 1,
     "metadata": {},
     "output_type": "execute_result"
    }
   ],
   "source": [
    "def filter_list(lst):\n",
    "    ls = []\n",
    "    for i in lst:\n",
    "        if type(i) == int:\n",
    "            ls.append(i)\n",
    "    return ls\n",
    "\n",
    "\n",
    "filter_list(['A', 0, 'Edabit', 1729, 'Python', '1729'])"
   ]
  },
  {
   "cell_type": "markdown",
   "id": "29915e02",
   "metadata": {},
   "source": [
    "### Q 2 Given a list of numbers, create a function which returns the list but with each element's index in the list added to itself. This means you add 0 to the number at index 0, add 1 to the number at index 1, etc...\n",
    "    Examples\n",
    "    add_indexes([0, 0, 0, 0, 0]) ➞ [0, 1, 2, 3, 4]\n",
    "    add_indexes([1, 2, 3, 4, 5]) ➞ [1, 3, 5, 7, 9]\n",
    "    add_indexes([5, 4, 3, 2, 1]) ➞ [5, 5, 5, 5, 5]"
   ]
  },
  {
   "cell_type": "code",
   "execution_count": 2,
   "id": "e9ec8b7f",
   "metadata": {},
   "outputs": [
    {
     "data": {
      "text/plain": [
       "[5, 5, 5, 5, 5]"
      ]
     },
     "execution_count": 2,
     "metadata": {},
     "output_type": "execute_result"
    }
   ],
   "source": [
    "def add_indexes(lst):\n",
    "    ls = []\n",
    "    idx = 0\n",
    "    for i in lst:\n",
    "        ls.append(i + idx)\n",
    "        idx += 1\n",
    "    return ls\n",
    "\n",
    "\n",
    "add_indexes([5, 4, 3, 2, 1])"
   ]
  },
  {
   "cell_type": "markdown",
   "id": "b55f2b93",
   "metadata": {},
   "source": [
    "### Q 3 Create a function that takes the height and radius of a cone as arguments and returns the volume of the cone rounded to the nearest hundredth. See the resources tab for the formula.\n",
    "\n",
    "    Examples\n",
    "    cone_volume(3, 2) ➞ 12.57\n",
    "\n",
    "    cone_volume(15, 6) ➞ 565.49\n",
    "    cone_volume(18, 0) ➞ 0"
   ]
  },
  {
   "cell_type": "code",
   "execution_count": 3,
   "id": "4cb32bf4",
   "metadata": {},
   "outputs": [
    {
     "data": {
      "text/plain": [
       "565.49"
      ]
     },
     "execution_count": 3,
     "metadata": {},
     "output_type": "execute_result"
    }
   ],
   "source": [
    "import math\n",
    "\n",
    "pi = math.pi\n",
    "\n",
    "\n",
    "def cone_volume(h, r):\n",
    "    return round((pi*r*r*(h/3)),2)\n",
    "cone_volume(15,6)"
   ]
  },
  {
   "cell_type": "markdown",
   "id": "6575b2cd",
   "metadata": {},
   "source": [
    "### Q 4 This Triangular Number Sequence is generated from a pattern of dots that form a triangle.\n",
    "    The first 5 numbers of the sequence, or dots, are:\n",
    "    1, 3, 6, 10, 15\n",
    "    This means that the first triangle has just one dot, the second one has three dots, the third one\n",
    "    has 6 dots and so on.\n",
    "    Write a function that gives the number of dots with its corresponding triangle number of the\n",
    "    sequence.\n",
    "    Examples\n",
    "    triangle(1) ➞ 1\n",
    "    triangle(6) ➞ 21\n",
    "    triangle(215) ➞ 23220\n",
    "    \n",
    "    A Rule We can make a \"Rule\" so we can calculate any triangular number.\n",
    "    First, rearrange the dots like this:\n",
    "\n",
    "    triangular numbers 1 to 5\n",
    "\n",
    "    Then double the number of dots, and form them into a rectangle:\n",
    "\n",
    "    triangular numbers when doubled become n by n+1 rectangles\n",
    "\n",
    "    Now it is easy to work out how many dots: just multiply n by n+1\n",
    "\n",
    "    Dots in rectangle = n(n+1)\n",
    "\n",
    "    But remember we doubled the number of dots, so\n",
    "\n",
    "    Dots in triangle = n(n+1)/2\n",
    "\n",
    "    We can use xn to mean \"dots in triangle n\", so we get the rule:\n",
    "\n",
    "    Rule: xn = n(n+1)/2\n"
   ]
  },
  {
   "cell_type": "code",
   "execution_count": 4,
   "id": "1d792da5",
   "metadata": {},
   "outputs": [
    {
     "data": {
      "text/plain": [
       "21.0"
      ]
     },
     "execution_count": 4,
     "metadata": {},
     "output_type": "execute_result"
    }
   ],
   "source": [
    "def triangle(n):\n",
    "    return n*(n+1)/2\n",
    "triangle(6)"
   ]
  },
  {
   "cell_type": "markdown",
   "id": "623ca7f1",
   "metadata": {},
   "source": [
    "### Q 5 Create a function that takes a list of numbers between 1 and 10 (excluding one number) and returns the missing number.\n",
    "    Examples\n",
    "    missing_num([1, 2, 3, 4, 6, 7, 8, 9, 10]) ➞ 5\n",
    "    missing_num([7, 2, 3, 6, 5, 9, 1, 4, 8]) ➞ 10\n",
    "    missing_num([10, 5, 1, 2, 4, 6, 8, 3, 9]) ➞ 7"
   ]
  },
  {
   "cell_type": "code",
   "execution_count": 5,
   "id": "ed1618cd",
   "metadata": {},
   "outputs": [
    {
     "data": {
      "text/plain": [
       "7"
      ]
     },
     "execution_count": 5,
     "metadata": {},
     "output_type": "execute_result"
    }
   ],
   "source": [
    "def missing_num(lst):\n",
    "    ls = [x for x in range(1,11)]\n",
    "    for i in ls:\n",
    "        if ls[i] not in lst:\n",
    "            return ls[i]\n",
    "missing_num([10, 5, 1, 2, 4, 6, 8, 3, 9])"
   ]
  },
  {
   "cell_type": "code",
   "execution_count": null,
   "id": "7c04cb65",
   "metadata": {},
   "outputs": [],
   "source": []
  }
 ],
 "metadata": {
  "kernelspec": {
   "display_name": "Python 3",
   "language": "python",
   "name": "python3"
  },
  "language_info": {
   "codemirror_mode": {
    "name": "ipython",
    "version": 3
   },
   "file_extension": ".py",
   "mimetype": "text/x-python",
   "name": "python",
   "nbconvert_exporter": "python",
   "pygments_lexer": "ipython3",
   "version": "3.8.8"
  }
 },
 "nbformat": 4,
 "nbformat_minor": 5
}
