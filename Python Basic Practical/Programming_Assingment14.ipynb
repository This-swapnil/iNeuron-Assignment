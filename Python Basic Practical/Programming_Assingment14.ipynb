{
 "cells": [
  {
   "cell_type": "markdown",
   "id": "5ec20bf1",
   "metadata": {},
   "source": [
    "### Q1 Define a class with a generator which can iterate the numbers, which are divisible by 7, between a given range 0 and n."
   ]
  },
  {
   "cell_type": "code",
   "execution_count": 1,
   "id": "9185f09b",
   "metadata": {},
   "outputs": [
    {
     "name": "stdout",
     "output_type": "stream",
     "text": [
      "Enter number: 50\n",
      "0\n",
      "7\n",
      "14\n",
      "21\n",
      "28\n",
      "35\n",
      "42\n",
      "49\n"
     ]
    }
   ],
   "source": [
    "def genrator(n):\n",
    "    i = 0\n",
    "    while i < n:\n",
    "        j = i\n",
    "        i += 1\n",
    "        if j % 7 == 0:\n",
    "            yield j\n",
    "\n",
    "\n",
    "n = int(input(\"Enter number: \"))\n",
    "for i in genrator(n):\n",
    "    print(i)"
   ]
  },
  {
   "cell_type": "markdown",
   "id": "689b0bfe",
   "metadata": {},
   "source": [
    "### Q 2 Write a program to compute the frequency of the words from the input. The output should output after sorting the key alphanumerically.\n",
    "    Suppose the following input is supplied to the program:\n",
    "    New to Python or choosing between Python 2 and Python 3? Read Python 2 or\n",
    "    Python 3.\n",
    "    Then, the output should be:\n",
    "    2:2\n",
    "    3.:1\n",
    "    3?:1\n",
    "    New:1\n",
    "    Python:5\n",
    "    Read:1\n",
    "    and:1\n",
    "    between:1\n",
    "    choosing:1\n",
    "    or:2\n",
    "    to:1"
   ]
  },
  {
   "cell_type": "code",
   "execution_count": 2,
   "id": "7b709d51",
   "metadata": {},
   "outputs": [
    {
     "name": "stdout",
     "output_type": "stream",
     "text": [
      "Enter String: New to Python or choosing between Python 2 and Python 3? Read Python 2 or Python 3.\n",
      "2 : 2 \n",
      "3. : 1 \n",
      "3? : 1 \n",
      "New : 1 \n",
      "Python : 5 \n",
      "Read : 1 \n",
      "and : 1 \n",
      "between : 1 \n",
      "choosing : 1 \n",
      "or : 2 \n",
      "to : 1 \n"
     ]
    }
   ],
   "source": [
    "string = input(\"Enter String: \").split(' ')\n",
    "word = sorted(set(string))\n",
    "for i in word:\n",
    "    print('{} : {} '.format(i, string.count(i)))"
   ]
  },
  {
   "cell_type": "markdown",
   "id": "61323afb",
   "metadata": {},
   "source": [
    "### Q 3 Define a class Person and its two child classes: Male and Female. All classes have a method 'getGender' which can print 'Male' for Male class and 'Female' for Female class."
   ]
  },
  {
   "cell_type": "code",
   "execution_count": 3,
   "id": "de7a29ff",
   "metadata": {},
   "outputs": [
    {
     "name": "stdout",
     "output_type": "stream",
     "text": [
      "Male\n",
      "Female\n"
     ]
    }
   ],
   "source": [
    "class Person(object):\n",
    "    def getGender(self):\n",
    "        return \"None\"\n",
    "\n",
    "\n",
    "class Male(Person):\n",
    "    def getGender(self):\n",
    "        return \"Male\"\n",
    "\n",
    "\n",
    "class Female(Person):\n",
    "    def getGender(self):\n",
    "        return \"Female\"\n",
    "\n",
    "\n",
    "m = Male()\n",
    "f = Female()\n",
    "print(m.getGender())\n",
    "print(f.getGender())"
   ]
  },
  {
   "cell_type": "markdown",
   "id": "d2637316",
   "metadata": {},
   "source": [
    "### Q 4 Please write a program to generate all sentences where subject is in [\"I\", \"You\"] and verb is in ['Play', \"Love\"] and the object is in [\"Hockey\",\"Football\"]."
   ]
  },
  {
   "cell_type": "code",
   "execution_count": 4,
   "id": "ee99a854",
   "metadata": {},
   "outputs": [
    {
     "name": "stdout",
     "output_type": "stream",
     "text": [
      "I Play Hockey\n",
      "I Play Football\n",
      "I Love Hockey\n",
      "I Love Football\n",
      "You Play Hockey\n",
      "You Play Football\n",
      "You Love Hockey\n",
      "You Love Football\n"
     ]
    }
   ],
   "source": [
    "subject = [\"I\", \"You\"]\n",
    "verb = ['Play', 'Love']\n",
    "Object = ['Hockey', 'Football']\n",
    "for i in subject:\n",
    "    for j in verb:\n",
    "        for k in Object:\n",
    "            print(i + ' ' + j + ' ' + k)"
   ]
  },
  {
   "cell_type": "markdown",
   "id": "280168c5",
   "metadata": {},
   "source": [
    "### Q 5 Please write a program to compress and decompress the string \"hello world!hello world!hello world!hello world!\""
   ]
  },
  {
   "cell_type": "code",
   "execution_count": 5,
   "id": "c5f50b75",
   "metadata": {},
   "outputs": [
    {
     "name": "stdout",
     "output_type": "stream",
     "text": [
      "b'x\\x9c\\xcbH\\xcd\\xc9\\xc9W(\\xcf/\\xcaIQ\\xcc \\x82\\r\\x00\\xbd[\\x11\\xf5'\n",
      "b'hello world!hello world!hello world!hello world!'\n"
     ]
    }
   ],
   "source": [
    "import zlib\n",
    "string = \"hello world!hello world!hello world!hello world!\"\n",
    "s = bytes(string,'utf-8')\n",
    "compress = zlib.compress(s)\n",
    "print(compress)\n",
    "decompress = zlib.decompress(compress)\n",
    "print(decompress)"
   ]
  },
  {
   "cell_type": "code",
   "execution_count": null,
   "id": "1ed23c9f",
   "metadata": {},
   "outputs": [],
   "source": []
  }
 ],
 "metadata": {
  "kernelspec": {
   "display_name": "Python 3",
   "language": "python",
   "name": "python3"
  },
  "language_info": {
   "codemirror_mode": {
    "name": "ipython",
    "version": 3
   },
   "file_extension": ".py",
   "mimetype": "text/x-python",
   "name": "python",
   "nbconvert_exporter": "python",
   "pygments_lexer": "ipython3",
   "version": "3.8.8"
  }
 },
 "nbformat": 4,
 "nbformat_minor": 5
}
