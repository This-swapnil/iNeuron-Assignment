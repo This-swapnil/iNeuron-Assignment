{
 "cells": [
  {
   "cell_type": "markdown",
   "id": "3f866b87",
   "metadata": {},
   "source": [
    "#### Q 1. Given a list of numbers, create a function that removes 25% from every number in the list except the smallest number, and adds the total amount removed to the smallest number.\n",
    "\n",
    "    Examples\n",
    "\n",
    "    show_the_love([4, 1, 4]) ➞ [3, 3, 3]\n",
    "\n",
    "    show_the_love([16, 10, 8]) ➞ [12, 7.5, 14.5]\n",
    "\n",
    "    show_the_love([2, 100]) ➞ [27, 75]"
   ]
  },
  {
   "cell_type": "code",
   "execution_count": 3,
   "id": "d2644ace",
   "metadata": {},
   "outputs": [
    {
     "data": {
      "text/plain": [
       "[12.0, 7.5, 14.5]"
      ]
     },
     "execution_count": 3,
     "metadata": {},
     "output_type": "execute_result"
    }
   ],
   "source": [
    "def show_the_love(num):\n",
    "    mn = min(num)\n",
    "    index = num.index(mn)\n",
    "    total_remove = 0\n",
    "    for i in range(len(num)):\n",
    "        if num[i] != mn:\n",
    "            total_remove = total_remove + num[i] * 0.25\n",
    "            num[i] = num[i] - (num[i] * 0.25)\n",
    "    num[index] = num[index] + total_remove\n",
    "    return num\n",
    "show_the_love([16,10,8])"
   ]
  },
  {
   "cell_type": "markdown",
   "id": "b90fbbe5",
   "metadata": {},
   "source": [
    "#### Q 2. Create a function that takes in two words as input and returns a list of three elements, in the following order:\n",
    "\n",
    "   1.Shared letters between two words.\n",
    "   \n",
    "   2.Letters unique to word 1.\n",
    "   \n",
    "   3.Letters unique to word 2.\n",
    "\n",
    "Each element should have unique letters, and have each letter be alphabetically sorted.\n",
    "\n",
    "    Examples\n",
    "\n",
    "    letters(\"sharp\", \"soap\") ➞ [\"aps\", \"hr\", \"o\"]\n",
    "\n",
    "    letters(\"board\", \"bored\") ➞ [\"bdor\", \"a\", \"e\"]\n",
    "\n",
    "    letters(\"happiness\", \"envelope\") ➞ [\"enp\", \"ahis\", \"lov\"]\n",
    "\n",
    "    letters(\"kerfuffle\", \"fluffy\") ➞ [\"flu\", \"ekr\", \"y\"]\n",
    "\n",
    "    #Even with multiple matching letters (e.g. 3 f's), there should \n",
    "     only exist a single \"f\" in your first element.\n",
    "\n",
    "    letters(\"match\", \"ham\") ➞ [\"ahm\", \"ct\", \"\"]\n",
    "\n",
    "     \"ham\" does not contain any letters that are not found already \n",
    "     in \"match\"."
   ]
  },
  {
   "cell_type": "code",
   "execution_count": 13,
   "id": "62905199",
   "metadata": {},
   "outputs": [
    {
     "data": {
      "text/plain": [
       "['enp', 'ahis', 'lov']"
      ]
     },
     "execution_count": 13,
     "metadata": {},
     "output_type": "execute_result"
    }
   ],
   "source": [
    "def letters(ltr1,ltr2):\n",
    "    ltr1 = set(ltr1)\n",
    "    ltr2=set(ltr2)\n",
    "    ltr3 = []\n",
    "    s=''\n",
    "    for i in ltr1:\n",
    "        if i in ltr2:\n",
    "            s+=i\n",
    "    s=''.join(sorted(s))\n",
    "    a=''.join(sorted(ltr1.difference(ltr2)))\n",
    "    b=''.join(sorted(ltr2.difference(ltr1)))\n",
    "    ltr3.append(s)\n",
    "    ltr3.append(a)\n",
    "    ltr3.append(b)\n",
    "    return ltr3\n",
    "letters(\"happiness\", \"envelope\")"
   ]
  },
  {
   "cell_type": "markdown",
   "id": "7cf7317d",
   "metadata": {},
   "source": [
    "#### Q 3. Write a function that pairs the first number in an array with the last, the second number with the second to last, etc.\n",
    "\n",
    "    Examples\n",
    "\n",
    "    pairs([1, 2, 3, 4, 5, 6, 7]) ➞ [[1, 7], [2, 6], [3, 5], [4, 4]]\n",
    "\n",
    "    pairs([1, 2, 3, 4, 5, 6]) ➞ [[1, 6], [2, 5], [3, 4]]\n",
    "\n",
    "    pairs([5, 9, 8, 1, 2]) ➞ [[5, 2], [9, 1], [8, 8]]\n",
    "\n",
    "    pairs([]) ➞ []"
   ]
  },
  {
   "cell_type": "code",
   "execution_count": 40,
   "id": "992c8c07",
   "metadata": {},
   "outputs": [
    {
     "data": {
      "text/plain": [
       "[[5, 2], [9, 1], [8, 8]]"
      ]
     },
     "execution_count": 40,
     "metadata": {},
     "output_type": "execute_result"
    }
   ],
   "source": [
    "def pairs(lst):\n",
    "    r = lst[::-1]\n",
    "    ls = []\n",
    "    l = []\n",
    "    if len(lst) %2 == 0:\n",
    "        length = int(len(lst)/2)\n",
    "    else:\n",
    "        length = int(len(lst)/2) +1\n",
    "    for i in range(length):\n",
    "        ls.append(lst[i])\n",
    "        ls.append(r[i])\n",
    "    i = 0\n",
    "    while i < len(ls):\n",
    "        l.append(ls[i:i + 2])\n",
    "        i += 2\n",
    "    return l\n",
    "pairs([5, 9, 8, 1, 2])"
   ]
  },
  {
   "cell_type": "markdown",
   "id": "dc24384a",
   "metadata": {},
   "source": [
    "#### Q 4. Write a function that adds two numbers. The catch, however, is that the numbers will be strings.\n",
    "\n",
    "    Examples\n",
    "\n",
    "    add_str_nums(\"4\", \"5\") ➞ \"9\"\n",
    "\n",
    "    add_str_nums(\"abcdefg\", \"3\") ➞ \"-1\"\n",
    "\n",
    "    add_str_nums(\"1\", \"\") ➞ \"1\"\n",
    "\n",
    "    add_str_nums(\"1874682736267235927359283579235789257\", \"32652983572985729\") ➞ \"1874682736267235927391936562808774986\""
   ]
  },
  {
   "cell_type": "code",
   "execution_count": 50,
   "id": "e171965b",
   "metadata": {},
   "outputs": [
    {
     "data": {
      "text/plain": [
       "'1874682736267235927391936562808774986'"
      ]
     },
     "execution_count": 50,
     "metadata": {},
     "output_type": "execute_result"
    }
   ],
   "source": [
    "def add_str_nums(num1,num2):\n",
    "    if not num1:\n",
    "        num1=\"0\"\n",
    "    if not num2:\n",
    "        num2=\"0\"\n",
    "    try:  \n",
    "        num1 = int(num1)\n",
    "        num2 = int(num2)\n",
    "        return str(num1+num2)\n",
    "    except:\n",
    "        return \"-1\"\n",
    "add_str_nums(\"1874682736267235927359283579235789257\",\"32652983572985729\")"
   ]
  },
  {
   "cell_type": "markdown",
   "id": "4d6d2993",
   "metadata": {},
   "source": [
    "#### Q 5. lPaeesh le pemu mnxit ehess rtnisg! Oh, sorry, that was supposed to say: Please help me unmix these strings!\n",
    "\n",
    "    Somehow my strings have all become mixed up; every pair of characters has been swapped. Help me undo this so I can understand my strings again.\n",
    "\n",
    "    Examples\n",
    "\n",
    "    unmix(\"123456\") ➞ \"214365\"\n",
    "\n",
    "    unmix(\"hTsii  s aimex dpus rtni.g\") ➞ \"This is a mixed up string.\"\n",
    "\n",
    "    unmix(\"badce\") ➞ \"abcde\""
   ]
  },
  {
   "cell_type": "code",
   "execution_count": 52,
   "id": "b25f6f1f",
   "metadata": {},
   "outputs": [
    {
     "data": {
      "text/plain": [
       "'This is a mixed up string.'"
      ]
     },
     "execution_count": 52,
     "metadata": {},
     "output_type": "execute_result"
    }
   ],
   "source": [
    "def unmix(s):\n",
    "    s=''.join([ s[x:x+2][::-1] for x in range(0, len(s), 2) ])\n",
    "    return s\n",
    "unmix('hTsii  s aimex dpus rtni.g')"
   ]
  }
 ],
 "metadata": {
  "kernelspec": {
   "display_name": "Python 3",
   "language": "python",
   "name": "python3"
  },
  "language_info": {
   "codemirror_mode": {
    "name": "ipython",
    "version": 3
   },
   "file_extension": ".py",
   "mimetype": "text/x-python",
   "name": "python",
   "nbconvert_exporter": "python",
   "pygments_lexer": "ipython3",
   "version": "3.8.8"
  }
 },
 "nbformat": 4,
 "nbformat_minor": 5
}
