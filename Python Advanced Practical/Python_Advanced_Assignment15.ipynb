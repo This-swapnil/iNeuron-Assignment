{
 "cells": [
  {
   "cell_type": "markdown",
   "id": "46dcd60e",
   "metadata": {},
   "source": [
    "#### Q 1. Write a function that returns True if a given name can generate an array of words.\n",
    "\n",
    "    Examples\n",
    "\n",
    "    anagram(\"Justin Bieber\", [\"injures\", \"ebb\", \"it\"]) ➞ True\n",
    "\n",
    "    anagram(\"Natalie Portman\", [\"ornamental\", \"pita\"]) ➞ True\n",
    "\n",
    "    anagram(\"Chris Pratt\", [\"chirps\", \"rat\"]) ➞ False\n",
    "    Not all letters are used\n",
    "\n",
    "    anagram(\"Jeff Goldblum\", [\"jog\", \"meld\", \"bluffs\"]) ➞ False\n",
    "    \"s\" does not exist in the original name"
   ]
  },
  {
   "cell_type": "code",
   "execution_count": null,
   "id": "01f2dbd6",
   "metadata": {},
   "outputs": [],
   "source": []
  }
 ],
 "metadata": {
  "kernelspec": {
   "display_name": "Python 3",
   "language": "python",
   "name": "python3"
  },
  "language_info": {
   "codemirror_mode": {
    "name": "ipython",
    "version": 3
   },
   "file_extension": ".py",
   "mimetype": "text/x-python",
   "name": "python",
   "nbconvert_exporter": "python",
   "pygments_lexer": "ipython3",
   "version": "3.8.8"
  }
 },
 "nbformat": 4,
 "nbformat_minor": 5
}
