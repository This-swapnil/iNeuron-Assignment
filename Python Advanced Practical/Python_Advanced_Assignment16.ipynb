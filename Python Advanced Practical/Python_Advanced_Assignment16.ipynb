{
 "cells": [
  {
   "cell_type": "markdown",
   "id": "35fdf43f",
   "metadata": {},
   "source": [
    "### Q  1. Rondo Form is a type of musical structure, in which there is a recurring theme/refrain, notated as A. Here are the rules for valid rondo forms:\n",
    "\n",
    "    - Rondo forms always start and end with an A section.\n",
    "    - In between the A sections, there should be contrasting sections notated as B, then C, then D, etc... No letter should be skipped.\n",
    "    - There shouldn't be any repeats in the sequence (such as ABBACCA).\n",
    "\n",
    "    Create a function which validates whether a given string is a valid Rondo Form.\n",
    "\n",
    "    Examples\n",
    "\n",
    "    valid_rondo(\"ABACADAEAFAGAHAIAJA\") ➞ True\n",
    "\n",
    "    valid_rondo(\"ABA\") ➞ True\n",
    "\n",
    "    valid_rondo(\"ABBACCA\") ➞ False\n",
    "\n",
    "    valid_rondo(\"ACAC\") ➞ False\n",
    "\n",
    "    valid_rondo(\"A\") ➞ False\n"
   ]
  },
  {
   "cell_type": "code",
   "execution_count": 1,
   "id": "09a5dbf4",
   "metadata": {},
   "outputs": [
    {
     "data": {
      "text/plain": [
       "True"
      ]
     },
     "execution_count": 1,
     "metadata": {},
     "output_type": "execute_result"
    }
   ],
   "source": [
    "def vaild_rondo(string):\n",
    "    ls = []\n",
    "    for i in string:\n",
    "        ls.append(i)\n",
    "    if ls[0] == \"A\" and ls[-1] == \"A\":\n",
    "        for i in ls[1:-1]:\n",
    "            if ls.count(i)>1:\n",
    "                return False\n",
    "            else:\n",
    "                return True\n",
    "    return False\n",
    "vaild_rondo(\"ABACADAEAFAGAHAIAJA\")"
   ]
  },
  {
   "cell_type": "markdown",
   "id": "3f68ee4f",
   "metadata": {},
   "source": [
    "### Q  2. Create a function that returns the whole of the first sentence which contains a specific word. Include the full stop at the end of the sentence.\n",
    "\n",
    "    Examples\n",
    "\n",
    "    txt = \"I have a cat. I have a mat. Things are going swell.\"\n",
    "\n",
    "    sentence_searcher(txt, \"have\") ➞ \"I have a cat.\"\n",
    "\n",
    "    sentence_searcher(txt, \"MAT\") ➞ \"I have a mat.\"\n",
    "\n",
    "    sentence_searcher(txt, \"things\") ➞ \"Things are going swell.\"\n",
    "\n",
    "    sentence_searcher(txt, \"flat\") ➞ \"\""
   ]
  },
  {
   "cell_type": "code",
   "execution_count": 2,
   "id": "df08f5f2",
   "metadata": {},
   "outputs": [
    {
     "data": {
      "text/plain": [
       "' Things are going swell'"
      ]
     },
     "execution_count": 2,
     "metadata": {},
     "output_type": "execute_result"
    }
   ],
   "source": [
    "def sentence_searcher(txt,word):\n",
    "    t = txt.split('.')\n",
    "    word = word.lower()\n",
    "    for i in t:\n",
    "        x = i.lower()\n",
    "        if word in x:\n",
    "            return i\n",
    "    return \"\"\n",
    "txt = \"I have a cat. I have a mat. Things are going swell.\"\n",
    "sentence_searcher(txt,'things')"
   ]
  },
  {
   "cell_type": "markdown",
   "id": "8c7a4d96",
   "metadata": {},
   "source": [
    "### Q 3. Given a number, find the \"round \"of each digit of the number. An integer is called \"round\" if all its digits except the leftmost (most significant) are equal to zero.\n",
    "\n",
    "- Round numbers: 4000, 1, 9, 800, 90\n",
    "- Not round numbers: 110, 707, 222, 1001\n",
    "\n",
    "    Create a function that takes a number and returns the \"round\" of each digit (except if the digit is zero) as a string. Check out the following examples for more clarification.\n",
    "\n",
    "    Examples\n",
    "\n",
    "    sum_round(101) ➞ \"1 100\"\n",
    "\n",
    "    sum_round(1234) ➞ \"4 30 200 1000\"\n",
    "\n",
    "    sum_round(54210) ➞ \"10 200 4000 50000\"\n"
   ]
  },
  {
   "cell_type": "code",
   "execution_count": 3,
   "id": "2f99ddfc",
   "metadata": {},
   "outputs": [
    {
     "data": {
      "text/plain": [
       "'4 30 200 1000 '"
      ]
     },
     "execution_count": 3,
     "metadata": {},
     "output_type": "execute_result"
    }
   ],
   "source": [
    "def sum_round(n):\n",
    "    n = str(n)\n",
    "    n = n[::-1]\n",
    "    z=''\n",
    "    for i in range(len(n)):\n",
    "        x = int(n[i])*(10**i)\n",
    "        if x != 0:\n",
    "            z += str(x)\n",
    "            z+=\" \"\n",
    "    return z\n",
    "sum_round(1234)"
   ]
  },
  {
   "cell_type": "markdown",
   "id": "08b8a3dd",
   "metadata": {},
   "source": [
    "### Q 4 4. Your task, is to create N x N multiplication table, of size n provided in parameter.\n",
    "\n",
    "    For example, when n is 5, the multiplication table is:\n",
    "\n",
    "       - 1, 2, 3, 4, 5\n",
    "       - 2, 4, 6, 8, 10\n",
    "       - 3, 6, 9, 12, 15\n",
    "       - 4, 8, 12, 16, 20\n",
    "       - 5, 10, 15, 20, 25\n",
    "\n",
    "    This example will result in:\n",
    "\n",
    "    [[1, 2, 3, 4, 5], [2, 4, 6, 8, 10], [3, 6, 9, 12, 15], [4, 8, 12, 16, 20], [5, 10, 15, 20, 25]]\n",
    "\n",
    "    Examples\n",
    "\n",
    "    multiplication_table(1) ➞ [[1]]\n",
    "\n",
    "    multiplication_table(3) ➞ [[1, 2, 3], [2, 4, 6], [3, 6, 9]]\n"
   ]
  },
  {
   "cell_type": "code",
   "execution_count": 4,
   "id": "0737e94b",
   "metadata": {},
   "outputs": [
    {
     "data": {
      "text/plain": [
       "[[1, 2, 3], [2, 4, 6], [3, 6, 9]]"
      ]
     },
     "execution_count": 4,
     "metadata": {},
     "output_type": "execute_result"
    }
   ],
   "source": [
    "def multiplication_table(n):\n",
    "    tmp = []\n",
    "    for i in range(1,n+1):\n",
    "        tab = []\n",
    "        for j in range(1,n+1):\n",
    "            tab.append(i*j)\n",
    "        tmp.append(tab)\n",
    "    return tmp\n",
    "multiplication_table(3)"
   ]
  },
  {
   "cell_type": "markdown",
   "id": "0f1ad125",
   "metadata": {},
   "source": [
    "### Q 5 5. Create a function that returns True if two lines rhyme and False otherwise. For the purposes of this exercise, two lines rhyme if the last word from each sentence contains the same vowels.\n",
    "\n",
    "    Examples\n",
    "\n",
    "    does_rhyme(\"Sam I am!\", \"Green eggs and ham.\") ➞ True\n",
    "\n",
    "    does_rhyme(\"Sam I am!\", \"Green eggs and HAM.\") ➞ True\n",
    "    # Capitalization and punctuation should not matter.\n",
    "\n",
    "    does_rhyme(\"You are off to the races\", \"a splendid day.\") ➞ False\n",
    "\n",
    "    does_rhyme(\"and frequently do?\", \"you gotta move.\") ➞ False\n"
   ]
  },
  {
   "cell_type": "code",
   "execution_count": 6,
   "id": "d457cc1d",
   "metadata": {},
   "outputs": [
    {
     "data": {
      "text/plain": [
       "False"
      ]
     },
     "execution_count": 6,
     "metadata": {},
     "output_type": "execute_result"
    }
   ],
   "source": [
    "def last(s):\n",
    "    s=s.split(\" \")[-1]\n",
    "    n1=\"\"\n",
    "    for i in s:\n",
    "        if (i.isalpha()) == True:\n",
    "            n1+=i\n",
    "    return n1\n",
    "def does_rhyme(str1,str2):\n",
    "    s1 = last(str1)\n",
    "    s2 = last(str2)\n",
    "    if s1[-1].lower() == s2[-1].lower():\n",
    "        return True\n",
    "    return False\n",
    "does_rhyme(\"You are off to the races\", \"a splendid day.\")"
   ]
  }
 ],
 "metadata": {
  "kernelspec": {
   "display_name": "Python 3",
   "language": "python",
   "name": "python3"
  },
  "language_info": {
   "codemirror_mode": {
    "name": "ipython",
    "version": 3
   },
   "file_extension": ".py",
   "mimetype": "text/x-python",
   "name": "python",
   "nbconvert_exporter": "python",
   "pygments_lexer": "ipython3",
   "version": "3.8.8"
  }
 },
 "nbformat": 4,
 "nbformat_minor": 5
}
