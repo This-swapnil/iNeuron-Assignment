{
 "cells": [
  {
   "cell_type": "markdown",
   "id": "d07f2eae",
   "metadata": {},
   "source": [
    "### Q 1. Given a sentence as txt, return True if any two adjacent words have this property: One word ends with a vowel, while the word immediately after begins with a vowel (a e i o u).\n",
    "\n",
    "    Examples\n",
    "\n",
    "    vowel_links(\"a very large appliance\") ➞ True\n",
    "\n",
    "    vowel_links(\"go to edabit\") ➞ True\n",
    "\n",
    "    vowel_links(\"an open fire\") ➞ False\n",
    "\n",
    "    vowel_links(\"a sudden applause\") ➞ False\n"
   ]
  },
  {
   "cell_type": "code",
   "execution_count": 6,
   "id": "a52fb86c",
   "metadata": {},
   "outputs": [
    {
     "data": {
      "text/plain": [
       "True"
      ]
     },
     "execution_count": 6,
     "metadata": {},
     "output_type": "execute_result"
    }
   ],
   "source": [
    "def check(txt):   \n",
    "    vowel = 'aeiou'                        \n",
    "    lst = txt.split(\" \")                   \n",
    "    found = False                          \n",
    "    i = j = 0\n",
    "    while i < len(lst)-1:                  \n",
    "        j = i + 1    \n",
    "        vl = lst[i][-1]\n",
    "        vf = lst[j][0]\n",
    "        if vl in vowel and vf in vowel:\n",
    "            found = True\n",
    "        i += 1\n",
    "        j += 1\n",
    "    return found\n",
    "        \n",
    "check(\"go to edabit\")"
   ]
  },
  {
   "cell_type": "markdown",
   "id": "f285ee70",
   "metadata": {},
   "source": [
    "### Q 2. You are given three inputs: a string, one letter, and a second letter.\n",
    "\n",
    "Write a function that returns True if every instance of the first letter occurs before every instance of the second letter.\n",
    "\n",
    "    Examples\n",
    "\n",
    "    first_before_second(\"a rabbit jumps joyfully\", \"a\", \"j\") ➞ True\n",
    "    # Every instance of \"a\" occurs before every instance of \"j\".\n",
    "\n",
    "    first_before_second(\"knaves knew about waterfalls\", \"k\", \"w\") ➞  True\n",
    "\n",
    "    first_before_second(\"happy birthday\", \"a\", \"y\") ➞ False\n",
    "    # The \"a\" in \"birthday\" occurs after the \"y\" in \"happy\".\n",
    "\n",
    "    first_before_second(\"precarious kangaroos\", \"k\", \"a\") ➞ False\n"
   ]
  },
  {
   "cell_type": "code",
   "execution_count": 13,
   "id": "91493a14",
   "metadata": {},
   "outputs": [
    {
     "data": {
      "text/plain": [
       "False"
      ]
     },
     "execution_count": 13,
     "metadata": {},
     "output_type": "execute_result"
    }
   ],
   "source": [
    "def find_index(text,s):\n",
    "    lst= []\n",
    "    for i in range(len(text)):\n",
    "        if (text[i] == s):\n",
    "            lst.append(i)\n",
    "    return lst\n",
    "def index_difference(list1,list2):\n",
    "    found = False\n",
    "    for i in list1:\n",
    "        for j in list2:\n",
    "            if i < j :\n",
    "                found = True\n",
    "            else:\n",
    "                found = False\n",
    "                break\n",
    "    return found\n",
    "def search(text,ch1,ch2):\n",
    "    idxCh1 = find_index(text,ch1)\n",
    "    idxCh2 = find_index(text,ch2)\n",
    "    return index_difference(idxCh1,idxCh2) \n",
    "search(\"happy birthday\",\"a\",\"y\")"
   ]
  },
  {
   "cell_type": "markdown",
   "id": "0663b2d6",
   "metadata": {},
   "source": [
    "### Q 3. Create a function that returns the characters from a list or string r on odd or even positions, depending on the specifier s. The specifier will be \"odd\" for items on odd positions (1, 3, 5, ...) and \"even\" for items on even positions (2, 4, 6, ...).\n",
    "\n",
    "    Examples\n",
    "\n",
    "    char_at_pos([2, 4, 6, 8, 10], \"even\") ➞ [4, 8]\n",
    "    # 4 & 8 occupy the 2nd & 4th positions\n",
    "\n",
    "    char_at_pos(\"EDABIT\", \"odd\") ➞ \"EAI\"\n",
    "    # \"E\", \"A\" and \"I\" occupy the 1st, 3rd and 5th positions\n",
    "\n",
    "    char_at_pos([\"A\", \"R\", \"B\", \"I\", \"T\", \"R\", \"A\", \"R\", \"I\", \"L\", \"Y\"], \"odd\") ➞ [\"A\", \"B\", \"T\", \"A\", \"I\", \"Y\"]\n"
   ]
  },
  {
   "cell_type": "code",
   "execution_count": 27,
   "id": "25f03153",
   "metadata": {},
   "outputs": [
    {
     "data": {
      "text/plain": [
       "'EAI'"
      ]
     },
     "execution_count": 27,
     "metadata": {},
     "output_type": "execute_result"
    }
   ],
   "source": [
    "def chat_at_position(data,specifier):\n",
    "    resultlist = []\n",
    "    if specifier == 'odd':\n",
    "        for i in range(len(data)):\n",
    "            i = i+1\n",
    "            if i % 2 != 0 :\n",
    "                resultlist.append(data[i-1])\n",
    "    elif specifier == 'even':\n",
    "        for i in range(len(data)):\n",
    "            i = i+1\n",
    "            if i % 2 == 0 :\n",
    "                resultlist.append(data[i-1])\n",
    "    if type(data) == str:\n",
    "        return ''.join(resultlist)\n",
    "    else:\n",
    "        return resultlist\n",
    "chat_at_position(\"EDABIT\",\"odd\")"
   ]
  },
  {
   "cell_type": "markdown",
   "id": "02b1cb41",
   "metadata": {},
   "source": [
    "### Q 4. Write a function that returns the greatest common divisor of all list elements. If the greatest common divisor is 1, return 1.\n",
    "\n",
    "    Examples\n",
    "\n",
    "    GCD([10, 20, 40]) ➞ 10\n",
    "\n",
    "    GCD([1, 2, 3, 100]) ➞ 1\n",
    "\n",
    "    GCD([1024, 192, 2048, 512]) ➞ 64\n"
   ]
  },
  {
   "cell_type": "code",
   "execution_count": 30,
   "id": "056bcf02",
   "metadata": {},
   "outputs": [
    {
     "data": {
      "text/plain": [
       "64"
      ]
     },
     "execution_count": 30,
     "metadata": {},
     "output_type": "execute_result"
    }
   ],
   "source": [
    "def find_gcd(x, y):\n",
    "    while(y):\n",
    "        x, y = y, x % y\n",
    "    return x\n",
    "def gcd(number):     \n",
    "    num1=number[0]\n",
    "    num2=number[1]\n",
    "    gcd=find_gcd(num1,num2)\n",
    "    for i in range(2,len(number)):\n",
    "        gcd=find_gcd(gcd,number[i])    \n",
    "    return gcd\n",
    "gcd([1024, 192, 2048, 512])"
   ]
  },
  {
   "cell_type": "markdown",
   "id": "892bf042",
   "metadata": {},
   "source": [
    "### Q 5. A number/string is a palindrome if the digits/characters are the same when read both forward and backward. Examples include \"racecar\" and 12321. Given a positive number n, check if n or the binary representation of n is palindromic. Return the following:\n",
    "\n",
    "- \"Decimal only.\" if only n is a palindrome.\n",
    "- \"Binary only.\" if only the binary representation of n is a palindrome.\n",
    "- \"Decimal and binary.\" if both are palindromes.\n",
    "- \"Neither!\" if neither are palindromes.\n",
    "\n",
    "    Examples\n",
    "\n",
    "    palindrome_type(1306031) ➞ \"Decimal only.\"\n",
    "    decimal = 1306031\n",
    "    binary  = \"100111110110110101111\"\n",
    "\n",
    "    palindrome_type(427787) ➞ \"Binary only.\"\n",
    "    decimal = 427787\n",
    "    binary  = \"1101000011100001011\"\n",
    "\n",
    "    palindrome_type(313) ➞ \"Decimal and binary.\"\n",
    "    decimal = 313\n",
    "    binary  = 100111001\n",
    "\n",
    "    palindrome_type(934) ➞ \"Neither!\"\n",
    "    decimal = 934\n",
    "    binary  = \"1110100110\"\n"
   ]
  },
  {
   "cell_type": "code",
   "execution_count": 31,
   "id": "9f1e3d46",
   "metadata": {},
   "outputs": [
    {
     "name": "stdout",
     "output_type": "stream",
     "text": [
      "Yes\n"
     ]
    }
   ],
   "source": [
    "def isPalindrome(s):\n",
    "    print('Number is: {}'.format(s))\n",
    "    return s == s[::-1]\n",
    "s = \"1221\"\n",
    "ans = isPalindrome(s)\n",
    " \n",
    "if ans:\n",
    "    print(\"Yes\")\n",
    "else:\n",
    "    print(\"No\")"
   ]
  },
  {
   "cell_type": "code",
   "execution_count": 55,
   "id": "4f65323e",
   "metadata": {},
   "outputs": [
    {
     "name": "stdout",
     "output_type": "stream",
     "text": [
      "Number is: 1110100110\n",
      "Number is: 934\n"
     ]
    },
    {
     "data": {
      "text/plain": [
       "'Neither!'"
      ]
     },
     "execution_count": 55,
     "metadata": {},
     "output_type": "execute_result"
    }
   ],
   "source": [
    "def isPalindrome(s):\n",
    "    ans = False\n",
    "    print('Number is: {}'.format(s))\n",
    "    if s == s[::-1]:\n",
    "        ans = True\n",
    "    return ans\n",
    "def check(num):\n",
    "    an = isPalindrome(bin(num)[2::])\n",
    "    an1 = isPalindrome(str(num))\n",
    "    msg = \"\"\n",
    "    if an and an1:\n",
    "        msg = 'Decimal and binary.'\n",
    "    elif an and not an1:\n",
    "        msg = 'Binary only.'\n",
    "    elif not an and an1:\n",
    "        msg = 'Decimal only.'\n",
    "    else:\n",
    "        msg = 'Neither!'\n",
    "    return msg\n",
    "check(934)"
   ]
  },
  {
   "cell_type": "code",
   "execution_count": 56,
   "id": "ad11dd58",
   "metadata": {},
   "outputs": [
    {
     "name": "stdout",
     "output_type": "stream",
     "text": [
      "Number is: 100111001\n",
      "Number is: 313\n"
     ]
    },
    {
     "data": {
      "text/plain": [
       "'Decimal and binary.'"
      ]
     },
     "execution_count": 56,
     "metadata": {},
     "output_type": "execute_result"
    }
   ],
   "source": [
    "check(313)"
   ]
  },
  {
   "cell_type": "code",
   "execution_count": 57,
   "id": "00e83fd7",
   "metadata": {},
   "outputs": [
    {
     "name": "stdout",
     "output_type": "stream",
     "text": [
      "Number is: 100111110110110101111\n",
      "Number is: 1306031\n"
     ]
    },
    {
     "data": {
      "text/plain": [
       "'Decimal only.'"
      ]
     },
     "execution_count": 57,
     "metadata": {},
     "output_type": "execute_result"
    }
   ],
   "source": [
    "check(1306031)"
   ]
  },
  {
   "cell_type": "code",
   "execution_count": null,
   "id": "3c92723a",
   "metadata": {},
   "outputs": [],
   "source": []
  }
 ],
 "metadata": {
  "kernelspec": {
   "display_name": "Python 3",
   "language": "python",
   "name": "python3"
  },
  "language_info": {
   "codemirror_mode": {
    "name": "ipython",
    "version": 3
   },
   "file_extension": ".py",
   "mimetype": "text/x-python",
   "name": "python",
   "nbconvert_exporter": "python",
   "pygments_lexer": "ipython3",
   "version": "3.8.8"
  }
 },
 "nbformat": 4,
 "nbformat_minor": 5
}
