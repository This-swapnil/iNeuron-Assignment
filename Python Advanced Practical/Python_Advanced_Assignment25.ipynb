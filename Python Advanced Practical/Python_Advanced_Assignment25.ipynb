{
 "cells": [
  {
   "cell_type": "markdown",
   "id": "cc241a9a",
   "metadata": {},
   "source": [
    "### Q 1. Write four functions that directly mutate a list:\n",
    "\n",
    "        1. repeat(lst, n): Repeat lst n times.\n",
    "        2. add(lst, x): Adds x to the end of the lst.\n",
    "        3. remove(lst, m, n): Removes all elements between indices m and n inclusive in lst.\n",
    "        4. concat(lst, x): concatenates lst with x (another list).\n",
    "\n",
    "    Examples\n",
    "\n",
    "    lst = [1, 2, 3, 4]\n",
    "\n",
    "    repeat(lst, 3) ➞ [1, 2, 3, 4, 1, 2, 3, 4, 1, 2, 3, 4] \n",
    "\n",
    "    add(lst, 1) ➞ [1, 2, 3, 4, 1, 2, 3, 4, 1, 2, 3, 4, 1]\n",
    "\n",
    "    remove(lst, 1, 12) ➞ [1]\n",
    "\n",
    "    concat(lst, [3, 4]) ➞ [1, 3, 4]"
   ]
  },
  {
   "cell_type": "code",
   "execution_count": 1,
   "id": "88566b72",
   "metadata": {},
   "outputs": [],
   "source": [
    "def repeat(lst,n):\n",
    "    return lst * n\n",
    "\n",
    "def add(lst, x):\n",
    "    lst.append(x)\n",
    "    return lst\n",
    "\n",
    "def remove(lst,m,n):\n",
    "    del lst[m:n+1]\n",
    "    return lst\n",
    "\n",
    "def concat(lst,lst2):\n",
    "    return lst + lst2\n",
    "    \n",
    "\n",
    "lst = [1,2,3,4]"
   ]
  },
  {
   "cell_type": "code",
   "execution_count": 3,
   "id": "282a5710",
   "metadata": {},
   "outputs": [
    {
     "data": {
      "text/plain": [
       "[1, 2, 3, 4, 1, 2, 3, 4, 1, 2, 3, 4]"
      ]
     },
     "execution_count": 3,
     "metadata": {},
     "output_type": "execute_result"
    }
   ],
   "source": [
    "repeat(lst,3)"
   ]
  },
  {
   "cell_type": "code",
   "execution_count": 4,
   "id": "1b5fd9b9",
   "metadata": {},
   "outputs": [
    {
     "data": {
      "text/plain": [
       "[1, 2, 3, 4, 1]"
      ]
     },
     "execution_count": 4,
     "metadata": {},
     "output_type": "execute_result"
    }
   ],
   "source": [
    "add(lst,1)"
   ]
  },
  {
   "cell_type": "code",
   "execution_count": 5,
   "id": "1224392c",
   "metadata": {},
   "outputs": [
    {
     "data": {
      "text/plain": [
       "[1]"
      ]
     },
     "execution_count": 5,
     "metadata": {},
     "output_type": "execute_result"
    }
   ],
   "source": [
    "remove(lst,1,12)"
   ]
  },
  {
   "cell_type": "code",
   "execution_count": 6,
   "id": "ef0d692b",
   "metadata": {},
   "outputs": [
    {
     "data": {
      "text/plain": [
       "[1, 3, 4]"
      ]
     },
     "execution_count": 6,
     "metadata": {},
     "output_type": "execute_result"
    }
   ],
   "source": [
    "concat(lst, [3, 4])"
   ]
  },
  {
   "cell_type": "markdown",
   "id": "2a7597bf",
   "metadata": {},
   "source": [
    "### Q 2. The classic game of Mastermind is played on a tray on which the Mastermind conceals a code and the Guesser has 10 tries to guess it. The code is a sequence of 4 (or 6, sometimes more) pegs of different colors. Each guess is a corresponding sequence of 4 (or more) pegs of different colors. A guess is \"correct\" when the color of every peg in the guess exactly matches the corresponding peg in the Mastermind's code.\n",
    "\n",
    "    After each guess by the Guesser, the Mastermind will give a score comprising black & white pegs, not arranged in any order:\n",
    "\n",
    "       - Black peg == guess peg matches the color of a code peg in the same position.\n",
    "       - White peg == guess peg matches the color of a code peg in another position.\n",
    "\n",
    "    Create a function that takes two strings, code and guess as arguments, and returns the score in a dictionary.\n",
    "\n",
    "       - The code and guess are strings of numeric digits\n",
    "       - The color of the pegs are represented by numeric digits\n",
    "       - no \"peg\" may be double-scored\n",
    "\n",
    "    Examples\n",
    "\n",
    "    guess_score(\"1423\", \"5678\") ➞ {\"black\": 0, \"white\": 0}\n",
    "\n",
    "    guess_score(\"1423\", \"2222\") ➞ {\"black\": 1, \"white\": 0}\n",
    "\n",
    "    guess_score(\"1423\", \"1234\") ➞ {\"black\": 1, \"white\": 3}\n",
    "\n",
    "    guess_score(\"1423\", \"2211\") ➞ {\"black\": 0, \"white\": 2}"
   ]
  },
  {
   "cell_type": "code",
   "execution_count": 9,
   "id": "c7514635",
   "metadata": {},
   "outputs": [
    {
     "data": {
      "text/plain": [
       "{'black': 1, 'white': 3}"
      ]
     },
     "execution_count": 9,
     "metadata": {},
     "output_type": "execute_result"
    }
   ],
   "source": [
    "def guess_score(code, guesser):\n",
    "    dict = {'black' : 0, 'white' : 0}\n",
    "    BlackCnt = 0\n",
    "    whiteCnt = 0\n",
    "    if len(code) != len(guesser):\n",
    "        print('code and guesser are of not of equal lenth')\n",
    "        return False\n",
    "    code = [code[x] for x in range(len(code))]\n",
    "    for i in range(len(guesser)):\n",
    "        if code[i] == guesser[i]:\n",
    "            code[i] = '-'\n",
    "            BlackCnt += 1 \n",
    "            dict['black'] = BlackCnt\n",
    "    for i in range(len(guesser)):\n",
    "        for j in range(len(code)):\n",
    "            if guesser[i] == code[j]:\n",
    "                code[j] = '-'\n",
    "                whiteCnt += 1\n",
    "                dict['white'] = whiteCnt \n",
    "    return dict\n",
    "guess_score(\"1423\", \"1234\")"
   ]
  },
  {
   "cell_type": "markdown",
   "id": "3d49e90d",
   "metadata": {},
   "source": [
    "### Q 3. Create a function that takes a list lst and a number N and returns a list of two integers from lst whose product equals N.\n",
    "\n",
    "    Examples\n",
    "\n",
    "    two_product([1, 2, -1, 4, 5], 20) ➞ [4, 5]\n",
    "\n",
    "    two_product([1, 2, 3, 4, 5], 10) ➞ [2, 5]\n",
    "\n",
    "    two_product([100, 12, 4, 1, 2], 15) ➞ None"
   ]
  },
  {
   "cell_type": "code",
   "execution_count": 11,
   "id": "a298b231",
   "metadata": {},
   "outputs": [
    {
     "data": {
      "text/plain": [
       "[2, 5]"
      ]
     },
     "execution_count": 11,
     "metadata": {},
     "output_type": "execute_result"
    }
   ],
   "source": [
    "def two_product(lst, n):\n",
    "    lst = sorted(lst,reverse = True)\n",
    "    prod = []\n",
    "    for i in range(len(lst)):\n",
    "        for j in range(i+1,len(lst)):\n",
    "            if lst[i]*lst[j] == n:\n",
    "                prod.append(lst[i])            \n",
    "                prod.append(lst[j])\n",
    "                break            \n",
    "    return sorted(prod)\n",
    "two_product([1, 2, 3, 4, 5], 10)"
   ]
  },
  {
   "cell_type": "markdown",
   "id": "cf058dfb",
   "metadata": {},
   "source": [
    "### Q 4. In this challenge, sort a list containing a series of dates given as strings. Each date is given in the format DD-MM-YYYY_HH:MM:\n",
    "\n",
    "    \"12-02-2012_13:44\"\n",
    "\n",
    "    The priority of criteria used for sorting will be:\n",
    "\n",
    "      - Year\n",
    "      - Month\n",
    "      - Day\n",
    "      - Hours\n",
    "      - Minutes\n",
    "\n",
    "    Given a list lst and a string mode, implement a function that returns:\n",
    "\n",
    "       - if mode is equal to \"ASC\", the list lst sorted in ascending order.\n",
    "       - if mode is equal to \"DSC\", the list lst sorted in descending order.\n",
    "\n",
    "    Examples\n",
    "\n",
    "    sort_dates([\"10-02-2018_12:30\", \"10-02-2016_12:30\", \"10-02-2018_12:15\"], \"ASC\") ➞ [\"10-02-2016_12:30\", \"10-02-2018_12:15\", \"10-02-2018_12:30\"]\n",
    "\n",
    "    sort_dates([\"10-02-2018_12:30\", \"10-02-2016_12:30\", \"10-02-2018_12:15\"], \"DSC\") ➞ [\"10-02-2018_12:30\", \"10-02-2018_12:15\", \"10-02-2016_12:30\"]\n",
    "\n",
    "    sort_dates([\"09-02-2000_10:03\", \"10-02-2000_18:29\", \"01-01-1999_00:55\"], \"ASC\") ➞ [\"01-01-1999_00:55\", \"09-02-2000_10:03\", \"10-02-2000_18:29\"]"
   ]
  },
  {
   "cell_type": "code",
   "execution_count": 12,
   "id": "b680f155",
   "metadata": {},
   "outputs": [
    {
     "data": {
      "text/plain": [
       "['10-02-2016_12:30', '10-02-2018_12:15', '10-02-2018_12:30']"
      ]
     },
     "execution_count": 12,
     "metadata": {},
     "output_type": "execute_result"
    }
   ],
   "source": [
    "import datetime\n",
    "def sort_dates(d, sort):\n",
    "    if sort == 'ASC':\n",
    "        return sorted(d, key=lambda x: datetime.datetime.strptime(x, '%d-%m-%Y_%H:%M'), reverse = False)\n",
    "    elif sort == 'DSC':\n",
    "        return sorted(d, key=lambda x: datetime.datetime.strptime(x, '%d-%m-%Y_%H:%M'), reverse = True)\n",
    "    else:\n",
    "        return 'Enter valid string'\n",
    "sort_dates([\"10-02-2018_12:30\", \"10-02-2016_12:30\", \"10-02-2018_12:15\"], \"ASC\")"
   ]
  },
  {
   "cell_type": "markdown",
   "id": "ce15adca",
   "metadata": {},
   "source": [
    "### Q 5. Write a function that selects all words that have all the same vowels (in any order and/or number) as the first word, including the first word.\n",
    "\n",
    "    Examples\n",
    "\n",
    "    same_vowel_group([\"toe\", \"ocelot\", \"maniac\"]) ➞ [\"toe\", \"ocelot\"]\n",
    "\n",
    "    same_vowel_group([\"many\", \"carriage\", \"emit\", \"apricot\", \"animal\"]) ➞ [\"many\"]\n",
    "\n",
    "    same_vowel_group([\"hoops\", \"chuff\", \"bot\", \"bottom\"]) ➞ [\"hoops\", \"bot\", \"bottom\"]"
   ]
  },
  {
   "cell_type": "code",
   "execution_count": 16,
   "id": "7aeac11e",
   "metadata": {},
   "outputs": [
    {
     "ename": "NameError",
     "evalue": "name 'vowel' is not defined",
     "output_type": "error",
     "traceback": [
      "\u001b[1;31m---------------------------------------------------------------------------\u001b[0m",
      "\u001b[1;31mNameError\u001b[0m                                 Traceback (most recent call last)",
      "\u001b[1;32m<ipython-input-16-917d03831bbc>\u001b[0m in \u001b[0;36m<module>\u001b[1;34m\u001b[0m\n\u001b[0;32m     17\u001b[0m             \u001b[0mresultlst\u001b[0m\u001b[1;33m.\u001b[0m\u001b[0mappend\u001b[0m\u001b[1;33m(\u001b[0m\u001b[0mlst\u001b[0m\u001b[1;33m[\u001b[0m\u001b[0mi\u001b[0m\u001b[1;33m]\u001b[0m\u001b[1;33m)\u001b[0m\u001b[1;33m\u001b[0m\u001b[1;33m\u001b[0m\u001b[0m\n\u001b[0;32m     18\u001b[0m     \u001b[1;32mreturn\u001b[0m \u001b[0mresultlst\u001b[0m\u001b[1;33m\u001b[0m\u001b[1;33m\u001b[0m\u001b[0m\n\u001b[1;32m---> 19\u001b[1;33m \u001b[0msame_vowel_group\u001b[0m\u001b[1;33m(\u001b[0m\u001b[1;33m[\u001b[0m\u001b[1;34m\"hoops\"\u001b[0m\u001b[1;33m,\u001b[0m \u001b[1;34m\"chuff\"\u001b[0m\u001b[1;33m,\u001b[0m \u001b[1;34m\"bot\"\u001b[0m\u001b[1;33m,\u001b[0m \u001b[1;34m\"bottom\"\u001b[0m\u001b[1;33m]\u001b[0m\u001b[1;33m)\u001b[0m\u001b[1;33m\u001b[0m\u001b[1;33m\u001b[0m\u001b[0m\n\u001b[0m",
      "\u001b[1;32m<ipython-input-16-917d03831bbc>\u001b[0m in \u001b[0;36msame_vowel_group\u001b[1;34m(lst)\u001b[0m\n\u001b[0;32m     10\u001b[0m     \u001b[0mvowel\u001b[0m \u001b[1;33m=\u001b[0m \u001b[1;34m'aeiou'\u001b[0m\u001b[1;33m\u001b[0m\u001b[1;33m\u001b[0m\u001b[0m\n\u001b[0;32m     11\u001b[0m     \u001b[0mresultlst\u001b[0m \u001b[1;33m=\u001b[0m \u001b[1;33m[\u001b[0m\u001b[1;33m]\u001b[0m\u001b[1;33m\u001b[0m\u001b[1;33m\u001b[0m\u001b[0m\n\u001b[1;32m---> 12\u001b[1;33m     \u001b[0mtest\u001b[0m \u001b[1;33m=\u001b[0m \u001b[0mfindVowelInWord\u001b[0m\u001b[1;33m(\u001b[0m\u001b[0mlst\u001b[0m\u001b[1;33m[\u001b[0m\u001b[1;36m0\u001b[0m\u001b[1;33m]\u001b[0m\u001b[1;33m)\u001b[0m\u001b[1;33m\u001b[0m\u001b[1;33m\u001b[0m\u001b[0m\n\u001b[0m\u001b[0;32m     13\u001b[0m     \u001b[0mresultlst\u001b[0m\u001b[1;33m.\u001b[0m\u001b[0mappend\u001b[0m\u001b[1;33m(\u001b[0m\u001b[0mlst\u001b[0m\u001b[1;33m[\u001b[0m\u001b[1;36m0\u001b[0m\u001b[1;33m]\u001b[0m\u001b[1;33m)\u001b[0m\u001b[1;33m\u001b[0m\u001b[1;33m\u001b[0m\u001b[0m\n\u001b[0;32m     14\u001b[0m     \u001b[1;32mfor\u001b[0m \u001b[0mi\u001b[0m \u001b[1;32min\u001b[0m \u001b[0mrange\u001b[0m\u001b[1;33m(\u001b[0m\u001b[1;36m1\u001b[0m\u001b[1;33m,\u001b[0m\u001b[0mlen\u001b[0m\u001b[1;33m(\u001b[0m\u001b[0mlst\u001b[0m\u001b[1;33m)\u001b[0m\u001b[1;33m)\u001b[0m\u001b[1;33m:\u001b[0m\u001b[1;33m\u001b[0m\u001b[1;33m\u001b[0m\u001b[0m\n",
      "\u001b[1;32m<ipython-input-16-917d03831bbc>\u001b[0m in \u001b[0;36mfindVowelInWord\u001b[1;34m(word)\u001b[0m\n\u001b[0;32m      2\u001b[0m     \u001b[0mlstvowstr\u001b[0m \u001b[1;33m=\u001b[0m \u001b[1;34m''\u001b[0m\u001b[1;33m\u001b[0m\u001b[1;33m\u001b[0m\u001b[0m\n\u001b[0;32m      3\u001b[0m     \u001b[1;32mfor\u001b[0m \u001b[0mi\u001b[0m \u001b[1;32min\u001b[0m \u001b[0mrange\u001b[0m\u001b[1;33m(\u001b[0m\u001b[0mlen\u001b[0m\u001b[1;33m(\u001b[0m\u001b[0mword\u001b[0m\u001b[1;33m)\u001b[0m\u001b[1;33m)\u001b[0m\u001b[1;33m:\u001b[0m\u001b[1;33m\u001b[0m\u001b[1;33m\u001b[0m\u001b[0m\n\u001b[1;32m----> 4\u001b[1;33m         \u001b[1;32mif\u001b[0m \u001b[0mword\u001b[0m\u001b[1;33m[\u001b[0m\u001b[0mi\u001b[0m\u001b[1;33m]\u001b[0m \u001b[1;32min\u001b[0m \u001b[0mvowel\u001b[0m\u001b[1;33m:\u001b[0m\u001b[1;33m\u001b[0m\u001b[1;33m\u001b[0m\u001b[0m\n\u001b[0m\u001b[0;32m      5\u001b[0m             \u001b[0mlstvowstr\u001b[0m \u001b[1;33m=\u001b[0m \u001b[0mlstvowstr\u001b[0m \u001b[1;33m+\u001b[0m \u001b[0mword\u001b[0m\u001b[1;33m[\u001b[0m\u001b[0mi\u001b[0m\u001b[1;33m]\u001b[0m\u001b[1;33m\u001b[0m\u001b[1;33m\u001b[0m\u001b[0m\n\u001b[0;32m      6\u001b[0m     \u001b[1;32mreturn\u001b[0m \u001b[1;34m''\u001b[0m\u001b[1;33m.\u001b[0m\u001b[0mjoin\u001b[0m\u001b[1;33m(\u001b[0m\u001b[0mset\u001b[0m\u001b[1;33m(\u001b[0m\u001b[0mlstvowstr\u001b[0m\u001b[1;33m)\u001b[0m\u001b[1;33m)\u001b[0m\u001b[1;33m\u001b[0m\u001b[1;33m\u001b[0m\u001b[0m\n",
      "\u001b[1;31mNameError\u001b[0m: name 'vowel' is not defined"
     ]
    }
   ],
   "source": [
    "def findVowelInWord(word):\n",
    "    lstvowstr = ''    \n",
    "    for i in range(len(word)):        \n",
    "        if word[i] in vowel:\n",
    "            lstvowstr = lstvowstr + word[i]\n",
    "    return ''.join(set(lstvowstr))\n",
    "\n",
    "\n",
    "def same_vowel_group(lst):\n",
    "    vowel = 'aeiou'\n",
    "    resultlst = []\n",
    "    test = findVowelInWord(lst[0])   \n",
    "    resultlst.append(lst[0])\n",
    "    for i in range(1,len(lst)):\n",
    "        vowWord = findVowelInWord(lst[i])\n",
    "        if test == vowWord:\n",
    "            resultlst.append(lst[i])\n",
    "    return resultlst\n",
    "same_vowel_group([\"hoops\", \"chuff\", \"bot\", \"bottom\"])"
   ]
  },
  {
   "cell_type": "markdown",
   "id": "d4b8945e",
   "metadata": {},
   "source": [
    "### Q 6. Create a function that takes a list of more than three numbers and returns the Least Common Multiple (LCM).\n",
    "\n",
    "    Examples\n",
    "\n",
    "    lcm_of_list([1, 2, 3, 4, 5, 6, 7, 8, 9, 10]) ➞ 2520\n",
    "\n",
    "    lcm_of_list([13, 6, 17, 18, 19, 20, 37]) ➞ 27965340\n",
    "\n",
    "    lcm_of_list([44, 64, 12, 17, 65]) ➞ 2333760"
   ]
  },
  {
   "cell_type": "code",
   "execution_count": 15,
   "id": "dd3b53fa",
   "metadata": {},
   "outputs": [
    {
     "data": {
      "text/plain": [
       "27965340"
      ]
     },
     "execution_count": 15,
     "metadata": {},
     "output_type": "execute_result"
    }
   ],
   "source": [
    "from math import gcd\n",
    "def lcm_of_list(lst):  \n",
    "    lcm = 1\n",
    "    for i in lst:\n",
    "        lcm = lcm*i//gcd(lcm, i)\n",
    "    return lcm\n",
    "lcm_of_list([13, 6, 17, 18, 19, 20, 37])"
   ]
  }
 ],
 "metadata": {
  "kernelspec": {
   "display_name": "Python 3",
   "language": "python",
   "name": "python3"
  },
  "language_info": {
   "codemirror_mode": {
    "name": "ipython",
    "version": 3
   },
   "file_extension": ".py",
   "mimetype": "text/x-python",
   "name": "python",
   "nbconvert_exporter": "python",
   "pygments_lexer": "ipython3",
   "version": "3.8.8"
  }
 },
 "nbformat": 4,
 "nbformat_minor": 5
}
