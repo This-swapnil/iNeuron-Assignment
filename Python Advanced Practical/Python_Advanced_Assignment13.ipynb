{
 "cells": [
  {
   "cell_type": "markdown",
   "id": "8b4ff0c3",
   "metadata": {},
   "source": [
    "#### Q 1. Create a function that takes a list and string. The function should remove the letters in the string from the list, and return the list.\n",
    "\n",
    "    Examples\n",
    "\n",
    "    remove_letters([\"s\", \"t\", \"r\", \"i\", \"n\", \"g\", \"w\"], \"string\") ➞ [\"w\"]\n",
    "\n",
    "    remove_letters([\"b\", \"b\", \"l\", \"l\", \"g\", \"n\", \"o\", \"a\", \"w\"], \"balloon\") ➞ [\"b\", \"g\", \"w\"]\n",
    "\n",
    "    remove_letters([\"d\", \"b\", \"t\", \"e\", \"a\", \"i\"], \"edabit\") ➞ []"
   ]
  },
  {
   "cell_type": "code",
   "execution_count": 10,
   "id": "ab8744f0",
   "metadata": {},
   "outputs": [
    {
     "data": {
      "text/plain": [
       "['b', 'g', 'w']"
      ]
     },
     "execution_count": 10,
     "metadata": {},
     "output_type": "execute_result"
    }
   ],
   "source": [
    "def remove_letters(string,letter):\n",
    "    n=[]\n",
    "    for i in letter:\n",
    "        n.append(i)\n",
    "    for item in n:\n",
    "        if item in string:\n",
    "            string.remove(item)\n",
    "    return string\n",
    "remove_letters([\"b\", \"b\", \"l\", \"l\", \"g\", \"n\", \"o\", \"a\", \"w\"], \"balloon\")"
   ]
  },
  {
   "cell_type": "markdown",
   "id": "25afef3c",
   "metadata": {},
   "source": [
    "#### Q 2. A block sequence in three dimensions. We can write a formula for this one: Create a function that takes a number (step) as an argument and returns the amount of blocks in that step.\n",
    "    Examples\n",
    "\n",
    "    blocks(1) ➞ 5\n",
    "\n",
    "    blocks(5) ➞ 39\n",
    "\n",
    "    blocks(2) ➞ 12"
   ]
  },
  {
   "cell_type": "code",
   "execution_count": 13,
   "id": "d2e0a206",
   "metadata": {},
   "outputs": [
    {
     "data": {
      "text/plain": [
       "12"
      ]
     },
     "execution_count": 13,
     "metadata": {},
     "output_type": "execute_result"
    }
   ],
   "source": [
    "def blocks(l):\n",
    "    a=5\n",
    "    b=7\n",
    "    if(l==1):\n",
    "        return a\n",
    "    else:\n",
    "        for i in range (1,l):\n",
    "            a=a+b\n",
    "            b=b+1\n",
    "        return a\n",
    "blocks(2)"
   ]
  },
  {
   "cell_type": "markdown",
   "id": "1051a12f",
   "metadata": {},
   "source": [
    "#### Q 3. Create a function that subtracts one positive integer from another, without using any arithmetic operators such as -, %, /, +, etc.\n",
    "\n",
    "    Examples\n",
    "\n",
    "    my_sub(5, 9) ➞ 4\n",
    "\n",
    "    my_sub(10, 30) ➞ 20\n",
    "\n",
    "    my_sub(0, 0) ➞ 0"
   ]
  },
  {
   "cell_type": "code",
   "execution_count": 39,
   "id": "869be26f",
   "metadata": {},
   "outputs": [
    {
     "data": {
      "text/plain": [
       "20"
      ]
     },
     "execution_count": 39,
     "metadata": {},
     "output_type": "execute_result"
    }
   ],
   "source": [
    "def my_sub(x, y):\n",
    "    while x != 0:\n",
    "        borrow = (~y) & x\n",
    "        y = y ^ x\n",
    "        x = borrow << 1\n",
    "    return y\n",
    "\n",
    "\n",
    "my_sub(10,30)"
   ]
  },
  {
   "cell_type": "markdown",
   "id": "6c366c77",
   "metadata": {},
   "source": [
    "#### Q 4. Create a function that takes a string containing money in dollars and pounds sterling (seperated by comma) and returns the sum of dollar bills only, as an integer.\n",
    "\n",
    "For the input string:\n",
    "- Each amount is prefixed by the currency symbol: $ for dollars and £ for pounds.\n",
    "- Thousands are represented by the suffix k.\n",
    "\n",
    "i.e. $4k = $4,000 and £40k = £40,000\n",
    "    \n",
    "    Examples\n",
    "    \n",
    "    add_bill(\"d20,p40,p60,d50\") ➞ 20 + 50 = 70\n",
    "    \n",
    "    add_bill(\"p30,d20,p60,d150,p360\") ➞ 20  + 150 = 170\n",
    "    \n",
    "    add_bill(\"p30,d2k,p60,d200,p360\") ➞ 2 * 1000 + 200 = 2200"
   ]
  },
  {
   "cell_type": "code",
   "execution_count": 18,
   "id": "86950762",
   "metadata": {},
   "outputs": [
    {
     "data": {
      "text/plain": [
       "2200"
      ]
     },
     "execution_count": 18,
     "metadata": {},
     "output_type": "execute_result"
    }
   ],
   "source": [
    "def add_bill(r):\n",
    "    n=[]\n",
    "    l =list(r.split(\",\"))\n",
    "    l=[i for i in l if i[0] == 'd']\n",
    "    l=[i[1:] for i in l if i[0] == 'd']\n",
    "    for i in l:\n",
    "        if \"k\" in i:\n",
    "            i = i[:-1]\n",
    "            i= int(i)*1000\n",
    "            n.append(int(i))\n",
    "        else:\n",
    "            n.append(int(i))\n",
    "    return sum(n)\n",
    "add_bill('p30,d2k,p60,d200,p360')"
   ]
  },
  {
   "cell_type": "markdown",
   "id": "663899ec",
   "metadata": {},
   "source": [
    "#### Q 5. Create a function that flips a horizontal list into a vertical list, and a vertical list into a horizontal list. In other words, take an 1 x n list (1 row + n columns) and flip it into a n x 1 list (n rows and 1 column), and vice versa.\n",
    "\n",
    "    Examples\n",
    "\n",
    "    flip_list([1, 2, 3, 4]) ➞ [[1], [2], [3], [4]]\n",
    "\n",
    "     Take a horizontal list and flip it vertical.\n",
    "\n",
    "    flip_list([[5], [6], [9]]) ➞ [5, 6, 9]\n",
    "\n",
    "     Take a vertical list and flip it horizontal.\n",
    "\n",
    "    flip_list([]) ➞ []"
   ]
  },
  {
   "cell_type": "code",
   "execution_count": 45,
   "id": "b93de669",
   "metadata": {},
   "outputs": [
    {
     "data": {
      "text/plain": [
       "[[1], [2], [3], [4]]"
      ]
     },
     "execution_count": 45,
     "metadata": {},
     "output_type": "execute_result"
    }
   ],
   "source": [
    "def flip_list(list_flip):\n",
    "    if len(list_flip) ==0:\n",
    "        return []\n",
    "    if isinstance(list_flip[0],list):\n",
    "        return [x[0] for x in list_flip]\n",
    "    else:\n",
    "        return [[x] for x in list_flip]\n",
    "flip_list([1, 2, 3, 4])"
   ]
  },
  {
   "cell_type": "code",
   "execution_count": null,
   "id": "0e7907d1",
   "metadata": {},
   "outputs": [],
   "source": []
  }
 ],
 "metadata": {
  "kernelspec": {
   "display_name": "Python 3",
   "language": "python",
   "name": "python3"
  },
  "language_info": {
   "codemirror_mode": {
    "name": "ipython",
    "version": 3
   },
   "file_extension": ".py",
   "mimetype": "text/x-python",
   "name": "python",
   "nbconvert_exporter": "python",
   "pygments_lexer": "ipython3",
   "version": "3.8.8"
  }
 },
 "nbformat": 4,
 "nbformat_minor": 5
}
