{
 "cells": [
  {
   "cell_type": "markdown",
   "id": "dbd4e471",
   "metadata": {},
   "source": [
    "### Q 1. For this challenge, forget how to add two numbers together. The best explanation on what to do for this function is this meme:\n",
    "\n",
    "    Examples\n",
    "    meme_sum(26, 39) ➞ 515\n",
    "    # 2+3 = 5, 6+9 = 15\n",
    "    # 26 + 39 = 515\n",
    "    meme_sum(122, 81) ➞ 1103\n",
    "    # 1+0 = 1, 2+8 = 10, 2+1 = 3\n",
    "    # 122 + 81 = 1103\n",
    "    meme_sum(1222, 30277) ➞ 31499"
   ]
  },
  {
   "cell_type": "code",
   "execution_count": 26,
   "id": "15c63586",
   "metadata": {},
   "outputs": [
    {
     "data": {
      "text/plain": [
       "31499"
      ]
     },
     "execution_count": 26,
     "metadata": {},
     "output_type": "execute_result"
    }
   ],
   "source": [
    "def length_check(n1, n2):\n",
    "    if len(n1) == len(n2):\n",
    "        pass\n",
    "    elif len(n1) > len(n2):\n",
    "        dif = len(n1) - len(n2)\n",
    "        n2 = '0' * dif + n2\n",
    "    else:\n",
    "        dif = len(n2) - len(n1)\n",
    "        n1 = '0' * dif + n1\n",
    "    return n1, n2\n",
    "\n",
    "\n",
    "def meme_sum(n1, n2):\n",
    "    n1, n2 = length_check(str(n1), (str(n2)))\n",
    "    sum = 0\n",
    "    total = ''\n",
    "    for i in range(len(n1)):\n",
    "        sum = int(n1[i]) + int(n2[i])\n",
    "        total = total + str(sum)\n",
    "    return int(total)\n",
    "\n",
    "\n",
    "meme_sum(1222, 30277)"
   ]
  },
  {
   "cell_type": "markdown",
   "id": "01685bbf",
   "metadata": {},
   "source": [
    "### Q 2. Given an integer, create a function that returns the next prime. If the number is prime, return the number itself.\n",
    "\n",
    "    Examples\n",
    "\n",
    "    next_prime(12) ➞ 13\n",
    "    next_prime(24) ➞ 29\n",
    "    next_prime(11) ➞ 11\n",
    "    # 11 is a prime, so we return the number itself."
   ]
  },
  {
   "cell_type": "code",
   "execution_count": 30,
   "id": "b9d947ce",
   "metadata": {},
   "outputs": [
    {
     "data": {
      "text/plain": [
       "29"
      ]
     },
     "execution_count": 30,
     "metadata": {},
     "output_type": "execute_result"
    }
   ],
   "source": [
    "def isPrime(n):\n",
    "    if n == 1:\n",
    "        return True\n",
    "    else:\n",
    "        for i in range(2, int(n / 2) + 1):\n",
    "            if n % i == 0:\n",
    "                return False\n",
    "        return True\n",
    "\n",
    "\n",
    "def next_prime(num):\n",
    "    if isPrime(num):\n",
    "        return num\n",
    "    else:\n",
    "        while (isPrime(num) != True):\n",
    "            num += 1\n",
    "        return num\n",
    "\n",
    "\n",
    "next_prime(24)"
   ]
  },
  {
   "cell_type": "markdown",
   "id": "0a3a542c",
   "metadata": {},
   "source": [
    "#### Q 3. If a person traveled up a hill for 18mins at 20mph and then traveled back down the same path at 60mph then their average speed traveled was 30mph. Write a function that returns the average speed traveled given an uphill time, uphill rate and a downhill rate. Uphill time is given in minutes. Return the rate as an integer (mph). No rounding is necessary.\n",
    "\n",
    "    Examples\n",
    "    ave_spd(18, 20, 60) ➞ 30\n",
    "    ave_spd(30, 10, 30) ➞ 15\n",
    "    ave_spd(30, 8, 24) ➞ 12"
   ]
  },
  {
   "cell_type": "code",
   "execution_count": 34,
   "id": "83684161",
   "metadata": {},
   "outputs": [
    {
     "data": {
      "text/plain": [
       "15.0"
      ]
     },
     "execution_count": 34,
     "metadata": {},
     "output_type": "execute_result"
    }
   ],
   "source": [
    "def avg_spd(t1, sp1, sp2):\n",
    "    uptime = t1 / 60  # minute ---> hours\n",
    "    dist = uptime * sp1\n",
    "    total_dist = dist * 2\n",
    "    down_time = dist / sp2\n",
    "    total_time = uptime + down_time\n",
    "    avg_spd = total_dist / total_time\n",
    "    return avg_spd\n",
    "avg_spd(30, 10, 30)"
   ]
  },
  {
   "cell_type": "markdown",
   "id": "4b5a64fd",
   "metadata": {},
   "source": [
    "#### Q 4. The Kempner Function, applied to a composite number, permits to find the smallest integer greater than zero whose factorial is exactly divided by the number.\n",
    "    kempner(6) ➞ 3\n",
    "    1! = 1 % 6 > 0\n",
    "    2! = 2 % 6 > 0\n",
    "    3! = 6 % 6 === 0\n",
    "    kempner(10) ➞ 5\n",
    "    1! = 1 % 10 > 0\n",
    "    2! = 2 % 10 > 0\n",
    "    3! = 6 % 10 > 0\n",
    "    4! = 24 % 10 > 0\n",
    "    5! = 120 % 10 === 0\n",
    "    A Kempner Function applied to a prime will always return the prime itself.\n",
    "    kempner(2) ➞ 2\n",
    "    kempner(5) ➞ 5\n",
    "\n",
    "    Given an integer n, implement a Kempner Function.\n",
    "    Examples\n",
    "    kempner(6) ➞ 3\n",
    "    kempner(10) ➞ 5\n",
    "    kempner(2) ➞ 2"
   ]
  },
  {
   "cell_type": "code",
   "execution_count": 40,
   "id": "5176e171",
   "metadata": {},
   "outputs": [
    {
     "data": {
      "text/plain": [
       "5"
      ]
     },
     "execution_count": 40,
     "metadata": {},
     "output_type": "execute_result"
    }
   ],
   "source": [
    "def isPrime(n):\n",
    "    if n == 1:\n",
    "        return True\n",
    "    else:\n",
    "        for i in range(2, int(n / 2) + 1):\n",
    "            if n % i == 0:\n",
    "                return False\n",
    "        return True\n",
    "\n",
    "\n",
    "def factorial(n):\n",
    "    if (n == 1 or n == 0):\n",
    "        return 1\n",
    "    else:\n",
    "        return (n * factorial(n - 1))\n",
    "\n",
    "\n",
    "def kempner(num):\n",
    "    res = 0\n",
    "    if isPrime(num):\n",
    "        return num\n",
    "    else:\n",
    "        for i in range(num):\n",
    "            res = factorial(i)\n",
    "            if res % num == 0:\n",
    "                return i\n",
    "\n",
    "\n",
    "kempner(10)"
   ]
  },
  {
   "cell_type": "markdown",
   "id": "53c5ab2b",
   "metadata": {},
   "source": [
    "#### Q 5. You work in a factory, and your job is to take items from a conveyor belt and pack them into boxes. Each box can hold a maximum of 10 kgs. Given a list containing the weight (in kg) of each item, how many boxes would you need to pack all of the items?\n",
    "\n",
    "    Example\n",
    "    boxes([2, 1, 2, 5, 4, 3, 6, 1, 1, 9, 3, 2]) ➞ 5\n",
    "    # Box 1 = [2, 1, 2, 5] (10kg)\n",
    "    # Box 2 = [4, 3] (7kg)\n",
    "    # Box 3 = [6, 1, 1] (8kg)\n",
    "    # Box 4 = [9] (9kg)\n",
    "    # Box 5 = [3, 2] (5kg)"
   ]
  },
  {
   "cell_type": "code",
   "execution_count": 43,
   "id": "b8db911f",
   "metadata": {},
   "outputs": [
    {
     "data": {
      "text/plain": [
       "5"
      ]
     },
     "execution_count": 43,
     "metadata": {},
     "output_type": "execute_result"
    }
   ],
   "source": [
    "def boxes(q):\n",
    "    l = len(q)\n",
    "    i = 0\n",
    "    a = []\n",
    "    box=[]\n",
    "    while l :\n",
    "        if sum(a)  <=  10 :\n",
    "            a.append(q[i])\n",
    "            i = i + 1\n",
    "            l = l - 1   \n",
    "        elif sum(a) > 10:\n",
    "            box.append(a[:-1:])\n",
    "            i = i - 1\n",
    "            l = l + 1\n",
    "            a.clear()\n",
    "    box.append(a)\n",
    "\n",
    "    return len(box)\n",
    "boxes([2, 1, 2, 5, 4, 3, 6, 1, 1, 9, 3, 2])    "
   ]
  }
 ],
 "metadata": {
  "kernelspec": {
   "display_name": "Python 3",
   "language": "python",
   "name": "python3"
  },
  "language_info": {
   "codemirror_mode": {
    "name": "ipython",
    "version": 3
   },
   "file_extension": ".py",
   "mimetype": "text/x-python",
   "name": "python",
   "nbconvert_exporter": "python",
   "pygments_lexer": "ipython3",
   "version": "3.8.8"
  }
 },
 "nbformat": 4,
 "nbformat_minor": 5
}
