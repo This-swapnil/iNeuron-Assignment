{
 "cells": [
  {
   "cell_type": "markdown",
   "id": "771a91da",
   "metadata": {},
   "source": [
    "### Q 1. Write a function that counts how many concentric layers a rug.\n",
    "\n",
    "    Examples\n",
    "\n",
    "    count_layers([\n",
    "      \"AAAA\",\n",
    "      \"ABBA\",\n",
    "      \"AAAA\"\n",
    "    ]) ➞ 2\n",
    "\n",
    "    count_layers([\n",
    "      \"AAAAAAAAA\",\n",
    "      \"ABBBBBBBA\",\n",
    "      \"ABBAAABBA\",\n",
    "      \"ABBBBBBBA\",\n",
    "      \"AAAAAAAAA\"\n",
    "    ]) ➞ 3\n",
    "\n",
    "    count_layers([\n",
    "      \"AAAAAAAAAAA\",\n",
    "      \"AABBBBBBBAA\",\n",
    "      \"AABCCCCCBAA\",\n",
    "      \"AABCAAACBAA\",\n",
    "      \"AABCADACBAA\",\n",
    "      \"AABCAAACBAA\",\n",
    "      \"AABCCCCCBAA\",\n",
    "      \"AABBBBBBBAA\",\n",
    "      \"AAAAAAAAAAA\"\n",
    "    ]) ➞ 5\n"
   ]
  },
  {
   "cell_type": "code",
   "execution_count": 8,
   "id": "58da67af",
   "metadata": {},
   "outputs": [
    {
     "data": {
      "text/plain": [
       "('NUmber of layers = ', 5)"
      ]
     },
     "execution_count": 8,
     "metadata": {},
     "output_type": "execute_result"
    }
   ],
   "source": [
    "def count_layers(lst):\n",
    "    layers = length = len(lst)\n",
    "    if layers % 2 == 0:\n",
    "        print(\"Not a concentric layer\")\n",
    "    else:\n",
    "        mid = len(lst) // 2\n",
    "    i = 0\n",
    "    layerCnt = 0\n",
    "    while i <= mid:\n",
    "        if lst[i] == lst[length - 1]:\n",
    "            layerCnt += 1\n",
    "            length -= 1\n",
    "            i += 1\n",
    "        else:\n",
    "            print(\"Not a concentric layer\")\n",
    "            return False\n",
    "    return \"NUmber of layers = \", layerCnt\n",
    "\n",
    "\n",
    "count_layers([\n",
    "    \"AAAAAAAAAAA\", \"AABBBBBBBAA\", \"AABCCCCCBAA\", \"AABCAAACBAA\", \"AABCADACBAA\",\n",
    "    \"AABCAAACBAA\", \"AABCCCCCBAA\", \"AABBBBBBBAA\", \"AAAAAAAAAAA\"\n",
    "])"
   ]
  },
  {
   "cell_type": "markdown",
   "id": "3dbd5a28",
   "metadata": {},
   "source": [
    "### Q 2. There are many different styles of music and many albums exhibit multiple styles. Create a function that takes a list of musical styles from albums and returns how many styles are unique.\n",
    "\n",
    "    Examples\n",
    "\n",
    "    unique_styles([\n",
    "      \"Dub,Dancehall\",\n",
    "      \"Industrial,Heavy Metal\",\n",
    "      \"Techno,Dubstep\",\n",
    "      \"Synth-pop,Euro-Disco\",\n",
    "      \"Industrial,Techno,Minimal\"\n",
    "    ]) ➞ 9\n",
    "\n",
    "    unique_styles([\n",
    "      \"Soul\",\n",
    "      \"House,Folk\",\n",
    "      \"Trance,Downtempo,Big Beat,House\",\n",
    "      \"Deep House\",\n",
    "      \"Soul\"\n",
    "    ]) ➞ 7\n"
   ]
  },
  {
   "cell_type": "code",
   "execution_count": 11,
   "id": "fd7c2a39",
   "metadata": {},
   "outputs": [
    {
     "data": {
      "text/plain": [
       "('Unique_styles ', 7)"
      ]
     },
     "execution_count": 11,
     "metadata": {},
     "output_type": "execute_result"
    }
   ],
   "source": [
    "def unique_styles(album):\n",
    "    unique = []\n",
    "    for i in album:\n",
    "        unique.extend(i.split(','))\n",
    "    return \"Unique_styles \", len(set(unique))\n",
    "\n",
    "\n",
    "unique_styles([\n",
    "    \"Soul\", \"House,Folk\", \"Trance,Downtempo,Big Beat,House\", \"Deep House\",\n",
    "    \"Soul\"\n",
    "])"
   ]
  },
  {
   "cell_type": "markdown",
   "id": "121600ef",
   "metadata": {},
   "source": [
    "### Q 3. Create a function that finds a target number in a list of prime numbers. Implement a binary search algorithm in your function. The target number will be from 2 through 97. If the target is prime then return \"yes\" else return \"no\".\n",
    "\n",
    "    Examples\n",
    "\n",
    "    primes = [2, 3, 5, 7, 11, 13, 17, 19, 23, 29, 31, 37, 41, 43, 47, 53, 59, 61, 67, 71, 73, 79, 83, 89, 97]\n",
    "\n",
    "\n",
    "    is_prime(primes, 3) ➞ \"yes\"\n",
    "\n",
    "    is_prime(primes, 4) ➞ \"no\"\n",
    "\n",
    "    is_prime(primes, 67) ➞ \"yes\"\n",
    "\n",
    "    is_prime(primes, 36) ➞ \"no\"\n"
   ]
  },
  {
   "cell_type": "code",
   "execution_count": 5,
   "id": "7e2ccf36",
   "metadata": {},
   "outputs": [
    {
     "data": {
      "text/plain": [
       "'Yes'"
      ]
     },
     "execution_count": 5,
     "metadata": {},
     "output_type": "execute_result"
    }
   ],
   "source": [
    "def is_prime(primes, item):\n",
    "    first = 0\n",
    "    last = len(primes) - 1\n",
    "    found = False\n",
    "    yes = 'No'\n",
    "    while (first <= last and not found):\n",
    "        mid = (first + last) // 2\n",
    "        if primes[mid] == item:\n",
    "            found = True\n",
    "            yes = 'Yes'\n",
    "        else:\n",
    "            if item < primes[mid]:\n",
    "                last = mid - 1\n",
    "            else:\n",
    "                first = mid + 1\n",
    "    return yes\n",
    "\n",
    "\n",
    "primes = [\n",
    "    2, 3, 5, 7, 11, 13, 17, 19, 23, 29, 31, 37, 41, 43, 47, 53, 59, 61, 67, 71,\n",
    "    73, 79, 83, 89, 97\n",
    "]\n",
    "is_prime(primes, 3)"
   ]
  },
  {
   "cell_type": "markdown",
   "id": "a2208779",
   "metadata": {},
   "source": [
    "### Q 4. Create a function that takes in n, a, b and returns the number of positive values raised to the nth power that lie in the range [a, b], inclusive.\n",
    "\n",
    "    Examples\n",
    "\n",
    "    power_ranger(2, 49, 65) ➞ 2\n",
    "    # 2 squares (n^2) lie between 49 and 65, 49 (7^2) and 64 (8^2)\n",
    "\n",
    "    power_ranger(3, 1, 27) ➞ 3\n",
    "    # 3 cubes (n^3) lie between 1 and 27, 1 (1^3), 8 (2^3) and 27 (3^3)\n",
    "\n",
    "    power_ranger(10, 1, 5) ➞ 1\n",
    "    # 1 value raised to the 10th power lies between 1 and 5, 1 (1^10)\n",
    "\n",
    "    power_ranger(5, 31, 33) ➞ 1\n",
    "\n",
    "    power_ranger(4, 250, 1300) ➞ 3\n"
   ]
  },
  {
   "cell_type": "code",
   "execution_count": 7,
   "id": "082477ed",
   "metadata": {},
   "outputs": [
    {
     "name": "stdout",
     "output_type": "stream",
     "text": [
      "7^2 lies between 49 and 65\n",
      "8^2 lies between 49 and 65\n"
     ]
    },
    {
     "data": {
      "text/plain": [
       "('Total values found =', 2)"
      ]
     },
     "execution_count": 7,
     "metadata": {},
     "output_type": "execute_result"
    }
   ],
   "source": [
    "def power_ranger(n, a, b):\n",
    "    count = 0  \n",
    "    for i in range(b): \n",
    "        if i**n in range(a,b): \n",
    "            count += 1 \n",
    "    return 'Total values found =',count\n",
    "power_ranger(2,49,65)"
   ]
  },
  {
   "cell_type": "markdown",
   "id": "42ac637a",
   "metadata": {},
   "source": [
    "### Q 5. Given a number, return the difference between the maximum and minimum numbers that can be formed when the digits are rearranged.\n",
    "\n",
    "    Examples\n",
    "\n",
    "    rearranged_difference(972882) ➞ 760833\n",
    "    # 988722 - 227889 = 760833\n",
    "\n",
    "    rearranged_difference(3320707) ➞ 7709823\n",
    "    # 7733200 - 23377 = 7709823\n",
    "\n",
    "    rearranged_difference(90010) ➞ 90981\n",
    "    # 91000 - 19 = 90981\n"
   ]
  },
  {
   "cell_type": "code",
   "execution_count": 9,
   "id": "0e01701b",
   "metadata": {},
   "outputs": [
    {
     "data": {
      "text/plain": [
       "90981"
      ]
     },
     "execution_count": 9,
     "metadata": {},
     "output_type": "execute_result"
    }
   ],
   "source": [
    "def findDigit(n):\n",
    "    rev = 0\n",
    "    digit = []\n",
    "    while (n > 0):\n",
    "        a = n % 10\n",
    "        rev = rev * 10 + a\n",
    "        digit.append(a)\n",
    "        n = n // 10\n",
    "    return digit\n",
    "\n",
    "\n",
    "def findMax(digit):\n",
    "    max = int(''.join([str(i) for i in sorted(digit, reverse=True)]))\n",
    "    return max\n",
    "\n",
    "\n",
    "def finMin(digit):\n",
    "    min = int(''.join([str(i) for i in sorted(digit, reverse=False)]))\n",
    "    return min\n",
    "\n",
    "\n",
    "def rearranged_difference(n):\n",
    "    digit = findDigit(n)\n",
    "    return findMax(digit) - finMin(digit)\n",
    "\n",
    "\n",
    "rearranged_difference(90010)"
   ]
  },
  {
   "cell_type": "code",
   "execution_count": null,
   "id": "26a45522",
   "metadata": {},
   "outputs": [],
   "source": []
  }
 ],
 "metadata": {
  "kernelspec": {
   "display_name": "Python 3",
   "language": "python",
   "name": "python3"
  },
  "language_info": {
   "codemirror_mode": {
    "name": "ipython",
    "version": 3
   },
   "file_extension": ".py",
   "mimetype": "text/x-python",
   "name": "python",
   "nbconvert_exporter": "python",
   "pygments_lexer": "ipython3",
   "version": "3.8.8"
  }
 },
 "nbformat": 4,
 "nbformat_minor": 5
}
