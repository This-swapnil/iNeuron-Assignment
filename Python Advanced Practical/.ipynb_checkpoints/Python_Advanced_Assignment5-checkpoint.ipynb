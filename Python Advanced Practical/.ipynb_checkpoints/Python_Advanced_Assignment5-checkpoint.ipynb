{
 "cells": [
  {
   "cell_type": "markdown",
   "id": "793fc0bf",
   "metadata": {},
   "source": [
    "### Q 1. Create a function that takes a number n (integer greater than zero) as an argument, and returns 2 if n is odd and 8 if n is even.\n",
    "\n",
    "You can only use the following arithmetic operators: addition of numbers +, subtraction of numbers -, multiplication of number *, division of number /, and exponentiation **.\n",
    "\n",
    "You are not allowed to use any other methods in this challenge (i.e. no if statements, comparison operators, etc).\n",
    "\n",
    "Examples\n",
    "\n",
    "f(1) ➞ 2\n",
    "\n",
    "f(2) ➞ 8\n",
    "\n",
    "f(3) ➞ 2\n"
   ]
  },
  {
   "cell_type": "code",
   "execution_count": 3,
   "id": "10dc802a",
   "metadata": {},
   "outputs": [
    {
     "data": {
      "text/plain": [
       "2"
      ]
     },
     "execution_count": 3,
     "metadata": {},
     "output_type": "execute_result"
    }
   ],
   "source": [
    "def f(num):\n",
    "    evenOddList = [8,2]\n",
    "    return evenOddList[num & 1]\n",
    "f(3)"
   ]
  },
  {
   "cell_type": "markdown",
   "id": "10c21483",
   "metadata": {},
   "source": [
    "### Q 2. Create a function that returns the majority vote in a list. A majority vote is an element that occurs > N/2 times in a list (where N is the length of the list).\n",
    "\n",
    "Examples\n",
    "\n",
    "majority_vote([\"A\", \"A\", \"B\"]) ➞ \"A\"\n",
    "\n",
    "majority_vote([\"A\", \"A\", \"A\", \"B\", \"C\", \"A\"]) ➞ \"A\"\n",
    "\n",
    "majority_vote([\"A\", \"B\", \"B\", \"A\", \"C\", \"C\"]) ➞ None\n"
   ]
  },
  {
   "cell_type": "code",
   "execution_count": 7,
   "id": "f6b4b841",
   "metadata": {},
   "outputs": [
    {
     "name": "stdout",
     "output_type": "stream",
     "text": [
      "None\n"
     ]
    }
   ],
   "source": [
    "def findMajority(arr, n):\n",
    "    maxCount = 0\n",
    "    index = -1\n",
    "    for i in range(n):\n",
    "        count = 0\n",
    "        for j in range(n):\n",
    "            if(arr[i] == arr[j]):\n",
    "                count += 1\n",
    "        if(count > maxCount):\n",
    "            maxCount = count\n",
    "            index = i\n",
    "    if (maxCount > n//2):\n",
    "        print(arr[index])\n",
    "    else:\n",
    "        print(\"None\")\n",
    "\n",
    "arr = [\"A\", \"B\", \"B\", \"A\", \"C\", \"C\"]\n",
    "n = len(arr)\n",
    "findMajority(arr, n)"
   ]
  },
  {
   "cell_type": "markdown",
   "id": "d9278155",
   "metadata": {},
   "source": [
    "### Q 3. Create a function that takes a string txt and censors any word from a given list lst. The text removed must be replaced by the given character char.\n",
    "\n",
    "Examples\n",
    "\n",
    "censor_string(\"Today is a Wednesday!\", [\"Today\", \"a\"], \"-\") ➞ \"----- is - Wednesday!\"\n",
    "\n",
    "censor_string(\"The cow jumped over the moon.\", [\"cow\", \"over\"], \"*\"), \"The *** jumped **** the moon.\")\n",
    "\n",
    "censor_string(\"Why did the chicken cross the road?\", [\"Did\", \"chicken\", \"road\"], \"*\") \n",
    "➞ \"Why *** the ******* cross the ****?\"\n"
   ]
  },
  {
   "cell_type": "code",
   "execution_count": 15,
   "id": "5b42a91b",
   "metadata": {},
   "outputs": [
    {
     "data": {
      "text/plain": [
       "'The *** jumped **** the moon.'"
      ]
     },
     "execution_count": 15,
     "metadata": {},
     "output_type": "execute_result"
    }
   ],
   "source": [
    "def censor_string(text, censorlst, replacer):\n",
    "    word_list = text.split()\n",
    "    for censor in censorlst:\n",
    "        index = 0\n",
    "        for word in word_list:\n",
    "            if censor.lower() == word.lower():\n",
    "                ch = len(censor) * replacer\n",
    "                word_list[index] = ch\n",
    "            elif censor.lower() == word[0:-1].lower():\n",
    "                ch = len(censor) * replacer\n",
    "                word_list[index] = ch+word[-1]\n",
    "            index+=1\n",
    "    return \" \".join(word_list)\n",
    "censor_string(\"The cow jumped over the moon.\", [\"cow\", \"over\"], \"*\")"
   ]
  },
  {
   "cell_type": "markdown",
   "id": "24ce3ef5",
   "metadata": {},
   "source": [
    "### Q 4. In mathematics a Polydivisible Number (or magic number) is a number in a given number base with digits abcde... that has the following properties:\n",
    "\n",
    "-  Its first digit a is not 0.\n",
    "- The number formed by its first two digits ab is a multiple of 2.\n",
    "- The number formed by its first three digits abc is a multiple of 3.\n",
    "- The number formed by its first four digits abcd is a multiple of 4.\n",
    "\n",
    "Create a function which takes an integer n and returns True if the given number is a Polydivisible Number and False otherwise.\n",
    "\n",
    "Examples\n",
    "\n",
    "is_polydivisible(1232) ➞ True\n",
    "#1     / 1 = 1\n",
    "\n",
    "#12    / 2 = 6\n",
    "\n",
    "#123   / 3 = 41\n",
    "\n",
    "#1232  / 4 = 308\n",
    "\n",
    "\n",
    "is_polydivisible(123220 ) ➞ False\n",
    "#1   / 1 = 1\n",
    "\n",
    "#12   / 2 = 6\n",
    "\n",
    "#123   / 3 = 41\n",
    "\n",
    "#1232   / 4 = 308\n",
    "\n",
    "#12322   / 5 = 2464.4         # Not a Whole Number\n",
    "\n",
    "#123220   /6 = 220536.333...  # Not a Whole Number"
   ]
  },
  {
   "cell_type": "code",
   "execution_count": 45,
   "id": "8de0bdb6",
   "metadata": {},
   "outputs": [
    {
     "name": "stdout",
     "output_type": "stream",
     "text": [
      "[1, 2, 3, 2]\n"
     ]
    },
    {
     "data": {
      "text/plain": [
       "(1232, 'is Polydivisible number.')"
      ]
     },
     "execution_count": 45,
     "metadata": {},
     "output_type": "execute_result"
    }
   ],
   "source": [
    "def check_polydivisible(n):\n",
    "    N = n\n",
    "    digit = [int(x) for x in str(n)]\n",
    "    print(digit)\n",
    "    flag = True\n",
    "    n = digit[0]\n",
    "    for i in range(1, len(digit)):\n",
    "        n = n * 10 + digit[i]\n",
    "        if (n % (i + 1) != 0):\n",
    "            flag = False\n",
    "            break\n",
    "    if flag:\n",
    "        return N, \"is Polydivisible number.\"\n",
    "    else:\n",
    "        return N, \"is Not Polydivisible number.\"\n",
    "n = 1232\n",
    "check_polydivisible(n)"
   ]
  },
  {
   "cell_type": "markdown",
   "id": "ad4903af",
   "metadata": {},
   "source": [
    "### Q 5. Create a function that takes a list of numbers and returns the sum of all prime numbers in the list.\n",
    "\n",
    "Examples\n",
    "\n",
    "sum_primes([1,2, 3, 4, 5, 6, 7, 8, 9, 10]) ➞ 17\n",
    "\n",
    "sum_primes([2, 3, 4, 11, 20, 50, 71]) ➞ 87\n",
    "\n",
    "sum_primes([]) ➞ None"
   ]
  },
  {
   "cell_type": "code",
   "execution_count": 69,
   "id": "7d0887c3",
   "metadata": {},
   "outputs": [],
   "source": [
    "def is_prime(num):\n",
    "    if num > 1:\n",
    "        for i in range(2, int(num/2)+1):\n",
    "            if (num % i) == 0:\n",
    "                return False\n",
    "        else:\n",
    "            return True\n",
    "    else:\n",
    "        return False\n",
    "def sum_prime(l):\n",
    "#     sum1=0\n",
    "#     for i in l:\n",
    "#         if is_prime(i):\n",
    "#             sum1=sum1+i\n",
    "#     return sum1\n",
    "    return sum(n for n in l if is_prime(n))"
   ]
  },
  {
   "cell_type": "code",
   "execution_count": 70,
   "id": "ba2730c3",
   "metadata": {},
   "outputs": [
    {
     "data": {
      "text/plain": [
       "87"
      ]
     },
     "execution_count": 70,
     "metadata": {},
     "output_type": "execute_result"
    }
   ],
   "source": [
    "sum_prime([2, 3, 4, 11, 20, 50, 71])"
   ]
  },
  {
   "cell_type": "code",
   "execution_count": 72,
   "id": "b496a5a9",
   "metadata": {},
   "outputs": [
    {
     "data": {
      "text/plain": [
       "17"
      ]
     },
     "execution_count": 72,
     "metadata": {},
     "output_type": "execute_result"
    }
   ],
   "source": [
    "sum_prime([1,2,3,4,5,6,7,8,9,10])"
   ]
  }
 ],
 "metadata": {
  "kernelspec": {
   "display_name": "Python 3",
   "language": "python",
   "name": "python3"
  },
  "language_info": {
   "codemirror_mode": {
    "name": "ipython",
    "version": 3
   },
   "file_extension": ".py",
   "mimetype": "text/x-python",
   "name": "python",
   "nbconvert_exporter": "python",
   "pygments_lexer": "ipython3",
   "version": "3.8.8"
  }
 },
 "nbformat": 4,
 "nbformat_minor": 5
}
