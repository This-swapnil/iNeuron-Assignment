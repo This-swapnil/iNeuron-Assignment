{
 "cells": [
  {
   "cell_type": "markdown",
   "id": "f2805876",
   "metadata": {},
   "source": [
    "### Q. 1. Write a function that takes a list of lists and returns the value of all of the symbols in it, where each symbol adds or takes something from the total score. Symbol values:\n",
    "\n",
    "#=5\n",
    "O = 3\n",
    "X = 1\n",
    "! = -1\n",
    "!! = -3\n",
    "!!! = -5\n",
    "\n",
    "A list of lists containing 2 #s, a O, and a !!! would equal (0 + 5 + 5 + 3 - 5) 8.\n",
    "\n",
    "If the final score is negative, return 0 (e.g. 3 #s, 3 !!s, 2 !!!s and a X would be (0 + 5 + 5 + 5 - 3 - 3 - 3 - 5 - 5 + 1) -3, so return 0.\n",
    "\n",
    "Examples\n",
    "\n",
    "check_score([\n",
    "  [\"#\", \"!\"],\n",
    "  [\"!!\", \"X\"]\n",
    "]) ➞ 2\n",
    "\n",
    "check_score([\n",
    "  [\"!!!\", \"O\", \"!\"],\n",
    "  [\"X\", \"#\", \"!!!\"],\n",
    "  [\"!!\", \"X\", \"O\"]\n",
    "]) ➞ 0\n"
   ]
  },
  {
   "cell_type": "code",
   "execution_count": 35,
   "id": "fe0a229e",
   "metadata": {},
   "outputs": [
    {
     "name": "stdout",
     "output_type": "stream",
     "text": [
      "0\n"
     ]
    }
   ],
   "source": [
    "def summation(l):\n",
    "    ls = []\n",
    "    sum = 0\n",
    "    for i in l:\n",
    "        for j in i:\n",
    "            if j == \"#\":\n",
    "                ls.append(5)\n",
    "            if j == \"O\":\n",
    "                ls.append(3)\n",
    "            if j == \"!\":\n",
    "                ls.append(-1)\n",
    "            if j == \"!!\":\n",
    "                ls.append(-3)\n",
    "            if j == \"!!!\":\n",
    "                ls.append(-5)\n",
    "            if j == \"X\":\n",
    "                ls.append(1)\n",
    "    for i in ls:\n",
    "        sum = sum +i\n",
    "    if sum < 0:\n",
    "        sum = 0\n",
    "    return sum\n",
    "\n",
    "print(summation([ [\"!!!\", \"O\", \"!\"], [\"X\", \"#\", \"!!!\"], [\"!!\", \"X\", \"O\"] ]))"
   ]
  },
  {
   "cell_type": "markdown",
   "id": "23ec117c",
   "metadata": {},
   "source": [
    "### Q. 2. Create a function that takes a variable number of arguments, each argument representing the number of items in a group, and returns the number of permutations (combinations) of items that you could get by taking one item from each group.\n",
    "\n",
    "Examples\n",
    "\n",
    "combinations(2, 3) ➞ 6\n",
    "\n",
    "combinations(3, 7, 4) ➞ 84\n",
    "\n",
    "combinations(2, 3, 4, 5) ➞ 120\n"
   ]
  },
  {
   "cell_type": "code",
   "execution_count": 48,
   "id": "9dee3989",
   "metadata": {},
   "outputs": [
    {
     "name": "stdout",
     "output_type": "stream",
     "text": [
      "120\n"
     ]
    }
   ],
   "source": [
    "def combination(arg):\n",
    "    sum = 1\n",
    "    for i in arg:\n",
    "        sum = sum * i\n",
    "    return sum\n",
    "print(combination([2, 3, 4, 5]))"
   ]
  },
  {
   "cell_type": "markdown",
   "id": "6863a08d",
   "metadata": {},
   "source": [
    "### Q. 3. Create a function that takes a string as an argument and returns the Morse code equivalent.\n",
    "Examples\n",
    "\n",
    "encode_morse(\"EDABBIT CHALLENGE\") ➞ \". -.. .- -... -... .. -   -.-. .... .- .-.. .-.. . -. --. .\"\n",
    "\n",
    "encode_morse(\"HELP ME !\") ➞ \".... . .-.. .--.   -- .   -.-.--\"\n"
   ]
  },
  {
   "cell_type": "code",
   "execution_count": 69,
   "id": "4fe5363d",
   "metadata": {},
   "outputs": [
    {
     "data": {
      "text/plain": [
       "'.-...--...-.....- -.-......-.-...-...-.--..'"
      ]
     },
     "execution_count": 69,
     "metadata": {},
     "output_type": "execute_result"
    }
   ],
   "source": [
    "def encode_morse(arg):\n",
    "    char_to_dots = {\n",
    "  'A': '.-', 'B': '-...', 'C': '-.-.', 'D': '-..', 'E': '.', 'F': '..-.',\n",
    "  'G': '--.', 'H': '....', 'I': '..', 'J': '.---', 'K': '-.-', 'L': '.-..',\n",
    "  'M': '--', 'N': '-.', 'O': '---', 'P': '.--.', 'Q': '--.-', 'R': '.-.',\n",
    "  'S': '...', 'T': '-', 'U': '..-', 'V': '...-', 'W': '.--', 'X': '-..-',\n",
    "  'Y': '-.--', 'Z': '--..', ' ': ' ', '0': '-----',\n",
    "  '1': '.----', '2': '..---', '3': '...--', '4': '....-', '5': '.....',\n",
    "  '6': '-....', '7': '--...', '8': '---..', '9': '----.',\n",
    "  '&': '.-...', \"'\": '.----.', '@': '.--.-.', ')': '-.--.-', '(': '-.--.',\n",
    "  ':': '---...', ',': '--..--', '=': '-...-', '!': '-.-.--', '.': '.-.-.-',\n",
    "  '-': '-....-', '+': '.-.-.', '\"': '.-..-.', '?': '..--..', '/': '-..-.'\n",
    "}\n",
    "    ls = []\n",
    "    k = '' #final string concatenation\n",
    "    for i in arg:\n",
    "        if i in char_to_dots.keys():\n",
    "            ls.append(char_to_dots[i])\n",
    "    for i in ls:\n",
    "        k = k + i\n",
    "    return k\n",
    "encode_morse(\"EDABBIT CHALLENGE\")"
   ]
  },
  {
   "cell_type": "markdown",
   "id": "f73feeb1",
   "metadata": {},
   "source": [
    "### Q. 4.  Write a function that takes a number and returns True if it's a prime; False otherwise. The number can be 2^64-1 (2 to the power of 63, not XOR). With the standard technique it would be O(2^64-1), which is much too large for the 10 second time limit.\n",
    "\n",
    "##### Examples\n",
    "\n",
    "##### prime(7) ➞ True\n",
    "\n",
    "##### prime(56963) ➞ True\n",
    "\n",
    "##### prime(5151512515524) ➞ False\n"
   ]
  },
  {
   "cell_type": "code",
   "execution_count": 103,
   "id": "c8af5482",
   "metadata": {},
   "outputs": [
    {
     "name": "stdout",
     "output_type": "stream",
     "text": [
      "9223372036854775808 is not a prime number\n",
      "--- 0.0009975433349609375 seconds ---\n"
     ]
    }
   ],
   "source": [
    "import time\n",
    "start_time = time.time()\n",
    "num = 9223372036854775808 # 2^63\n",
    "flag = False\n",
    "if num > 1:\n",
    "    for i in range(2, num):\n",
    "        if (num % i) == 0:\n",
    "            flag = True\n",
    "            break\n",
    "if flag:\n",
    "    print(num, \"is not a prime number\")\n",
    "    print(\"--- %s seconds ---\" % (time.time() - start_time))\n",
    "else:\n",
    "    print(num, \"is a prime number\")\n",
    "    print(\"--- %s seconds ---\" % (time.time() - start_time))"
   ]
  },
  {
   "cell_type": "markdown",
   "id": "13725c2d",
   "metadata": {},
   "source": [
    "### Q. 5.  Create a function that converts a word to a bitstring and then to a boolean list based on the following criteria:\n",
    "\n",
    "    1. Locate the position of the letter in the English alphabet (from 1 to 26).\n",
    "    2. Odd positions will be represented as 1 and 0 otherwise.\n",
    "    3. Convert the represented positions to boolean values, 1 for True and 0 for False.\n",
    "    4. Store the conversions into an array.\n",
    "\n",
    " Examples\n",
    "\n",
    "to_boolean_list(\"deep\") ➞ [False, True, True, False]\n",
    "\n",
    " #' deep converts to 0110\n",
    " \n",
    " #d is the 4th alphabet - 0\n",
    " \n",
    " #e is the 5th alphabet - 1\n",
    " \n",
    " #e is the 5th alphabet - 1\n",
    " \n",
    " #p is the 16th alphabet - 0\n",
    "\n",
    "to_boolean_list(\"loves\") ➞ [False, True, False, True, True]\n",
    "\n",
    "to_boolean_list(\"tesh\") ➞ [False, True, True, False]\n"
   ]
  },
  {
   "cell_type": "code",
   "execution_count": 122,
   "id": "95ad21f0",
   "metadata": {},
   "outputs": [
    {
     "name": "stdout",
     "output_type": "stream",
     "text": [
      "D is the 4th aplhabet\n",
      "E is the 5th aplhabet\n",
      "E is the 5th aplhabet\n",
      "P is the 16th aplhabet\n",
      "DEEP converts to [0, 1, 1, 0]\n"
     ]
    },
    {
     "data": {
      "text/plain": [
       "(['False', 'True', 'True', 'False'], None)"
      ]
     },
     "execution_count": 122,
     "metadata": {},
     "output_type": "execute_result"
    }
   ],
   "source": [
    "string = [\"A\",\"B\",\"C\",\"D\",\"E\",\"F\",\"G\",\"H\",\"I\",\"J\",\"K\",\"L\",\"M\",\"N\"\n",
    "          ,\"O\",\"P\",\"Q\",\"R\",\"S\",\"T\",\"U\",\"V\",\"W\",\"X\",\"Y\",\"Z\"]\n",
    "ls = []\n",
    "ls1 = []\n",
    "s = 0\n",
    "def to_boolean_list(arg):\n",
    "    arg = arg.upper()\n",
    "    for i in arg:\n",
    "        index = string.index(i)+1\n",
    "        if index % 2 == 0:\n",
    "            s = 0\n",
    "            ls.append(\"False\")\n",
    "        else:\n",
    "            s = 1\n",
    "            ls.append(\"True\")\n",
    "        print(\"{} is the {}th aplhabet\".format(i, index))\n",
    "    for i in ls:\n",
    "        if i == \"True\":\n",
    "            ls1.append(1)\n",
    "        else:\n",
    "            ls1.append(0)\n",
    "    return(ls),print(\"{} converts to {}\".format(arg,ls1))\n",
    "        \n",
    "        \n",
    "to_boolean_list(\"deep\")"
   ]
  }
 ],
 "metadata": {
  "kernelspec": {
   "display_name": "Python 3",
   "language": "python",
   "name": "python3"
  },
  "language_info": {
   "codemirror_mode": {
    "name": "ipython",
    "version": 3
   },
   "file_extension": ".py",
   "mimetype": "text/x-python",
   "name": "python",
   "nbconvert_exporter": "python",
   "pygments_lexer": "ipython3",
   "version": "3.8.8"
  }
 },
 "nbformat": 4,
 "nbformat_minor": 5
}
