{
 "cells": [
  {
   "cell_type": "markdown",
   "id": "b52b9377",
   "metadata": {},
   "source": [
    "### Q. 1. In mathematics, the Fibonacci numbers, commonly denoted Fn, form a sequence, called the Fibonacci sequence, such that each number is the sum of the two preceding ones, starting from 0 and 1:\n",
    "\n",
    "\n",
    "\n",
    "\n",
    "![](fib.png)\n",
    "\n",
    "\n",
    "\n",
    "\n",
    "\n",
    "The beginning of the sequence is this:\n",
    "\n",
    "0, 1, 1, 2, 3, 5, 8, 13, 21, 34, 55, 89, 144, ...\n",
    "\n",
    "The function fastFib(num) returns the fibonacci number Fn, of the given num as an argument.\n",
    "\n",
    "Examples\n",
    "\n",
    "fib_fast(5) ➞ 5\n",
    "\n",
    "fib_fast(10) ➞ 55\n",
    "\n",
    "fib_fast(20) ➞ 6765\n",
    "\n",
    "fib_fast(50) ➞ 12586269025\n"
   ]
  },
  {
   "cell_type": "code",
   "execution_count": 17,
   "id": "efe456a8",
   "metadata": {},
   "outputs": [
    {
     "name": "stdout",
     "output_type": "stream",
     "text": [
      "12586269025\n"
     ]
    }
   ],
   "source": [
    "def fib(num):\n",
    "    a = 1\n",
    "    b = 1\n",
    "    for i in range(num):\n",
    "        yield a\n",
    "        temp = a\n",
    "        a = b\n",
    "        b = temp + b\n",
    "res = 0\n",
    "for i in fib(50):\n",
    "    res = i\n",
    "print(res)"
   ]
  },
  {
   "cell_type": "markdown",
   "id": "11bc0fe5",
   "metadata": {},
   "source": [
    "### Q. 2. Create a function that takes a strings characters as ASCII and returns each characters hexadecimal value as a string.\n",
    "\n",
    "Examples\n",
    "\n",
    "convert_to_hex(\"hello world\") ➞ \"68 65 6c 6c 6f 20 77 6f 72 6c 64\"\n",
    "\n",
    "convert_to_hex(\"Big Boi\") ➞ \"42 69 67 20 42 6f 69\"\n",
    "\n",
    "convert_to_hex(\"Marty Poppinson\") ➞ \"4d 61 72 74 79 20 50 6f 70 70 69 6e 73 6f 6e\"\n"
   ]
  },
  {
   "cell_type": "code",
   "execution_count": 24,
   "id": "e9940ba1",
   "metadata": {},
   "outputs": [
    {
     "data": {
      "text/plain": [
       "'4d 61 72 74 79 20 50 6f 70 70 69 6e 73 6f 6e '"
      ]
     },
     "execution_count": 24,
     "metadata": {},
     "output_type": "execute_result"
    }
   ],
   "source": [
    "def asciiToHex(data):\n",
    "    hexa = \"\"\n",
    "    for i in range(len(data)):\n",
    "        ch = data[i]\n",
    "        asc = ord(ch)\n",
    "        par = hex(asc).lstrip(\"0x\")\n",
    "        hexa += par+\" \"\n",
    "    return hexa\n",
    "asciiToHex(\"Marty Poppinson\")"
   ]
  },
  {
   "cell_type": "markdown",
   "id": "1e7b2b22",
   "metadata": {},
   "source": [
    "### Q. 3. Someone has attempted to censor my strings by replacing every vowel with a *, l*k* th*s. Luckily, I've been able to find the vowels that were removed.\n",
    "\n",
    "Given a censored string and a string of the censored vowels, return the original uncensored string.\n",
    "\n",
    "Example\n",
    "\n",
    "uncensor(\"Wh * r* d* d my v* w* ls g* ?\", \"eeioeo\") ➞ \"Where did my vowels go?\"\n",
    "\n",
    "uncensor(\"abcd\", \"\") ➞ \"abcd\"\n",
    "\n",
    "uncensor(\"* PP * RC* S*\", \"UEAE\") ➞ \"UPPERCASE\"\n"
   ]
  },
  {
   "cell_type": "code",
   "execution_count": 27,
   "id": "daebf58f",
   "metadata": {},
   "outputs": [
    {
     "name": "stdout",
     "output_type": "stream",
     "text": [
      "Where did my vowels go?\n"
     ]
    }
   ],
   "source": [
    "def uncensor(string, vowels):\n",
    "    new_ = \"\"\n",
    "    counter = 0\n",
    "    for i in range(len(string)):\n",
    "        if string[i] == \"*\":\n",
    "            new_ += vowels[counter]\n",
    "            counter += 1\n",
    "        else:\n",
    "            new_ += string[i]\n",
    "    return new_\n",
    " \n",
    "print(uncensor(\"Wh*r* d*d my v*w*ls g*?\", \"eeioeo\"))"
   ]
  },
  {
   "cell_type": "markdown",
   "id": "69df2a6f",
   "metadata": {},
   "source": [
    "### Q. 4. Write a function that takes an IP address and returns the domain name using PTR DNS records.\n",
    "\n",
    "Example\n",
    "\n",
    "get_domain(\"8.8.8.8\") ➞ \"dns.google\"\n",
    "\n",
    "get_domain(\"8.8.4.4\") ➞ \"dns.google\"\n"
   ]
  },
  {
   "cell_type": "code",
   "execution_count": 19,
   "id": "db6dbd4d",
   "metadata": {},
   "outputs": [
    {
     "name": "stdout",
     "output_type": "stream",
     "text": [
      "Collecting dnspython\n",
      "  Downloading dnspython-2.1.0-py3-none-any.whl (241 kB)\n",
      "Installing collected packages: dnspython\n",
      "Successfully installed dnspython-2.1.0\n",
      "A Record :  34.218.62.116\n"
     ]
    },
    {
     "name": "stderr",
     "output_type": "stream",
     "text": [
      "<ipython-input-19-cfd7cf7e2c35>:5: DeprecationWarning: please use dns.resolver.resolve() instead\n",
      "  result = dns.resolver.query('geeksforgeeks.org', 'A')\n"
     ]
    }
   ],
   "source": [
    "!pip install dnspython"
   ]
  },
  {
   "cell_type": "code",
   "execution_count": 11,
   "id": "349a660a",
   "metadata": {},
   "outputs": [
    {
     "name": "stdout",
     "output_type": "stream",
     "text": [
      "dns.google.\n"
     ]
    }
   ],
   "source": [
    "from dns import resolver\n",
    "from dns import reversename\n",
    "def get_domain(addr):\n",
    "    addr = reversename.from_address(addr)\n",
    "    res=resolver.resolve(addr, \"PTR\")[0]\n",
    "    print(res)\n",
    "get_domain(\"8.8.4.4\")"
   ]
  },
  {
   "cell_type": "markdown",
   "id": "63cfde50",
   "metadata": {},
   "source": [
    "### Q. 5. Create a function that takes an integer n and returns the factorial of factorials. See below examples for a better understanding:\n",
    "\n",
    "Examples\n",
    "\n",
    "fact_of_fact(4) ➞ 288\n",
    "\n",
    "#4! * 3! * 2! * 1! = 288\n",
    "\n",
    "fact_of_fact(5) ➞ 34560\n",
    "\n",
    "fact_of_fact(6) ➞ 24883200\n"
   ]
  },
  {
   "cell_type": "code",
   "execution_count": 16,
   "id": "2e3dd8a8",
   "metadata": {},
   "outputs": [
    {
     "name": "stdout",
     "output_type": "stream",
     "text": [
      "Enter a number to calculate Factorial: 6\n",
      "Factorial of number is: 24883200\n"
     ]
    }
   ],
   "source": [
    "number = int(input(\"Enter a number to calculate Factorial: \"))\n",
    "fac = 1\n",
    "for i in range(number,1,-1):\n",
    "    \n",
    "    if i < 0:\n",
    "        print(\"can not calculate factorial for negative number! \\nEnter a positive number\")\n",
    "    elif i == 0 or i == 1:\n",
    "        print(\"Factorial of number is: {}\".format(1))\n",
    "    else:\n",
    "        \n",
    "        while ( i > 1):\n",
    "            fac *= i\n",
    "            i -= 1\n",
    "print(\"Factorial of number is: {}\".format(fac))"
   ]
  },
  {
   "cell_type": "code",
   "execution_count": null,
   "id": "f747030a",
   "metadata": {},
   "outputs": [],
   "source": []
  },
  {
   "cell_type": "code",
   "execution_count": null,
   "id": "f9a75c63",
   "metadata": {},
   "outputs": [],
   "source": []
  }
 ],
 "metadata": {
  "kernelspec": {
   "display_name": "Python 3",
   "language": "python",
   "name": "python3"
  },
  "language_info": {
   "codemirror_mode": {
    "name": "ipython",
    "version": 3
   },
   "file_extension": ".py",
   "mimetype": "text/x-python",
   "name": "python",
   "nbconvert_exporter": "python",
   "pygments_lexer": "ipython3",
   "version": "3.8.8"
  }
 },
 "nbformat": 4,
 "nbformat_minor": 5
}
