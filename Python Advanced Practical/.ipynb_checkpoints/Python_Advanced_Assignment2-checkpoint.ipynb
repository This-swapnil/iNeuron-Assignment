{
 "cells": [
  {
   "attachments": {},
   "cell_type": "markdown",
   "id": "1b7a4f8a",
   "metadata": {},
   "source": [
    "### Q. 1. Write a function that takes a positive integer num and calculates how many dots exist in a pentagonal shape around the center dot on the Nth iteration.\n",
    "\n",
    "##### In the image below you can see the first iteration is only a single dot. On the second, there are 6 dots. On the third, there are 16 dots, and on the fourth there are 31 dots.\n",
    "\n",
    "![](pen.png)\n",
    "\n",
    "Return the number of dots that exist in the whole pentagon on the Nth iteration.\n",
    "\n",
    "Examples\n",
    "\n",
    "pentagonal(1) ➞ 1\n",
    "\n",
    "pentagonal(2) ➞ 6\n",
    "\n",
    "pentagonal(3) ➞ 16\n",
    "\n",
    "pentagonal(8) ➞ 141 "
   ]
  },
  {
   "cell_type": "code",
   "execution_count": 10,
   "id": "71e91bec",
   "metadata": {},
   "outputs": [
    {
     "name": "stdout",
     "output_type": "stream",
     "text": [
      "51.0\n"
     ]
    }
   ],
   "source": [
    "# The formula for this sequence is (5(n-1)^2 + 5(n-1) + 2) / 2\n",
    "def PentagonalNumber(num): \n",
    "    num = num - 1\n",
    "    number = ((5*(num**2)) + (5*num) + 2) / 2 \n",
    "    return number\n",
    "    \n",
    "# keep this function call here  \n",
    "print(PentagonalNumber(5))"
   ]
  },
  {
   "cell_type": "markdown",
   "id": "113827d7",
   "metadata": {},
   "source": [
    "### Q. 2. Make a function that encrypts a given input with these steps:\n",
    "Input: &quot;apple&quot;\n",
    "\n",
    "Step 1: Reverse the input: &quot;elppa&quot;\n",
    "\n",
    "Step 2: Replace all vowels using the following chart:\n",
    "a =&gt; 0\n",
    "e =&gt; 1\n",
    "i =&gt; 2\n",
    "o =&gt; 2\n",
    "u =&gt; 3\n",
    "# &quot;1lpp0&quot;\n",
    "\n",
    "Step 3: Add &quot;aca&quot; to the end of the word: &quot;1lpp0aca&quot;\n",
    "\n",
    "Output: &quot;1lpp0aca&quot;\n",
    "\n",
    "Examples\n",
    "encrypt(&quot;banana&quot;) ➞ &quot;0n0n0baca&quot;\n",
    "\n",
    "encrypt(&quot;karaca&quot;) ➞ &quot;0c0r0kaca&quot;\n",
    "\n",
    "encrypt(&quot;burak&quot;) ➞ &quot;k0r3baca&quot;\n",
    "\n",
    "encrypt(&quot;alpaca&quot;) ➞ &quot;0c0pl0aca&quot;"
   ]
  },
  {
   "cell_type": "code",
   "execution_count": 38,
   "id": "f47d3ba5",
   "metadata": {},
   "outputs": [
    {
     "name": "stdout",
     "output_type": "stream",
     "text": [
      "reserver is,  ananab\n",
      "Encryption is:  0n0n0baca\n"
     ]
    }
   ],
   "source": [
    "def encrypt(args):\n",
    "    args.lower()\n",
    "    s = args[::-1]\n",
    "    print(\"reserver is, \",s)\n",
    "    for i in s:\n",
    "        if i == \"a\":\n",
    "            s = s.replace(i,'0')\n",
    "        elif i == 'e':\n",
    "            s = s.replace(i,'1')\n",
    "        elif i == 'i':\n",
    "            s = s.replace(i,'2')\n",
    "        elif i == \"o\":\n",
    "            s = s.replace(i,'2')\n",
    "        elif i == 'u':\n",
    "            s = s.replace(i,'3')\n",
    "    s = s + \"aca\"\n",
    "    print(\"Encryption is: \",s)\n",
    "a = 0 \n",
    "e = 1 \n",
    "i = 2 \n",
    "o = 2 \n",
    "u = 3\n",
    "encrypt(\"banana\")"
   ]
  },
  {
   "cell_type": "markdown",
   "id": "383bfc4c",
   "metadata": {},
   "source": [
    "### Q. 3. Given the month and year as numbers, return whether that month contains a Friday 13th.(i.e You can check Python's datetime module)\n",
    "\n",
    "Examples\n",
    "\n",
    "has_friday_13(3, 2020) ➞ True\n",
    "\n",
    "has_friday_13(10, 2017) ➞ True\n",
    "\n",
    "has_friday_13(1, 1985) ➞ False\n"
   ]
  },
  {
   "cell_type": "code",
   "execution_count": 11,
   "id": "ee0d7226",
   "metadata": {},
   "outputs": [
    {
     "name": "stdout",
     "output_type": "stream",
     "text": [
      "Date we provide: 13 3 2020\n",
      "Day on that date: Friday\n"
     ]
    },
    {
     "data": {
      "text/plain": [
       "True"
      ]
     },
     "execution_count": 11,
     "metadata": {},
     "output_type": "execute_result"
    }
   ],
   "source": [
    "import datetime\n",
    "from datetime import datetime\n",
    "import calendar\n",
    "\n",
    "def has_friday_13(month, year): \n",
    "    date = f'13 {month} {year}'.format() # format of given string\n",
    "    print(\"Date we provide: {}\".format(date))\n",
    "    day = datetime.strptime(date, '%d %m %Y').weekday() # get the day on that date\n",
    "    print(\"Day on that date: {}\".format(calendar.day_name[day]))\n",
    "    return (calendar.day_name[day]) == \"Friday\"\n",
    "has_friday_13(3,2020)"
   ]
  },
  {
   "cell_type": "markdown",
   "id": "7cf29a62",
   "metadata": {},
   "source": [
    "### Q. 4. Write a regular expression that will help us count how many bad cookies are produced every day. You must use RegEx negative lookbehind.\n",
    "\n",
    "Example\n",
    "\n",
    "lst = [\"bad cookie\", \"good cookie\", \"bad cookie\", \"good cookie\", \"good cookie\"]\n",
    "\n",
    "pattern = \"yourregularexpressionhere\"\n",
    "\n",
    "len(re.findall(pattern, \", \".join(lst))) ➞ 2\n"
   ]
  },
  {
   "cell_type": "code",
   "execution_count": 17,
   "id": "81e540bd",
   "metadata": {},
   "outputs": [
    {
     "name": "stdout",
     "output_type": "stream",
     "text": [
      "Bad Cookies produced every day is: 2\n"
     ]
    }
   ],
   "source": [
    "import re\n",
    "lst = [\"bad cookie\", \"good cookie\", \"bad cookie\", \"good cookie\", \"good cookie\"]\n",
    "pattern = \"bad cookie\"\n",
    "\n",
    "count = re.findall(pattern, \", \".join(lst))\n",
    "print(\"Bad Cookies produced every day is: {}\".format(len(count)))"
   ]
  },
  {
   "cell_type": "markdown",
   "id": "965de480",
   "metadata": {},
   "source": [
    "### Q. 5. Given a list of words in the singular form, return a set of those words in the plural form if they appear more than once in the list.\n",
    "\n",
    "Examples\n",
    "\n",
    "pluralize([\"cow\", \"pig\", \"cow\", \"cow\"]) ➞ { \"cows\", \"pig\" }\n",
    "\n",
    "pluralize([\"table\", \"table\", \"table\"]) ➞ { \"tables\" }\n",
    "\n",
    "pluralize([\"chair\", \"pencil\", \"arm\"]) ➞ { \"chair\", \"pencil\", \"arm\" }\n"
   ]
  },
  {
   "cell_type": "code",
   "execution_count": 7,
   "id": "94e5823b",
   "metadata": {},
   "outputs": [
    {
     "name": "stdout",
     "output_type": "stream",
     "text": [
      "['chair', 'pencil', 'arm']\n"
     ]
    }
   ],
   "source": [
    "ls = [\"chair\", \"pencil\", \"arm\" ]\n",
    "#ls = ['cow','pig','cow','cow']\n",
    "dum = {x for x in ls if ls.count(x) > 1}\n",
    "if len(list(dum)) == 0:\n",
    "    print(ls)\n",
    "else:\n",
    "    l = []\n",
    "    for i in list(dum):\n",
    "        if i.endswith('fe'):\n",
    "            #knife -> knives\n",
    "            i = i[:-2] + 'ves'\n",
    "            l.append(i)\n",
    "        elif i.endswith('f'):\n",
    "            # wolf -> wolves\n",
    "            i = i[:-1] + 'ves'\n",
    "            l.append(i)\n",
    "        elif i.endswith('o'):\n",
    "            # potato -> potatoes\n",
    "            i = i + 'es'\n",
    "            l.append(i)\n",
    "        elif i.endswith('us'):\n",
    "            # cactus -> cacti\n",
    "            i = i[:-2] + 'i'\n",
    "            l.append(i)\n",
    "        elif i.endswith('on'):\n",
    "            # criterion -> criteria\n",
    "            i = i[:-2] + 'a'\n",
    "            l.append(i)\n",
    "        elif i.endswith('y'):\n",
    "            # community -> communities\n",
    "            i = i[:-1] + 'ies'\n",
    "            l.append(i)\n",
    "        elif i[-1] in 'sx' or i[-2:] in ['sh', 'ch']:\n",
    "            i = i + 'es'\n",
    "            l.append(i)\n",
    "        elif i.endswith('an'):\n",
    "            i = i[:-2] + 'en'\n",
    "            l.append(i)\n",
    "        else:\n",
    "            i = i + 's'\n",
    "            l.append(i)\n",
    "    print(l)"
   ]
  },
  {
   "cell_type": "code",
   "execution_count": null,
   "id": "91c40217",
   "metadata": {},
   "outputs": [],
   "source": []
  }
 ],
 "metadata": {
  "kernelspec": {
   "display_name": "Python 3",
   "language": "python",
   "name": "python3"
  },
  "language_info": {
   "codemirror_mode": {
    "name": "ipython",
    "version": 3
   },
   "file_extension": ".py",
   "mimetype": "text/x-python",
   "name": "python",
   "nbconvert_exporter": "python",
   "pygments_lexer": "ipython3",
   "version": "3.8.8"
  }
 },
 "nbformat": 4,
 "nbformat_minor": 5
}
