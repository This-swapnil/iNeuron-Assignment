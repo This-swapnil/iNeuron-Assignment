{
 "cells": [
  {
   "cell_type": "markdown",
   "id": "f77abfba",
   "metadata": {},
   "source": [
    "### Q 1. Create a function to perform basic arithmetic operations that includes addition, subtraction, multiplication and division on a string number (e.g. \"12 + 24\" or \"23 - 21\" or \"12 // 12\" or \"12 * 21\").\n",
    "\n",
    "    Here, we have 1 followed by a space, operator followed by another space and 2. For the challenge, we are going to have only two numbers between 1 valid operator. The return value should be a number.\n",
    "\n",
    "    eval() is not allowed. In case of division, whenever the second number equals \"0\" return -1.\n",
    "\n",
    "    For example:\n",
    "\n",
    "    \"15 // 0\"  ➞ -1\n",
    "\n",
    "    Examples\n",
    "    arithmetic_operation(\"12 + 12\") ➞ 24 // 12 + 12 = 24\n",
    "    arithmetic_operation(\"12 - 12\") ➞ 24 // 12 - 12 = 0\n",
    "    arithmetic_operation(\"12 * 12\") ➞ 144 // 12 * 12 = 144\n",
    "    arithmetic_operation(\"12 // 0\") ➞ -1 // 12 / 0 = -1"
   ]
  },
  {
   "cell_type": "code",
   "execution_count": 7,
   "id": "c9f04009",
   "metadata": {},
   "outputs": [
    {
     "name": "stdout",
     "output_type": "stream",
     "text": [
      "The expression : 12 // 0\n"
     ]
    },
    {
     "data": {
      "text/plain": [
       "-1"
      ]
     },
     "execution_count": 7,
     "metadata": {},
     "output_type": "execute_result"
    }
   ],
   "source": [
    "def arithmetic_operation(str):\n",
    "    exp = list(str.split())\n",
    "    if exp[1] == '+':\n",
    "        print(\"The expression :\",str)\n",
    "        return int(exp[0]) + int(exp[2])\n",
    "    elif exp[1] == '-':\n",
    "        print(\"The expression :\",str)\n",
    "        return int(exp[0]) - int(exp[2])\n",
    "    elif exp[1] == '//':\n",
    "        print(\"The expression :\",str)\n",
    "        if int(exp[2]) == 0:\n",
    "            return -1\n",
    "        else:\n",
    "            return int(exp[0]) // int(exp[2])    \n",
    "    elif exp[1] == '*':\n",
    "        print(\"The expression :\",str)\n",
    "        return int(exp[0]) * int(exp[2]) \n",
    "    elif exp[1] == '/':\n",
    "        print(\"The expression :\",str)\n",
    "        if int(exp[2]) == 0 :\n",
    "            return -1\n",
    "        else:            \n",
    "            return int(exp[0]) / int(exp[2])\n",
    "arithmetic_operation('12 // 0')"
   ]
  },
  {
   "cell_type": "markdown",
   "id": "a7010ae8",
   "metadata": {},
   "source": [
    "### Q 2. Write a function that takes the coordinates of three points in the form of a 2d array and returns the perimeter of the triangle. The given points are the vertices of a triangle on a two-dimensional plane.\n",
    "\n",
    "    Examples\n",
    "    perimeter( [ [15, 7], [5, 22], [11, 1] ] ) ➞ 47.08\n",
    "    perimeter( [ [0, 0], [0, 1], [1, 0] ] ) ➞ 3.42\n",
    "    perimeter( [ [-10, -10], [10, 10 ], [-10, 10] ] ) ➞ 68.28"
   ]
  },
  {
   "cell_type": "code",
   "execution_count": 13,
   "id": "92dd6da7",
   "metadata": {},
   "outputs": [
    {
     "name": "stdout",
     "output_type": "stream",
     "text": [
      "-10 -10 10 10 -10 10\n"
     ]
    },
    {
     "data": {
      "text/plain": [
       "('Perimeter of given triangle is: ', 68.2842712474619)"
      ]
     },
     "execution_count": 13,
     "metadata": {},
     "output_type": "execute_result"
    }
   ],
   "source": [
    "import math\n",
    "def perimeter(array):\n",
    "    x1 = array[0][0]\n",
    "    x2 = array[0][1]\n",
    "    x3 = array[1][0]\n",
    "    y1 = array[1][1]\n",
    "    y2 = array[2][0]\n",
    "    y3 = array[2][1]\n",
    "    l1 = math.sqrt((x1 - x2)**2 + (y1 - y2)**2)\n",
    "    l2 = math.sqrt((x2 - x3)**2 + (y2 - y3)**2)\n",
    "    l3 = math.sqrt((x3 - x1)**2 + (y3 - y1)**2)\n",
    "    return \"Perimeter of given triangle is: \",l1+l2+l3\n",
    "perimeter([[-10, -10], [10, 10 ], [-10, 10]])"
   ]
  },
  {
   "cell_type": "markdown",
   "id": "3e0c2339",
   "metadata": {},
   "source": [
    "### Q 3. A city skyline can be represented as a 2-D list with 1s representing buildings. In the example below, the height of the tallest building is 4 (second-most right column).\n",
    "\n",
    "    [[0, 0, 0, 0, 0, 0],\n",
    "    [0, 0, 0, 0, 1, 0],\n",
    "    [0, 0, 1, 0, 1, 0],\n",
    "    [0, 1, 1, 1, 1, 0],\n",
    "    [1, 1, 1, 1, 1, 1]]\n",
    "\n",
    "    Create a function that takes a skyline (2-D list of 0's and 1's) and returns the height of the tallest skyscraper.\n",
    "\n",
    "    Examples\n",
    "\n",
    "    tallest_skyscraper([\n",
    "\n",
    "    [0, 0, 0, 0],\n",
    "    [0, 1, 0, 0],\n",
    "    [0, 1, 1, 0],\n",
    "    [1, 1, 1, 1]\n",
    "    ]) ➞ 3\n",
    "\n",
    "    tallest_skyscraper([\n",
    "    [0, 1, 0, 0],\n",
    "    [0, 1, 0, 0],\n",
    "    [0, 1, 1, 0],\n",
    "    [1, 1, 1, 1]\n",
    "    ]) ➞ 4\n",
    "\n",
    "    tallest_skyscraper([\n",
    "    [0, 0, 0, 0],\n",
    "    [0, 0, 0, 0],\n",
    "    [1, 1, 1, 0],\n",
    "    [1, 1, 1, 1]\n",
    "    ]) ➞ 2"
   ]
  },
  {
   "cell_type": "code",
   "execution_count": 18,
   "id": "678824f4",
   "metadata": {},
   "outputs": [
    {
     "data": {
      "text/plain": [
       "('The height of tallest skyscraper is: ', 4)"
      ]
     },
     "execution_count": 18,
     "metadata": {},
     "output_type": "execute_result"
    }
   ],
   "source": [
    "def tallest_skyscrapper(array):\n",
    "    height=[]\n",
    "    sum=0\n",
    "    for i in range(len(array[0])):\n",
    "        for j in range(len(array)):\n",
    "            sum=sum+array[j][i]\n",
    "        height.append(sum)\n",
    "        sum=0\n",
    "    return \"The height of tallest skyscraper is: \",max(height)\n",
    "tallest_skyscrapper([\n",
    "[0, 1, 0, 0],\n",
    "[0, 1, 0, 0],\n",
    "[0, 1, 1, 0],\n",
    "[1, 1, 1, 1] ])"
   ]
  },
  {
   "cell_type": "markdown",
   "id": "9ef56f98",
   "metadata": {},
   "source": [
    "### Q 4. A financial institution provides professional services to banks and claims charges from the customers based on the number of man-days provided. Internally, it has set a scheme to motivate and reward staff to meet and exceed targeted billable utilization and revenues by paying a bonus for each day claimed from customers in excess of a threshold target.\n",
    "\n",
    "    This quarterly scheme is calculated with a threshold target of 32 days per quarter, and the incentive payment for each billable day in excess of such threshold target is shown as follows:\n",
    "\n",
    "    Days\t       \"\\t\"                      Bonus\n",
    "\n",
    "    0 to 32 days\t                   Zero\n",
    "\n",
    "    33 to 40 days\t         SGD$325 per billable day\n",
    "\n",
    "    41 to 48 days\t         SGD$550 per billable day\n",
    "\n",
    "    Greater than 48 days      SGD$600 per billable day\n",
    "\n",
    "    Please note that incentive payment is calculated progressively. As an example, if an employee reached total billable days of 45 in a quarter, his/her incentive payment is computed as follows:\n",
    "\n",
    "    32*0 + 8*325 + 5*550 = 5350\n",
    "\n",
    "    Write a function to read the billable days of an employee and return the bonus he/she has obtained in that quarter.\n",
    "\n",
    "    Examples\n",
    "\n",
    "    bonus(15) ➞ 0\n",
    "\n",
    "    bonus(37) ➞ 1625\n",
    "\n",
    "    bonus(50) ➞ 8200\n"
   ]
  },
  {
   "cell_type": "code",
   "execution_count": 26,
   "id": "91ee7dc1",
   "metadata": {},
   "outputs": [
    {
     "data": {
      "text/plain": [
       "('The incentive is: ', 11200)"
      ]
     },
     "execution_count": 26,
     "metadata": {},
     "output_type": "execute_result"
    }
   ],
   "source": [
    "def bonus(day):\n",
    "    inc=0\n",
    "    days=[32,40,48]\n",
    "    while True:\n",
    "        if day<=32:\n",
    "            break\n",
    "        if day >48:\n",
    "            inc=inc+(day-days[2])*600\n",
    "            day = day-(day-days[2])\n",
    "#             print(inc)\n",
    "        elif day > 40:\n",
    "            inc=inc+(day-days[1])*550\n",
    "            day=day-(day-days[1])\n",
    "        elif day > 32:\n",
    "            inc=inc+(day-days[0])*325\n",
    "            day=day-(day-days[0])\n",
    "    return \"The incentive is: \",inc\n",
    "bonus(55)"
   ]
  },
  {
   "cell_type": "markdown",
   "id": "a57a26b2",
   "metadata": {},
   "source": [
    "### Q 5. A number is said to be Disarium if the sum of its digits raised to their respective positions is the number itself.\n",
    "\n",
    "    Create a function that determines whether a number is a Disarium or not.\n",
    "    Examples\n",
    "    is_disarium(75) ➞ False\n",
    "    #7^1 + 5^2 = 7 + 25 = 32\n",
    "    is_disarium(135) ➞ True\n",
    "    #1^1 + 3^2 + 5^3 = 1 + 9 + 125 = 135\n",
    "    is_disarium(544) ➞ False\n",
    "    is_disarium(518) ➞ True\n",
    "    is_disarium(466) ➞ False\n",
    "    is_disarium(8) ➞ True\n"
   ]
  },
  {
   "cell_type": "code",
   "execution_count": 58,
   "id": "6b1eeb26",
   "metadata": {},
   "outputs": [
    {
     "data": {
      "text/plain": [
       "(544, ' is not a disarium number')"
      ]
     },
     "execution_count": 58,
     "metadata": {},
     "output_type": "execute_result"
    }
   ],
   "source": [
    "def is_disarium(num):\n",
    "    sum1 = 0\n",
    "    lst = [int(x) for x in str(num)]\n",
    "    for i in range(len(lst)):\n",
    "        sum1+=lst[i]**(i+1)\n",
    "    if sum1 == num:\n",
    "        return num,\" is a disarium number\"\n",
    "    else:\n",
    "        return num,\" is not a disarium number\" \n",
    "is_disarium(544)"
   ]
  }
 ],
 "metadata": {
  "kernelspec": {
   "display_name": "Python 3",
   "language": "python",
   "name": "python3"
  },
  "language_info": {
   "codemirror_mode": {
    "name": "ipython",
    "version": 3
   },
   "file_extension": ".py",
   "mimetype": "text/x-python",
   "name": "python",
   "nbconvert_exporter": "python",
   "pygments_lexer": "ipython3",
   "version": "3.8.8"
  }
 },
 "nbformat": 4,
 "nbformat_minor": 5
}
