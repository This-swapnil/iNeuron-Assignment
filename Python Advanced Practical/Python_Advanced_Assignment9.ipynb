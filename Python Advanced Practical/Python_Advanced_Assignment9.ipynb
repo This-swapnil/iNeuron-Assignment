{
 "cells": [
  {
   "cell_type": "markdown",
   "id": "acf3fe2e",
   "metadata": {},
   "source": [
    "### Q 1. YouTube offers different playback speed options for users. This allows users to increase or decrease the speed of the video content. Given the actual duration and playback speed of the video, calculate the playback duration of the video.\n",
    "\n",
    "    Examples\n",
    "\n",
    "    playback_duration(\"00:30:00\", 2) ➞ \"00:15:00\"\n",
    "\n",
    "    playback_duration(\"01:20:00\", 1.5) ➞ \"00:53:20\"\n",
    "\n",
    "    playback_duration(\"51:20:09\", 0.5) ➞ \"102:40:18\"\n"
   ]
  },
  {
   "cell_type": "code",
   "execution_count": 3,
   "id": "8e985d35",
   "metadata": {},
   "outputs": [
    {
     "data": {
      "text/plain": [
       "'0:53:20'"
      ]
     },
     "execution_count": 3,
     "metadata": {},
     "output_type": "execute_result"
    }
   ],
   "source": [
    "import datetime\n",
    "def playback_duration(Duration,speed):\n",
    "    hour = int(Duration.split(':')[0])\n",
    "    minute = int(Duration.split(':')[1])\n",
    "    sec = int(Duration.split(':')[2])\n",
    "    totalsec = ((hour*60*60) + (minute*60) + sec)/speed\n",
    "    #convert seconds into hour and minute format\n",
    "    conversion = datetime.timedelta(seconds=totalsec)\n",
    "    converted_time = str(conversion)\n",
    "    return converted_time\n",
    "playback_duration(\"01:20:00\",1.5)"
   ]
  },
  {
   "cell_type": "markdown",
   "id": "98dc1d4f",
   "metadata": {},
   "source": [
    "### Q 2. We needs your help to construct a building which will be a pile of n cubes. The cube at the bottom will have a volume of n^3, the cube above will have volume of (n-1)^3 and so on until the top which will have a volume of 1^3.\n",
    "\n",
    "Given the total volume m of the building, can you find the number of cubes n required for the building?\n",
    "In other words, you have to return an integer n such that:\n",
    "n^3 + (n-1)^3 + ... + 1^3 == m\n",
    "Return None if there is no such number.\n",
    "\n",
    "    Examples\n",
    "\n",
    "    pile_of_cubes(1071225) ➞ 45\n",
    "\n",
    "    pile_of_cubes(4183059834009) ➞ 2022\n",
    "\n",
    "    pile_of_cubes(16) ➞ None\n"
   ]
  },
  {
   "cell_type": "code",
   "execution_count": 11,
   "id": "2192b58c",
   "metadata": {},
   "outputs": [
    {
     "data": {
      "text/plain": [
       "45"
      ]
     },
     "execution_count": 11,
     "metadata": {},
     "output_type": "execute_result"
    }
   ],
   "source": [
    "def max_level(remain_volume, currLevel):\n",
    "    if remain_volume < currLevel ** 3:\n",
    "        return 'None'\n",
    "    if remain_volume == currLevel ** 3:\n",
    "        return currLevel\n",
    "    return max_level(remain_volume - currLevel**3, currLevel + 1)\n",
    "\n",
    "def pile_of_cubes(vol):\n",
    "    level = 1\n",
    "    return max_level(vol, level)\n",
    "#pile_of_cubes(16)\n",
    "pile_of_cubes(1071225)"
   ]
  },
  {
   "cell_type": "markdown",
   "id": "812bdc0b",
   "metadata": {},
   "source": [
    "### Q 3. A fulcrum of a list is an integer such that all elements to the left of it and all elements to the right of it sum to the same value. Write a function that finds the fulcrum of a list.\n",
    "\n",
    "To illustrate:\n",
    "find_fulcrum([3, 1, 5, 2, 4, 6, -1]) ➞ 2\n",
    "// Since [3, 1, 5] and [4, 6, -1] both sum to 9\n",
    "\n",
    "    Examples\n",
    "\n",
    "    find_fulcrum([1, 2, 4, 9, 10, -10, -9, 3]) ➞ 4\n",
    "\n",
    "    find_fulcrum([9, 1, 9]) ➞ 1\n",
    "\n",
    "    find_fulcrum([7, -1, 0, -1, 1, 1, 2, 3]) ➞ 0\n",
    "\n",
    "    find_fulcrum([8, 8, 8, 8]) ➞ -1\n"
   ]
  },
  {
   "cell_type": "code",
   "execution_count": 15,
   "id": "eb06e4a8",
   "metadata": {},
   "outputs": [
    {
     "data": {
      "text/plain": [
       "4"
      ]
     },
     "execution_count": 15,
     "metadata": {},
     "output_type": "execute_result"
    }
   ],
   "source": [
    "def find_fulcrum(arr):\n",
    "    size = len(arr)\n",
    "    right_sum, left_sum = 0, 0\n",
    "    for i in range(1, size) :\n",
    "        right_sum += arr[i]\n",
    "    i, j = 0, 1\n",
    "    while j < size :\n",
    "        right_sum -= arr[j]\n",
    "        left_sum += arr[i]\n",
    "        if left_sum == right_sum :\n",
    "            return arr[i + 1]\n",
    "        j += 1\n",
    "        i += 1\n",
    "    return -1\n",
    "find_fulcrum([1, 2, 4, 9, 10, -10, -9, 3])"
   ]
  },
  {
   "cell_type": "markdown",
   "id": "db1a261e",
   "metadata": {},
   "source": [
    "### Q 4. Given a list of integers representing the color of each sock, determine how many pairs of socks with matching colors there are. For example, there are 7 socks with colors [1, 2, 1, 2, 1, 3, 2]. There is one pair of color 1 and one of color 2. There are three odd socks left, one of each color. The number of pairs is 2.\n",
    "Create a function that returns an integer representing the number of matching pairs of socks that are available.\n",
    "    Examples\n",
    "\n",
    "    sock_merchant([10, 20, 20, 10, 10, 30, 50, 10, 20]) ➞ 3\n",
    "\n",
    "    sock_merchant([50, 20, 30, 90, 30, 20, 50, 20, 90]) ➞ 4\n",
    "\n",
    "    sock_merchant([]) ➞ 0\n"
   ]
  },
  {
   "cell_type": "code",
   "execution_count": 21,
   "id": "b5418417",
   "metadata": {},
   "outputs": [
    {
     "name": "stdout",
     "output_type": "stream",
     "text": [
      "[50, 20, 90, 30]\n"
     ]
    },
    {
     "data": {
      "text/plain": [
       "4"
      ]
     },
     "execution_count": 21,
     "metadata": {},
     "output_type": "execute_result"
    }
   ],
   "source": [
    "def sock_merchant(lst):\n",
    "    listUnique = list(set(lst))\n",
    "    print(listUnique)\n",
    "    pairs = 0\n",
    "    for i in listUnique:\n",
    "        if lst.count(i) // 2 > 0:\n",
    "            pairs = pairs + lst.count(i) // 2\n",
    "    return pairs\n",
    "sock_merchant([50, 20, 30, 90, 30, 20, 50, 20, 90])"
   ]
  },
  {
   "cell_type": "markdown",
   "id": "c1b7214e",
   "metadata": {},
   "source": [
    "### Q 5. Create a function that takes a string containing integers as well as other characters and return the sum of the negative integers only.\n",
    "\n",
    "    Examples\n",
    "    negative_sum(\"-12 13%14&-11\") ➞ -23\n",
    "    # -12 + -11 = -23\n",
    "    negative_sum(\"22 13%14&-11-22 13 12\") ➞ -33\n",
    "    # -11 + -22 = -33\n"
   ]
  },
  {
   "cell_type": "code",
   "execution_count": 28,
   "id": "fb734cd8",
   "metadata": {},
   "outputs": [
    {
     "name": "stdout",
     "output_type": "stream",
     "text": [
      "Sum of all negative number is: -33\n"
     ]
    }
   ],
   "source": [
    "import re\n",
    "\n",
    "def negative_sum(num):\n",
    "    result = []\n",
    "    for i in re.findall(r'-\\d+',num):\n",
    "        result.append(int(i))\n",
    "    print(\"Sum of all negative number is: {}\".format(sum(result)))\n",
    "negative_sum(\"22 13%14&-11-22 13 12\")"
   ]
  },
  {
   "cell_type": "code",
   "execution_count": null,
   "id": "e3463ce0",
   "metadata": {},
   "outputs": [],
   "source": []
  }
 ],
 "metadata": {
  "kernelspec": {
   "display_name": "Python 3",
   "language": "python",
   "name": "python3"
  },
  "language_info": {
   "codemirror_mode": {
    "name": "ipython",
    "version": 3
   },
   "file_extension": ".py",
   "mimetype": "text/x-python",
   "name": "python",
   "nbconvert_exporter": "python",
   "pygments_lexer": "ipython3",
   "version": "3.8.8"
  }
 },
 "nbformat": 4,
 "nbformat_minor": 5
}
