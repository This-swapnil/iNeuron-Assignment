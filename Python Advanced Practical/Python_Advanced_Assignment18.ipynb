{
 "cells": [
  {
   "cell_type": "markdown",
   "id": "d0eca1b0",
   "metadata": {},
   "source": [
    "### Q 1. A robot has been given a list of movement instructions. Each instruction is either left, right, up or down, followed by a distance to move. The robot starts at [0, 0]. You want to calculate where the robot will end up and return its final position as a list.\n",
    "\n",
    "    To illustrate, if the robot is given the following instructions:\n",
    "\n",
    "    [\"right 10\", \"up 50\", \"left 30\", \"down 10\"]\n",
    "\n",
    "    It will end up 20 left and 40 up from where it started, so we return [-20, 40].\n",
    "\n",
    "    Examples\n",
    "\n",
    "    track_robot([\"right 10\", \"up 50\", \"left 30\", \"down 10\"]) ➞ [-20, 40]\n",
    "\n",
    "    track_robot([]) ➞ [0, 0]\n",
    "    // If there are no instructions, the robot doesn't move.\n",
    "\n",
    "    track_robot([\"right 100\", \"right 100\", \"up 500\", \"up 10000\"]) ➞ [200, 10500]\n"
   ]
  },
  {
   "cell_type": "code",
   "execution_count": 2,
   "id": "a83cc8ac",
   "metadata": {},
   "outputs": [
    {
     "data": {
      "text/plain": [
       "[200, 10500]"
      ]
     },
     "execution_count": 2,
     "metadata": {},
     "output_type": "execute_result"
    }
   ],
   "source": [
    "def track_robot(lst):\n",
    "    start = [0, 0]\n",
    "    for i in lst:\n",
    "        way, val = i.split(' ')\n",
    "        if way == \"right\":\n",
    "            start[0] += int(val)\n",
    "        elif way == \"left\":\n",
    "            start[0] += int(val)\n",
    "        elif way == \"up\":\n",
    "            start[1] += int(val)\n",
    "        else:\n",
    "            start[1] += int(val)\n",
    "    return (start)\n",
    "\n",
    "\n",
    "track_robot([\"right 100\", \"right 100\", \"up 500\", \"up 10000\"])"
   ]
  },
  {
   "cell_type": "markdown",
   "id": "6c6df41a",
   "metadata": {},
   "source": [
    "### Q  2. Write a function that will return the longest word in a sentence. In cases where more than one word is found, return the first one.\n",
    "\n",
    "    Examples\n",
    "\n",
    "    find_longest(\"A thing of beauty is a joy forever.\") ➞ \"forever\"\n",
    "\n",
    "    find_longest(\"Forgetfulness is by all means powerless!\") ➞ \"forgetfulness\"\n",
    "\n",
    "    find_longest(\"\\\"Strengths\\\" is the longest and most commonly used word that contains only a single vowel.\") ➞ \"strengths\""
   ]
  },
  {
   "cell_type": "code",
   "execution_count": 61,
   "id": "5c6b3518",
   "metadata": {},
   "outputs": [
    {
     "data": {
      "text/plain": [
       "'Forgetfulness'"
      ]
     },
     "execution_count": 61,
     "metadata": {},
     "output_type": "execute_result"
    }
   ],
   "source": [
    "def find_longest(string):\n",
    "    str = string.replace(string[-1], '')\n",
    "    ls = list(str.split(' '))\n",
    "    lst = []\n",
    "    for i in ls:\n",
    "        lst.append(len(i))\n",
    "    l = lst.index(max(lst))\n",
    "    return ls[l]\n",
    "\n",
    "\n",
    "find_longest(\"Forgetfulness is by all means powerless!\")"
   ]
  },
  {
   "cell_type": "markdown",
   "id": "68f089f1",
   "metadata": {},
   "source": [
    "### Q 3. Create a function to check if a candidate is qualified in an imaginary coding interview of an imaginary tech startup.\n",
    "\n",
    "    The criteria for a candidate to be qualified in the coding interview is:\n",
    "\n",
    "       1. The candidate should have complete all the questions.\n",
    "       2. The maximum time given to complete the interview is 120 minutes.\n",
    "       3. The maximum time given for very easy questions is 5 minutes each.\n",
    "       4. The maximum time given for easy questions is 10 minutes each.\n",
    "       5. The maximum time given for medium questions is 15 minutes each.\n",
    "       6. The maximum time given for hard questions is 20 minutes each.\n",
    "\n",
    "    If all the above conditions are satisfied, return \"qualified\", else return \"disqualified\".\n",
    "\n",
    "    You will be given a list of time taken by a candidate to solve a particular question and the total time taken by the candidate to complete the interview.\n",
    "\n",
    "    Given a list , in a true condition will always be in the format [very easy, very easy, easy, easy, medium, medium, hard, hard].\n",
    "\n",
    "    The maximum time to complete the interview includes a buffer time of 20 minutes.\n",
    "\n",
    "    Examples\n",
    "\n",
    "    interview([5, 5, 10, 10, 15, 15, 20, 20], 120) ➞ \"qualified\"\n",
    "\n",
    "    interview([2, 3, 8, 6, 5, 12, 10, 18], 64) ➞  \"qualified\"\n",
    "\n",
    "    interview([5, 5, 10, 10, 25, 15, 20, 20], 120) ➞ \"disqualified\"\n",
    "    # Exceeded the time limit for a medium question.\n",
    "\n",
    "    interview([5, 5, 10, 10, 15, 15, 20], 120) ➞ \"disqualified\"\n",
    "    # Did not complete all the questions.\n",
    "\n",
    "    interview([5, 5, 10, 10, 15, 15, 20, 20], 130) ➞ \"disqualified\"\n",
    "    # Solved all the questions in their respected time limits but exceeded the total time limit of the interview.\n"
   ]
  },
  {
   "cell_type": "code",
   "execution_count": 84,
   "id": "ae91a04b",
   "metadata": {},
   "outputs": [
    {
     "data": {
      "text/plain": [
       "'disqualified'"
      ]
     },
     "execution_count": 84,
     "metadata": {},
     "output_type": "execute_result"
    }
   ],
   "source": [
    "# [very easy, very easy, easy, easy, medium, medium, hard, hard]\n",
    "def interview(lst, taken_time):\n",
    "    std = [5, 5, 10, 10, 15, 15, 20, 20]\n",
    "    total_time = 120\n",
    "    if len(lst) < len(std):\n",
    "        return \"disqualified\"\n",
    "    if taken_time > total_time:\n",
    "        return \"disqualified\"\n",
    "    for i in range(len(lst)):\n",
    "        if lst[i] > std[i]:\n",
    "            return \"disqualified\"\n",
    "    return \"qualified\"\n",
    "\n",
    "\n",
    "interview([5, 5, 10, 10, 15, 15, 20, 20], 130)"
   ]
  },
  {
   "cell_type": "markdown",
   "id": "eda5dc66",
   "metadata": {},
   "source": [
    "### Q 4. Write a function that divides a list into chunks of size n, where n is the length of each chunk.\n",
    "\n",
    "    Examples\n",
    "\n",
    "    chunkify([2, 3, 4, 5], 2) ➞ [[2, 3], [4, 5]]\n",
    "\n",
    "    chunkify([2, 3, 4, 5, 6], 2) ➞ [[2, 3], [4, 5], [6]]\n",
    "\n",
    "    chunkify([2, 3, 4, 5, 6, 7], 3) ➞ [[2, 3, 4], [5, 6, 7]]\n",
    "\n",
    "    chunkify([2, 3, 4, 5, 6, 7], 1) ➞ [[2], [3], [4], [5], [6], [7]]\n",
    "\n",
    "    chunkify([2, 3, 4, 5, 6, 7], 7) ➞ [[2, 3, 4, 5, 6, 7]]"
   ]
  },
  {
   "cell_type": "code",
   "execution_count": 2,
   "id": "436f982c",
   "metadata": {},
   "outputs": [
    {
     "data": {
      "text/plain": [
       "[[2], [3], [4], [5], [6], [7]]"
      ]
     },
     "execution_count": 2,
     "metadata": {},
     "output_type": "execute_result"
    }
   ],
   "source": [
    "def chunkify(l, n):\n",
    "    x = [l[i:i + n] for i in range(0, len(l), n)]\n",
    "    return x\n",
    "\n",
    "\n",
    "chunkify([2, 3, 4, 5, 6, 7], 1)"
   ]
  },
  {
   "cell_type": "markdown",
   "id": "6d7a75cd",
   "metadata": {},
   "source": [
    "### Q 5. You are given a list of strings consisting of grocery items, with prices in parentheses. Return a list of prices in float format.\n",
    "\n",
    "    Examples\n",
    "\n",
    "    get_prices([\"salad ($4.99)\"]) ➞ [4.99]\n",
    "\n",
    "    get_prices([\n",
    "      \"artichokes ($1.99)\",\n",
    "      \"rotiserrie chicken ($5.99)\",\n",
    "      \"gum ($0.75)\"\n",
    "    ])\n",
    "\n",
    "    ➞ [1.99, 5.99, 0.75]\n",
    "\n",
    "    get_prices([\n",
    "      \"ice cream ($5.99)\",\n",
    "      \"banana ($0.20)\",\n",
    "      \"sandwich ($8.50)\",\n",
    "      \"soup ($1.99)\"\n",
    "    ])\n",
    "\n",
    "    ➞ [5.99, 0.2, 8.50, 1.99]"
   ]
  },
  {
   "cell_type": "code",
   "execution_count": 7,
   "id": "e02023c3",
   "metadata": {},
   "outputs": [
    {
     "data": {
      "text/plain": [
       "[5.99, 0.2, 8.5, 1.99]"
      ]
     },
     "execution_count": 7,
     "metadata": {},
     "output_type": "execute_result"
    }
   ],
   "source": [
    "def get_prices(lst):\n",
    "    price = []\n",
    "    for i in lst:\n",
    "        s = i.split(\"$\")\n",
    "        s = s[-1][:-1]\n",
    "        price.append(float(s))\n",
    "    return price\n",
    "\n",
    "\n",
    "get_prices([\n",
    "    \"ice cream ($5.99)\", \"banana ($0.20)\", \"sandwich ($8.50)\", \"soup ($1.99)\"\n",
    "])"
   ]
  }
 ],
 "metadata": {
  "kernelspec": {
   "display_name": "Python 3",
   "language": "python",
   "name": "python3"
  },
  "language_info": {
   "codemirror_mode": {
    "name": "ipython",
    "version": 3
   },
   "file_extension": ".py",
   "mimetype": "text/x-python",
   "name": "python",
   "nbconvert_exporter": "python",
   "pygments_lexer": "ipython3",
   "version": "3.8.8"
  }
 },
 "nbformat": 4,
 "nbformat_minor": 5
}
