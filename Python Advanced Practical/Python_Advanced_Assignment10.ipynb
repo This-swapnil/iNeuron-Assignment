{
 "cells": [
  {
   "cell_type": "markdown",
   "id": "c9a6486a",
   "metadata": {},
   "source": [
    "### Q 1. Create a function that takes the width, height and character and returns a picture frame as a 2D list.\n",
    "    Examples\n",
    "    get_frame(4, 5, \"#\") ➞ [\n",
    "      [\"####\"],\n",
    "      [\"#  #\"],\n",
    "      [\"#  #\"],\n",
    "      [\"#  #\"],\n",
    "      [\"####\"]\n",
    "    ]\n",
    "    # Frame is 4 characters wide and 5 characters tall.\n",
    "    get_frame(10, 3, \"*\") ➞ [\n",
    "      [\"**********\"],\n",
    "      [\"*        *\"],\n",
    "      [\"**********\"]\n",
    "    ]\n",
    "    # Frame is 10 characters and wide and 3 characters tall.\n",
    "    get_frame(2, 5, \"0\") ➞ \"invalid\"\n",
    "    # Frame's width is not more than 2.\n"
   ]
  },
  {
   "cell_type": "code",
   "execution_count": 21,
   "id": "f1498600",
   "metadata": {},
   "outputs": [
    {
     "name": "stdout",
     "output_type": "stream",
     "text": [
      "[['**********'], ['*        *'], ['**********']]\n"
     ]
    }
   ],
   "source": [
    "def get_frame(m, n,sign) :\n",
    "    frame = []\n",
    "    if m <= 2 or n <= 2:\n",
    "        return \"invalid\"\n",
    "    for i in range(1, n+1) :\n",
    "        boxStr = ''\n",
    "        row = []\n",
    "        for j in range(1, m+1) :\n",
    "            if (i == 1 or i == n or\n",
    "                j == 1 or j == m) :\n",
    "                boxStr = boxStr + sign\n",
    "            else :\n",
    "                boxStr = boxStr + ' '\n",
    "        row.append(boxStr)\n",
    "        frame.append(row)\n",
    "    print(frame)\n",
    "        \n",
    "get_frame(10,3,'*')"
   ]
  },
  {
   "cell_type": "markdown",
   "id": "a3767ef9",
   "metadata": {},
   "source": [
    "### Q 2. Write three functions:\n",
    "  1. boolean_and\n",
    "  2. boolean_or\n",
    "  3. boolean_xor\n",
    "\n",
    "    These functions should evaluate a list of True and False values, starting from the leftmost element and evaluating pairwise.\n",
    "\n",
    "    Examples\n",
    "    boolean_and([True, True, False, True]) ➞ False\n",
    "     [True, True, False, True] => [True, False, True] => [False, True] => False\n",
    "    \n",
    "    boolean_or([True, True, False, False]) ➞ True\n",
    "     [True, True, False, True] => [True, False, False] => [True, False] => True\n",
    "    \n",
    "    boolean_xor([True, True, False, False]) ➞ False\n",
    "     [True, True, False, False] => [False, False, False] => [False, False] => False"
   ]
  },
  {
   "cell_type": "code",
   "execution_count": 28,
   "id": "c481be2e",
   "metadata": {},
   "outputs": [
    {
     "data": {
      "text/plain": [
       "False"
      ]
     },
     "execution_count": 28,
     "metadata": {},
     "output_type": "execute_result"
    }
   ],
   "source": [
    "from functools import reduce\n",
    "\n",
    "def boolean_and(num):\n",
    "    result = reduce(lambda a,b: True if (a & b) else False, num)\n",
    "    return result\n",
    "\n",
    "def boolean_or(num):\n",
    "    result = reduce(lambda a,b: True if (a | b) else False, num)\n",
    "    return result\n",
    "\n",
    "def boolean_xor(num):\n",
    "    result = reduce(lambda a,b: True if (a ^ b) else False, num)\n",
    "    return result\n",
    "#boolean_and([True, True, False, True])\n",
    "#boolean_or([True, True, False, True])\n",
    "boolean_xor([True, True, False, False])"
   ]
  },
  {
   "cell_type": "markdown",
   "id": "51b9527b",
   "metadata": {},
   "source": [
    "### Q 3. Create a function that creates a box based on dimension n.\n",
    "\n",
    "    Examples\n",
    "\n",
    "    make_box(5) ➞ [\n",
    "      \"#####\",\n",
    "      \"#   #\",\n",
    "      \"#   #\",\n",
    "      \"#   #\",\n",
    "      \"#####\"\n",
    "    ]\n",
    "\n",
    "    make_box(3) ➞ [\n",
    "      \"###\",\n",
    "      \"# #\",\n",
    "      \"###\"\n",
    "    ]\n",
    "\n",
    "    make_box(2) ➞ [\n",
    "      \"##\",\n",
    "      \"##\"\n",
    "    ]\n",
    "\n",
    "    make_box(1) ➞ [\n",
    "      \"#\"\n",
    "    ]\n"
   ]
  },
  {
   "cell_type": "code",
   "execution_count": 37,
   "id": "68affee7",
   "metadata": {},
   "outputs": [
    {
     "name": "stdout",
     "output_type": "stream",
     "text": [
      "#####\n",
      "#   #\n",
      "#   #\n",
      "#   #\n",
      "#####\n"
     ]
    }
   ],
   "source": [
    "def print_rectangle(n) :\n",
    "    for i in range(1, n+1) :\n",
    "        for j in range(1, n+1) :\n",
    "            if (i == 1 or i == n or\n",
    "                j == 1 or j == n) :\n",
    "                print(\"#\", end=\"\")\n",
    "            else :\n",
    "                print(\" \", end=\"\")\n",
    "        print()\n",
    "print_rectangle(5)"
   ]
  },
  {
   "cell_type": "markdown",
   "id": "31eb67a0",
   "metadata": {},
   "source": [
    "### Q 4. Given a common phrase, return False if any individual word in the phrase contains duplicate letters. Return True otherwise.\n",
    "\n",
    "    Examples\n",
    "\n",
    "    no_duplicate_letters(\"Fortune favours the bold.\") ➞ True\n",
    "\n",
    "    no_duplicate_letters(\"You can lead a horse to water, but you can't make him drink.\") ➞ True\n",
    "\n",
    "    no_duplicate_letters(\"Look before you leap.\") ➞ False\n",
    "    # Duplicate letters in \"Look\" and \"before\".\n",
    "\n",
    "    no_duplicate_letters(\"An apple a day keeps the doctor away.\") ➞ False\n",
    "    # Duplicate letters in \"apple\", \"keeps\", \"doctor\", and \"away\".\n"
   ]
  },
  {
   "cell_type": "code",
   "execution_count": 47,
   "id": "bf89db77",
   "metadata": {},
   "outputs": [
    {
     "data": {
      "text/plain": [
       "False"
      ]
     },
     "execution_count": 47,
     "metadata": {},
     "output_type": "execute_result"
    }
   ],
   "source": [
    "def no_duplicate_letters(sentence): \n",
    "    lst =  sentence.split(' ')\n",
    "    for word in lst:\n",
    "        for i in range(len(word)): \n",
    "            for j in range(i + 1, len(word)): \n",
    "                if word[i] == word[j]: \n",
    "                    return False \n",
    "    return True \n",
    "no_duplicate_letters(\"An apple a day keeps the doctor away.\")"
   ]
  },
  {
   "cell_type": "markdown",
   "id": "cc13466b",
   "metadata": {},
   "source": [
    "### Q 5. Write a regular expression that will match the states that voted yes to President Trump's impeachment. You must use RegEx positive lookahead.\n",
    "\n",
    "    Example\n",
    "\n",
    "    txt = \"Texas = no, California = yes, Florida = yes, Michigan = no\"\n",
    "    pattern = \"yourregularexpressionhere\"\n",
    "\n",
    "    re.findall(pattern, txt) ➞ [\"California\", \"Florida\"]\n"
   ]
  },
  {
   "cell_type": "code",
   "execution_count": 48,
   "id": "c1b119df",
   "metadata": {},
   "outputs": [
    {
     "name": "stdout",
     "output_type": "stream",
     "text": [
      "['California', 'Florida']\n"
     ]
    }
   ],
   "source": [
    "import re\n",
    "txt = \"Texas = no, California = yes, Florida = yes, Michigan = no\"\n",
    "pattern = r'\\w+(?= = yes)'\n",
    "result = re.findall(pattern, txt) \n",
    "print(result)"
   ]
  }
 ],
 "metadata": {
  "kernelspec": {
   "display_name": "Python 3",
   "language": "python",
   "name": "python3"
  },
  "language_info": {
   "codemirror_mode": {
    "name": "ipython",
    "version": 3
   },
   "file_extension": ".py",
   "mimetype": "text/x-python",
   "name": "python",
   "nbconvert_exporter": "python",
   "pygments_lexer": "ipython3",
   "version": "3.8.8"
  }
 },
 "nbformat": 4,
 "nbformat_minor": 5
}
