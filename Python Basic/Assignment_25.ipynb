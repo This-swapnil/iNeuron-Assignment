{
 "cells": [
  {
   "cell_type": "markdown",
   "id": "9baa08e2",
   "metadata": {},
   "source": [
    "### Q 1.What is the difference between enclosing a list comprehension in square brackets and parentheses?"
   ]
  },
  {
   "cell_type": "markdown",
   "id": "dc57a089",
   "metadata": {},
   "source": [
    "- The difference between the two kinds of expressions is that the List comprehension is enclosed in square brackets [] while the Generator expression is enclosed in plain parentheses ()"
   ]
  },
  {
   "cell_type": "code",
   "execution_count": 3,
   "id": "4498b188",
   "metadata": {},
   "outputs": [
    {
     "name": "stdout",
     "output_type": "stream",
     "text": [
      "[0, 2, 4, 6, 8, 10, 12, 14, 16, 18]\n",
      "<generator object <genexpr> at 0x00000224E6021BA0>\n",
      "[0, 2, 4, 6, 8, 10, 12, 14, 16, 18]\n"
     ]
    }
   ],
   "source": [
    "l = [n*2 for n in range(10)] \n",
    "print(l)\n",
    "g = (n*2 for n in range(10))\n",
    "print(g)\n",
    "print(list(g))"
   ]
  },
  {
   "cell_type": "markdown",
   "id": "52cf28fc",
   "metadata": {},
   "source": [
    "### Q 2.What is the relationship between generators and iterators?"
   ]
  },
  {
   "cell_type": "markdown",
   "id": "2b423259",
   "metadata": {},
   "source": [
    "- iterators\n",
    "    - An iterator is an object which contains a countable number of values and it is used to iterate over iterable objects like list, tuples, sets, etc.\n",
    "    - Iterators are used mostly to iterate or convert other objects to an iterator using iter() function. \n",
    "    - Iterator uses iter() and next() functions\n",
    "    - Every iterator is not a generator\n",
    "- genrator\n",
    "    - It is another way of creating iterators in a simple way where it uses the keyword “yield” instead of returning it in a defined function. Generators are implemented using a function.\n",
    "    - Generators are mostly used in loops to generate an iterator by returning all the values in the loop without affecting the iteration of the loop\n",
    "    - Generator uses yield keyword\n",
    "    - Every generator is an iterator"
   ]
  },
  {
   "cell_type": "code",
   "execution_count": 6,
   "id": "f5d2b5f3",
   "metadata": {},
   "outputs": [
    {
     "name": "stdout",
     "output_type": "stream",
     "text": [
      "sachine\n",
      "rahul\n",
      "dhoni\n"
     ]
    }
   ],
   "source": [
    "# iterator\n",
    "iter_list = iter(['sachine', 'rahul', 'dhoni'])\n",
    "print(next(iter_list))\n",
    "print(next(iter_list))\n",
    "print(next(iter_list))"
   ]
  },
  {
   "cell_type": "code",
   "execution_count": 7,
   "id": "8e69df96",
   "metadata": {},
   "outputs": [
    {
     "name": "stdout",
     "output_type": "stream",
     "text": [
      "The square of numbers 1,2,3 are : \n",
      "1\n",
      "4\n",
      "9\n"
     ]
    }
   ],
   "source": [
    "# genrator\n",
    "def sq_numbers(n):\n",
    "    for i in range(1, n+1):\n",
    "        yield i*i\n",
    "a = sq_numbers(3)\n",
    "\n",
    "print(\"The square of numbers 1,2,3 are : \")\n",
    "print(next(a))\n",
    "print(next(a))\n",
    "print(next(a))"
   ]
  },
  {
   "cell_type": "markdown",
   "id": "cf7979ce",
   "metadata": {},
   "source": [
    "### Q What are the signs that a function is a generator function?"
   ]
  },
  {
   "cell_type": "markdown",
   "id": "abc93859",
   "metadata": {},
   "source": [
    "* If a function contains at least one yield statement (it may contain other yield or return statements), it becomes a generator function. Both yield and return will return some value from a function."
   ]
  },
  {
   "cell_type": "markdown",
   "id": "f68bb654",
   "metadata": {},
   "source": [
    "### Q What is the purpose of a yield statement?"
   ]
  },
  {
   "cell_type": "markdown",
   "id": "d7105743",
   "metadata": {},
   "source": [
    "- Yield is a keyword in Python that is used to return from a function without destroying the states of its local variable and when the function is called, the execution starts from the last yield statement. Any function that contains a yield keyword is termed a generator. Hence, yield is what makes a generator."
   ]
  },
  {
   "cell_type": "markdown",
   "id": "7ba9b9c5",
   "metadata": {},
   "source": [
    "### Q What is the relationship between map calls and list comprehensions? Make a comparison and contrast between the two."
   ]
  },
  {
   "cell_type": "markdown",
   "id": "80a6efb7",
   "metadata": {},
   "source": [
    "- Map function:\n",
    "    - Suppose we have a function and we want to compute this function for different values in a single line of code . This is where map() function plays its role. map() function returns a map object(which is an iterator) of the results after applying the given function to each item of a given iterable (list, tuple etc.)\n",
    "- List Comprehension:\n",
    "    - List Comprehension is a substitute for the lambda function, map(), filter() and reduce(). It follows the form of the mathematical set-builder notation. It provide a concise way to create lists.\n",
    "\n",
    "    - Syntax:\n",
    "        - [ expression for item in list if conditional ]\n",
    "    \n",
    "- Map VS List Comprehension\n",
    "    - List comprehension is more concise and easier to read as compared to map.\n",
    "    - List comprehension allows filtering. In map, we have no such facility. For example, to print all even numbers in range of 100, we can write [n for n in range(100) if n%2 == 0]. There is no alternate for it in map\n",
    "    - List comprehension are used when a list of results is required as map only returns a map object and does not return any list.\n",
    "    - List comprehension is faster than map when we need to evaluate expressions that are too long or complicated to express\n",
    "    - Map is faster in case of calling an already defined function (as no lambda is required)."
   ]
  },
  {
   "cell_type": "code",
   "execution_count": null,
   "id": "b93caa6b",
   "metadata": {},
   "outputs": [],
   "source": []
  }
 ],
 "metadata": {
  "kernelspec": {
   "display_name": "Python 3",
   "language": "python",
   "name": "python3"
  },
  "language_info": {
   "codemirror_mode": {
    "name": "ipython",
    "version": 3
   },
   "file_extension": ".py",
   "mimetype": "text/x-python",
   "name": "python",
   "nbconvert_exporter": "python",
   "pygments_lexer": "ipython3",
   "version": "3.8.8"
  }
 },
 "nbformat": 4,
 "nbformat_minor": 5
}
