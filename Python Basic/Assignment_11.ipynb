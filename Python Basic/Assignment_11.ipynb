{
 "cells": [
  {
   "cell_type": "markdown",
   "id": "283b0bd7",
   "metadata": {},
   "source": [
    "### Q 1. Create an assert statement that throws an AssertionError if the variable spam is a negative integer."
   ]
  },
  {
   "cell_type": "raw",
   "id": "1058d96c",
   "metadata": {},
   "source": [
    "Ans: \n",
    "    The assert statement is used to continue the execute if the given condition evaluates to True. If the assert condition evaluates to False, then it raises the AssertionError exception with the specified error message."
   ]
  },
  {
   "cell_type": "code",
   "execution_count": 3,
   "id": "3446f360",
   "metadata": {},
   "outputs": [
    {
     "name": "stdout",
     "output_type": "stream",
     "text": [
      "Enter the number: -2\n"
     ]
    },
    {
     "ename": "AssertionError",
     "evalue": "",
     "output_type": "error",
     "traceback": [
      "\u001b[1;31m---------------------------------------------------------------------------\u001b[0m",
      "\u001b[1;31mAssertionError\u001b[0m                            Traceback (most recent call last)",
      "\u001b[1;32m<ipython-input-3-fd713cc890f2>\u001b[0m in \u001b[0;36m<module>\u001b[1;34m\u001b[0m\n\u001b[0;32m      1\u001b[0m \u001b[0mspam\u001b[0m \u001b[1;33m=\u001b[0m \u001b[0mint\u001b[0m\u001b[1;33m(\u001b[0m\u001b[0minput\u001b[0m\u001b[1;33m(\u001b[0m\u001b[1;34m\"Enter the number: \"\u001b[0m\u001b[1;33m)\u001b[0m\u001b[1;33m)\u001b[0m\u001b[1;33m\u001b[0m\u001b[1;33m\u001b[0m\u001b[0m\n\u001b[1;32m----> 2\u001b[1;33m \u001b[1;32massert\u001b[0m \u001b[0mspam\u001b[0m \u001b[1;33m>\u001b[0m \u001b[1;36m0\u001b[0m\u001b[1;33m\u001b[0m\u001b[1;33m\u001b[0m\u001b[0m\n\u001b[0m\u001b[0;32m      3\u001b[0m \u001b[0mprint\u001b[0m\u001b[1;33m(\u001b[0m\u001b[0mspam\u001b[0m\u001b[1;33m,\u001b[0m\u001b[1;34m'is a positive number'\u001b[0m\u001b[1;33m)\u001b[0m\u001b[1;33m\u001b[0m\u001b[1;33m\u001b[0m\u001b[0m\n",
      "\u001b[1;31mAssertionError\u001b[0m: "
     ]
    }
   ],
   "source": [
    "spam = int(input(\"Enter the number: \"))\n",
    "assert spam > 0\n",
    "print(spam, 'is a positive number')"
   ]
  },
  {
   "cell_type": "markdown",
   "id": "5d3ab7c5",
   "metadata": {},
   "source": [
    "### Q 2. Write an assert statement that triggers an AssertionError if the variables eggs and bacon contain strings that are the same as each other, even if their cases are different (that is, 'hello' and 'hello' are considered the same, and 'goodbye' and 'GOODbye' are also considered the same)."
   ]
  },
  {
   "cell_type": "code",
   "execution_count": null,
   "id": "39d09829",
   "metadata": {},
   "outputs": [],
   "source": []
  },
  {
   "cell_type": "markdown",
   "id": "96399df4",
   "metadata": {},
   "source": [
    "### Q 3. Create an assert statement that throws an AssertionError every time.\n",
    "    assert False -> this always triggers an exception"
   ]
  },
  {
   "cell_type": "code",
   "execution_count": 4,
   "id": "7ea61eb5",
   "metadata": {},
   "outputs": [
    {
     "ename": "AssertionError",
     "evalue": "",
     "output_type": "error",
     "traceback": [
      "\u001b[1;31m---------------------------------------------------------------------------\u001b[0m",
      "\u001b[1;31mAssertionError\u001b[0m                            Traceback (most recent call last)",
      "\u001b[1;32m<ipython-input-4-a871fdc9ebee>\u001b[0m in \u001b[0;36m<module>\u001b[1;34m\u001b[0m\n\u001b[1;32m----> 1\u001b[1;33m \u001b[1;32massert\u001b[0m \u001b[1;32mFalse\u001b[0m\u001b[1;33m\u001b[0m\u001b[1;33m\u001b[0m\u001b[0m\n\u001b[0m",
      "\u001b[1;31mAssertionError\u001b[0m: "
     ]
    }
   ],
   "source": [
    "assert False"
   ]
  },
  {
   "cell_type": "markdown",
   "id": "131898fb",
   "metadata": {},
   "source": [
    "### Q 4. What are the two lines that must be present in your software in order to call logging.debug()?"
   ]
  },
  {
   "cell_type": "code",
   "execution_count": 5,
   "id": "88df3ee8",
   "metadata": {},
   "outputs": [],
   "source": [
    "'''To be able to call logging.debug(), we must have these two lines at the start of your \n",
    "program: '''\n",
    "\n",
    "import logging\n",
    "\n",
    "logging.basicConfig(level=logging.DEBUG,\n",
    "                    format=' %(asctime)s - %(levelname)s - %(message)s')"
   ]
  },
  {
   "cell_type": "markdown",
   "id": "367672aa",
   "metadata": {},
   "source": [
    "### Q 5. What are the two lines that your program must have in order to have logging.debug() send a logging message to a file named programLog.txt?"
   ]
  },
  {
   "cell_type": "code",
   "execution_count": 6,
   "id": "25409cf2",
   "metadata": {},
   "outputs": [],
   "source": [
    "import logging as lg\n",
    "\n",
    "lg.basicConfig(filename='programLog.txt',\n",
    "               level=lg.DEBUG,\n",
    "               format=' %(asctime)s - %(levelname)s - %(message)s')"
   ]
  },
  {
   "cell_type": "markdown",
   "id": "9edac67f",
   "metadata": {},
   "source": [
    "### Q 6. What are the five levels of logging?"
   ]
  },
  {
   "cell_type": "markdown",
   "id": "91a16f0f",
   "metadata": {},
   "source": [
    "#### Ans:\n",
    "- Five level of loggins are DEBUG, INFO, WARNING, ERROR, and CRITICAL\n",
    "- logging.debug() - variable's state and small details\n",
    "- logging.info() - general events, confirm a program is working\n",
    "- logging.warning() - potiental problem to work on in the future\n",
    "- logging.error() - record an error that caused program to fail to do something\n",
    "- logging.critical() - fatal error that has caused"
   ]
  },
  {
   "cell_type": "markdown",
   "id": "d49f73f5",
   "metadata": {},
   "source": [
    "### Q 7. What line of code would you add to your software to disable all logging messages?"
   ]
  },
  {
   "cell_type": "markdown",
   "id": "5e0e8a43",
   "metadata": {},
   "source": [
    "#### Ans:\n",
    "- logging.disable(level) -> Disables all logging calls of severity 'level' and below. set level = logging.CRITICAL since CRITICAL being the highest level , every other level loggings will be disabled."
   ]
  },
  {
   "cell_type": "markdown",
   "id": "c08866a0",
   "metadata": {},
   "source": [
    "### Q 8.Why is using logging messages better than using print() to display the same message?\n",
    "\n",
    "#### ANS:\n",
    "    You can disable logging messages without removing the logging function calls. \n",
    "    You can selectively disable lower-level logging messages. \n",
    "    You can create logging messages. Logging messages provides a timestamp."
   ]
  },
  {
   "cell_type": "markdown",
   "id": "c37c8477",
   "metadata": {},
   "source": [
    "### Q 9. What are the differences between the Step Over, Step In, and Step Out buttons in the debugger?\n",
    "\n",
    "#### ANS:\n",
    "    The Step in button will move the debugger into a function call. \n",
    "    The Over button will quickly execute the function call without stepping into it. \n",
    "    The Out button will quickly execute the rest of the code until it steps out of the function it currently is in."
   ]
  },
  {
   "cell_type": "markdown",
   "id": "af8bd07f",
   "metadata": {},
   "source": [
    "### Q 10.After you click Continue, when will the debugger stop ?\n",
    "\n",
    "#### ANS:\n",
    "    It will stops at next breakpoint, if there are no further breakpoints program will be fully executed."
   ]
  },
  {
   "cell_type": "markdown",
   "id": "893abf91",
   "metadata": {},
   "source": [
    "### Q 11. What is the concept of a breakpoint?"
   ]
  },
  {
   "cell_type": "markdown",
   "id": "7da6b476",
   "metadata": {},
   "source": [
    "1. A point in the processing of a program that the programmer wants to observe more closely by stopping the program and examining the contents of variables, buffers and memory. \n",
    "2. Part of the debugging function, lines of code are marked as breakpoints. \n",
    "3. When those instructions are about to be executed, the program stops, and control is passed to the programmer. \n",
    "4. After inspection, the programmer can step through the program one line at a time or cause the program to continue running either to the end, to the next breakpoint or until it crashes, whichever comes first."
   ]
  },
  {
   "cell_type": "code",
   "execution_count": null,
   "id": "9f519b6a",
   "metadata": {},
   "outputs": [],
   "source": []
  }
 ],
 "metadata": {
  "kernelspec": {
   "display_name": "Python 3",
   "language": "python",
   "name": "python3"
  },
  "language_info": {
   "codemirror_mode": {
    "name": "ipython",
    "version": 3
   },
   "file_extension": ".py",
   "mimetype": "text/x-python",
   "name": "python",
   "nbconvert_exporter": "python",
   "pygments_lexer": "ipython3",
   "version": "3.8.8"
  }
 },
 "nbformat": 4,
 "nbformat_minor": 5
}
