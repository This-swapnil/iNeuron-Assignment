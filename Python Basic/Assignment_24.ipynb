{
 "cells": [
  {
   "cell_type": "markdown",
   "id": "7ed3606f",
   "metadata": {},
   "source": [
    "#### Q 1. What is the relationship between def statements and lambda expressions ?"
   ]
  },
  {
   "cell_type": "markdown",
   "id": "84678d40",
   "metadata": {},
   "source": [
    "- Python supports the creation of anonymous functions (i.e. functions that are not bound to a name) at runtime, using a construct called lambda.\n",
    "- Like def, the lambda creates a function to be called later. But it returns the function instead of assigning it to a name. This is why lambdas are sometimes known as anonymous functions.\n",
    "- The lambdas can be used as a function shorthand that allows us to embed a function within the code.\n",
    "\n",
    "- Keyword def that marks the start of the function header.\n",
    "- A function name to uniquely identify the function. Function naming follows the same rules of writing identifiers in Python."
   ]
  },
  {
   "cell_type": "markdown",
   "id": "f4014284",
   "metadata": {},
   "source": [
    "#### Q2 What is the benefit of lambda?"
   ]
  },
  {
   "cell_type": "markdown",
   "id": "0006a5fb",
   "metadata": {},
   "source": [
    "* Fewer Lines of Code\n",
    "* Lambda functions are inline functions and thus execute comparatively faster\n",
    "* Many times lambda functions make code much more readable by avoiding the logical jumps caused by function calls"
   ]
  },
  {
   "cell_type": "markdown",
   "id": "6a630a9a",
   "metadata": {},
   "source": [
    "#### Q 3 Compare and contrast map, filter, and reduce."
   ]
  },
  {
   "cell_type": "markdown",
   "id": "168013a3",
   "metadata": {},
   "source": [
    "- reduce()\n",
    "    - reduce() works differently than map() and filter(). It does not return a new list based on the function and iterable we've passed. Instead, it returns a single value.\n",
    "    - The syntax is:\n",
    "        - reduce(function, sequence[, initial])\n",
    "    - reduce() works by calling the function we passed for the first two items in the sequence. The result returned by the function is used in another call to function alongside with the next (third in this case), element.\n",
    "    - This process repeats until we've gone through all the elements in the sequence.\n",
    "- map()\n",
    "    - The map() function iterates through all items in the given iterable and executes the function we passed as an argument on each of them.\n",
    "\n",
    "    - The syntax is:\n",
    "        - map(function, iterable(s))\n",
    "- filter()\n",
    "    - As the name suggests, filter() forms a new list that contains only elements that satisfy a certain condition, i.e. the function we passed returns True.\n",
    "    - The syntax is:\n",
    "        - filter(function, iterable(s))"
   ]
  },
  {
   "cell_type": "code",
   "execution_count": 1,
   "id": "dc213da9",
   "metadata": {},
   "outputs": [
    {
     "name": "stdout",
     "output_type": "stream",
     "text": [
      "[True, False, False, True, False]\n"
     ]
    }
   ],
   "source": [
    "# map()\n",
    "fruit = [\"Apple\", \"Banana\", \"Pear\", \"Apricot\", \"Orange\"]\n",
    "map_object = map(lambda s: s[0] == \"A\", fruit)\n",
    "\n",
    "print(list(map_object))"
   ]
  },
  {
   "cell_type": "code",
   "execution_count": 2,
   "id": "a96439be",
   "metadata": {},
   "outputs": [
    {
     "name": "stdout",
     "output_type": "stream",
     "text": [
      "['Apple', 'Apricot']\n"
     ]
    }
   ],
   "source": [
    "# filter()\n",
    "fruit = [\"Apple\", \"Banana\", \"Pear\", \"Apricot\", \"Orange\"]\n",
    "filter_object = filter(lambda s: s[0] == \"A\", fruit)\n",
    "\n",
    "print(list(filter_object))"
   ]
  },
  {
   "cell_type": "code",
   "execution_count": 3,
   "id": "cc16939e",
   "metadata": {},
   "outputs": [
    {
     "name": "stdout",
     "output_type": "stream",
     "text": [
      "16\n",
      "With an initial value: 26\n"
     ]
    }
   ],
   "source": [
    "# reduce()\n",
    "from functools import reduce\n",
    "\n",
    "list = [2, 4, 7, 3]\n",
    "print(reduce(lambda x, y: x + y, list))\n",
    "print(\"With an initial value: \" + str(reduce(lambda x, y: x + y, list, 10)))"
   ]
  },
  {
   "cell_type": "markdown",
   "id": "96755137",
   "metadata": {},
   "source": [
    "### Q 4. What are function annotations, and how are they used?"
   ]
  },
  {
   "cell_type": "markdown",
   "id": "61e888c8",
   "metadata": {},
   "source": [
    "    1. Function annotations introduced in Python 3.0 adds a feature that allows you to add arbitrary metadata to function parameters and return value. Since python 3, function annotations have been officially added to python (PEP-3107). The primary purpose was to have a standard way to link metadata to function parameters and return value.\n",
    "    2. Function annotations are completely optional both for parameters and return value.\n",
    "    3. Function annotations provide a way of associating various parts of a function with arbitrary python expressions at compile time.\n",
    "    4. The PEP-3107 makes no attempt to introduce any kind of standard semantics, even for the built-in types. All this work left to the third-party libraries.\n",
    "    \n",
    "            Syntax :\n",
    "                def func(a: 'int') -> 'int':\n",
    "                    pass\n",
    "\n",
    "            Annotations for simple parameters:\n",
    "                def func(x: 'float'=10.8, y: 'argument2'):\n",
    "                    In the above code the argument, ‘x’ of the function func, \n",
    "                    has been annotated to float data type and the argument ‘y’ \n",
    "                    has a string-based annotation. The argument can also be \n",
    "                    assigned to a default value using a ‘=’ symbol followed \n",
    "                    by the default value. These default values are optional to the code.\n",
    "\n",
    "            Annotations for return values:\n",
    "                def func(a: expression) -> 'int':\n",
    "                    The annotations for the return value is written after the ‘->’ symbol."
   ]
  },
  {
   "cell_type": "code",
   "execution_count": 4,
   "id": "907f7924",
   "metadata": {},
   "outputs": [
    {
     "name": "stdout",
     "output_type": "stream",
     "text": [
      "{'n': 'float', 'b': 'int', 'return': 'result'}\n"
     ]
    }
   ],
   "source": [
    "def fib(n:'float', b:'int')-> 'result': \n",
    "    pass\n",
    "print(fib.__annotations__)"
   ]
  },
  {
   "cell_type": "markdown",
   "id": "097a6ad1",
   "metadata": {},
   "source": [
    "### Q 5. What are recursive functions, and how are they used?"
   ]
  },
  {
   "cell_type": "markdown",
   "id": "85c2c11d",
   "metadata": {},
   "source": [
    "* The term Recursion can be defined as the process of defining something in terms of itself. In simple words, it is a process in which a function calls itself directly or indirectly."
   ]
  },
  {
   "cell_type": "code",
   "execution_count": 6,
   "id": "ac1010cb",
   "metadata": {},
   "outputs": [
    {
     "data": {
      "text/plain": [
       "120"
      ]
     },
     "execution_count": 6,
     "metadata": {},
     "output_type": "execute_result"
    }
   ],
   "source": [
    "def recursive_factorial(n):  \n",
    "    if n == 1:  \n",
    "        return n  \n",
    "    else:  \n",
    "        return n * recursive_factorial(n-1)\n",
    "recursive_factorial(5)"
   ]
  },
  {
   "cell_type": "markdown",
   "id": "8d6e7ad5",
   "metadata": {},
   "source": [
    "### Q 6. What are some general design guidelines for coding functions?"
   ]
  },
  {
   "cell_type": "markdown",
   "id": "696412e9",
   "metadata": {},
   "source": [
    "1. Use 4-space indentation and no tabs.\n",
    "2. Use docstrings\n",
    "3. Wrap linethat they don’t exceed 79 characters\n",
    "4. Use of regular and updated comments are valuable to both the coders and users\n",
    "5. Use of trailing commas : in case of tuple -> ('good',)\n",
    "6. Use Python’s default UTF-8 or ASCII encodings and not any fancy encodings\n",
    "7. Naming Conventions\n",
    "8. Characters that should not be used for identifiers :\n",
    "    ‘l’ (lowercase letter el), \n",
    "    ‘O’ (uppercase letter oh), \n",
    "    ‘I’ (uppercase letter eye) as single character variable names as these are similar to the numerals one and zero.\n",
    "9. Don’t use non-ASCII characters in identifiers\n",
    "10. Name your classes and functions consistently\n",
    "11. While naming of function of methods always use self for the first argument"
   ]
  },
  {
   "cell_type": "code",
   "execution_count": null,
   "id": "093d8970",
   "metadata": {},
   "outputs": [],
   "source": []
  }
 ],
 "metadata": {
  "kernelspec": {
   "display_name": "Python 3",
   "language": "python",
   "name": "python3"
  },
  "language_info": {
   "codemirror_mode": {
    "name": "ipython",
    "version": 3
   },
   "file_extension": ".py",
   "mimetype": "text/x-python",
   "name": "python",
   "nbconvert_exporter": "python",
   "pygments_lexer": "ipython3",
   "version": "3.8.8"
  }
 },
 "nbformat": 4,
 "nbformat_minor": 5
}
