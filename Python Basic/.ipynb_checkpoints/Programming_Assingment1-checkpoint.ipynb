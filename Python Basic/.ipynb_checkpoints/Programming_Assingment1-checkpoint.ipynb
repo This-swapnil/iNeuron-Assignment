{
 "cells": [
  {
   "cell_type": "markdown",
   "id": "dbda94b8",
   "metadata": {},
   "source": [
    "### Q. 1.\tWrite a Python program to print \"Hello Python\"?"
   ]
  },
  {
   "cell_type": "code",
   "execution_count": 1,
   "id": "dec2767c",
   "metadata": {},
   "outputs": [
    {
     "name": "stdout",
     "output_type": "stream",
     "text": [
      "Hello Python\n"
     ]
    }
   ],
   "source": [
    "print(\"Hello Python\")"
   ]
  },
  {
   "cell_type": "markdown",
   "id": "71d8f7da",
   "metadata": {},
   "source": [
    "### Q. 2.Write a Python program to do arithmetical operations addition and division.?"
   ]
  },
  {
   "cell_type": "code",
   "execution_count": 2,
   "id": "b2edae94",
   "metadata": {},
   "outputs": [
    {
     "name": "stdout",
     "output_type": "stream",
     "text": [
      "Addition of 10 and 5 b is: 15\n",
      "division of 10 and 5 b is: 2.0\n"
     ]
    }
   ],
   "source": [
    "a = 10\n",
    "b = 5\n",
    "add = a + b\n",
    "div = a / b\n",
    "print(\"Addition of {} and {} b is: {}\".format(a,b,add))\n",
    "print(\"division of {} and {} b is: {}\".format(a,b,div))"
   ]
  },
  {
   "cell_type": "markdown",
   "id": "6af79bcc",
   "metadata": {},
   "source": [
    "### Q. 3.Write a Python program to find the area of a triangle?"
   ]
  },
  {
   "cell_type": "code",
   "execution_count": 3,
   "id": "51b79d5d",
   "metadata": {},
   "outputs": [
    {
     "name": "stdout",
     "output_type": "stream",
     "text": [
      "Enter the base of tringle: 15\n",
      "Enter the height of triangle:10\n",
      "Area of triangle is: 75.0\n"
     ]
    }
   ],
   "source": [
    "base = int(input(\"Enter the base of tringle: \"))\n",
    "height = int(input(\"Enter the height of triangle:\"))\n",
    "result = 1/2 * (base * height)\n",
    "print(\"Area of triangle is: {}\".format(result))"
   ]
  },
  {
   "cell_type": "markdown",
   "id": "a5abcd95",
   "metadata": {},
   "source": [
    "### Q. 4.\tWrite a Python program to swap two variables?"
   ]
  },
  {
   "cell_type": "code",
   "execution_count": 4,
   "id": "e483c621",
   "metadata": {},
   "outputs": [
    {
     "name": "stdout",
     "output_type": "stream",
     "text": [
      "Enter the value of a:10\n",
      "Enter the value of b:15\n",
      "value before swappning: a = 10 and b = 15\n",
      "value after swappning: a = 15 and b = 10\n"
     ]
    }
   ],
   "source": [
    "a = int(input(\"Enter the value of a:\"))\n",
    "b = int(input(\"Enter the value of b:\"))\n",
    "print(\"value before swappning: a = {} and b = {}\".format(a,b))\n",
    "a,b = b, a\n",
    "print(\"value after swappning: a = {} and b = {}\".format(a,b))"
   ]
  },
  {
   "cell_type": "markdown",
   "id": "671d28d3",
   "metadata": {},
   "source": [
    "### Q.5.\tWrite a Python program to generate a random number?"
   ]
  },
  {
   "cell_type": "code",
   "execution_count": 5,
   "id": "16e85e08",
   "metadata": {},
   "outputs": [
    {
     "name": "stdout",
     "output_type": "stream",
     "text": [
      "8\n"
     ]
    }
   ],
   "source": [
    "import random\n",
    "\n",
    "print(random.randint(0,9))"
   ]
  }
 ],
 "metadata": {
  "kernelspec": {
   "display_name": "Python 3",
   "language": "python",
   "name": "python3"
  },
  "language_info": {
   "codemirror_mode": {
    "name": "ipython",
    "version": 3
   },
   "file_extension": ".py",
   "mimetype": "text/x-python",
   "name": "python",
   "nbconvert_exporter": "python",
   "pygments_lexer": "ipython3",
   "version": "3.8.8"
  }
 },
 "nbformat": 4,
 "nbformat_minor": 5
}
