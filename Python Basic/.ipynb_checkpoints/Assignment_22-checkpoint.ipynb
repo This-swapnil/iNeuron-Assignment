{
 "cells": [
  {
   "cell_type": "markdown",
   "id": "59c23763",
   "metadata": {},
   "source": [
    "#### Q 1. What is the result of the code, and explain?¶\n",
    "    X = 'iNeuron'\n",
    "    def func():\n",
    "        print(X)\n",
    "    func()"
   ]
  },
  {
   "cell_type": "code",
   "execution_count": 1,
   "id": "1b1f09ab",
   "metadata": {},
   "outputs": [
    {
     "name": "stdout",
     "output_type": "stream",
     "text": [
      "iNeuron\n"
     ]
    }
   ],
   "source": [
    "X = 'iNeuron'\n",
    "def func():\n",
    "    print(X)\n",
    "func()"
   ]
  },
  {
   "cell_type": "markdown",
   "id": "e5214f17",
   "metadata": {},
   "source": [
    "- Since X is declared outside the function body so X is \"Global variable\". And vale of the global variabel is accessible anywhere in that file. That's why anser is iNeuron"
   ]
  },
  {
   "cell_type": "markdown",
   "id": "158042de",
   "metadata": {},
   "source": [
    "#### Q 2. What is the result of the code, and explain?\n",
    "    X = 'iNeuron'\n",
    "    def func():\n",
    "        X = 'NI!'\n",
    "\n",
    "    func()\n",
    "    print(X)"
   ]
  },
  {
   "cell_type": "code",
   "execution_count": 4,
   "id": "ddc3c76d",
   "metadata": {},
   "outputs": [
    {
     "name": "stdout",
     "output_type": "stream",
     "text": [
      "iNeuron\n"
     ]
    }
   ],
   "source": [
    "X = 'iNeuron'\n",
    "def func():\n",
    "    X = 'NI!'\n",
    "\n",
    "func()\n",
    "print(X)"
   ]
  },
  {
   "cell_type": "markdown",
   "id": "b58e21a9",
   "metadata": {},
   "source": [
    "- The global variables are access in side the functions in python. But we can not access function variable out side  function. \n",
    "- Since x is golbal variable we are able to print it out side of the function"
   ]
  },
  {
   "cell_type": "markdown",
   "id": "89cac913",
   "metadata": {},
   "source": [
    "#### Q 3. What does this code print, and why?\n",
    "    X = 'iNeuron'\n",
    "    def func():\n",
    "        X = 'NI!'\n",
    "        print(X)\n",
    "\n",
    "    func()\n",
    "    print(X)"
   ]
  },
  {
   "cell_type": "code",
   "execution_count": 5,
   "id": "6523eb44",
   "metadata": {},
   "outputs": [
    {
     "name": "stdout",
     "output_type": "stream",
     "text": [
      "NI!\n",
      "iNeuron\n"
     ]
    }
   ],
   "source": [
    "X = 'iNeuron'\n",
    "def func():\n",
    "    X = 'NI!'\n",
    "    print(X)\n",
    "\n",
    "func()\n",
    "print(X)"
   ]
  },
  {
   "cell_type": "markdown",
   "id": "5407f65b",
   "metadata": {},
   "source": [
    "- As per Q1 X is Global variable and inside the function we set the value of X variable is \"NI!\" and then we print it.So because we did this action inside fuction that's why is give the value as \"NI!\". After calling X outside the funtion we get \"iNeuron\". scope of variable declare inside fuction is limited to that fuction."
   ]
  },
  {
   "cell_type": "markdown",
   "id": "3c2f8a2c",
   "metadata": {},
   "source": [
    "#### Q 4. What output does this code produce? Why?\n",
    "    X = 'iNeuron'\n",
    "    def func():\n",
    "        global X\n",
    "        X = 'NI!'\n",
    "        print(X)\n",
    "\n",
    "    func()\n",
    "    print(X)"
   ]
  },
  {
   "cell_type": "code",
   "execution_count": 6,
   "id": "0e06ccb6",
   "metadata": {},
   "outputs": [
    {
     "name": "stdout",
     "output_type": "stream",
     "text": [
      "NI!\n",
      "NI!\n"
     ]
    }
   ],
   "source": [
    "X = 'iNeuron'\n",
    "def func():\n",
    "    global X\n",
    "    X = 'NI!'\n",
    "    print(X)\n",
    "\n",
    "func()\n",
    "print(X)"
   ]
  },
  {
   "cell_type": "markdown",
   "id": "9858cad2",
   "metadata": {},
   "source": [
    "- since the X in side function is made Global, it will be accesible out side of the function too. now X will have new value."
   ]
  },
  {
   "cell_type": "markdown",
   "id": "7bf09b60",
   "metadata": {},
   "source": [
    "#### Q 5. What about this code—what’s the output, and why?\n",
    "    X = 'iNeuron'\n",
    "    def func():\n",
    "        X = 'NI'\n",
    "    def nested():\n",
    "        print(X)\n",
    "\n",
    "    nested()\n",
    "    func()\n",
    "    X"
   ]
  },
  {
   "cell_type": "code",
   "execution_count": 7,
   "id": "21c5927c",
   "metadata": {},
   "outputs": [
    {
     "name": "stdout",
     "output_type": "stream",
     "text": [
      "iNeuron\n"
     ]
    },
    {
     "data": {
      "text/plain": [
       "'iNeuron'"
      ]
     },
     "execution_count": 7,
     "metadata": {},
     "output_type": "execute_result"
    }
   ],
   "source": [
    "X = 'iNeuron'\n",
    "def func():\n",
    "    X = 'NI'\n",
    "def nested():\n",
    "    print(X)\n",
    "\n",
    "nested()\n",
    "func()\n",
    "X"
   ]
  },
  {
   "cell_type": "markdown",
   "id": "b7d8eb3d",
   "metadata": {},
   "source": [
    "- the nested() function will print 'iNeuron', Then func() does not display anything, and x ='NI' is not accessible out side the function."
   ]
  },
  {
   "cell_type": "markdown",
   "id": "4fdad5fd",
   "metadata": {},
   "source": [
    "#### Q 6. How about this code: what is its output in Python 3, and explain?\n",
    "    X = 'kkl'\n",
    "    def func():\n",
    "        X = 'NI'\n",
    "        def nested():\n",
    "            nonlocal X\n",
    "            X = 'spam'\n",
    "        nested()\n",
    "        print(X)\n",
    "\n",
    "    func()"
   ]
  },
  {
   "cell_type": "code",
   "execution_count": 8,
   "id": "0b74d9ff",
   "metadata": {},
   "outputs": [
    {
     "name": "stdout",
     "output_type": "stream",
     "text": [
      "spam\n"
     ]
    }
   ],
   "source": [
    "def func():\n",
    "    X = 'NI'\n",
    "    def nested():\n",
    "        nonlocal X\n",
    "        X = 'spam'\n",
    "    nested()\n",
    "    print(X)\n",
    "func()"
   ]
  },
  {
   "cell_type": "markdown",
   "id": "76759b20",
   "metadata": {},
   "source": [
    "- Nonlocal variables are used in nested functions whose local scope is not defined. \n",
    "This means that the variable can be neither in the local nor the global scope. it print the updated value from nested \n",
    "function"
   ]
  },
  {
   "cell_type": "code",
   "execution_count": null,
   "id": "02c68154",
   "metadata": {},
   "outputs": [],
   "source": []
  }
 ],
 "metadata": {
  "kernelspec": {
   "display_name": "Python 3",
   "language": "python",
   "name": "python3"
  },
  "language_info": {
   "codemirror_mode": {
    "name": "ipython",
    "version": 3
   },
   "file_extension": ".py",
   "mimetype": "text/x-python",
   "name": "python",
   "nbconvert_exporter": "python",
   "pygments_lexer": "ipython3",
   "version": "3.8.8"
  }
 },
 "nbformat": 4,
 "nbformat_minor": 5
}
