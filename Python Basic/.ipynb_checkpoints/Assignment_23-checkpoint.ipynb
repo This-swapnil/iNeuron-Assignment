{
 "cells": [
  {
   "cell_type": "markdown",
   "id": "8761c925",
   "metadata": {},
   "source": [
    "### Q 1. What is the result of the code, and why?¶\n",
    "    def func(a, b=6, c=8):\n",
    "        print(a, b, c)\n",
    "    func(1, 2)"
   ]
  },
  {
   "cell_type": "code",
   "execution_count": 1,
   "id": "d7691dbf",
   "metadata": {},
   "outputs": [
    {
     "name": "stdout",
     "output_type": "stream",
     "text": [
      "1 2 8\n"
     ]
    }
   ],
   "source": [
    "def func(a, b=6, c=8):\n",
    "    print(a, b, c)\n",
    "func(1, 2)"
   ]
  },
  {
   "cell_type": "markdown",
   "id": "f8882848",
   "metadata": {},
   "source": [
    "- At the time of fuction declaration we provide a,b,c as argumets and the value of b and c is declaare at that time only.\n",
    "- when we call the fuction we did not provide the value of the argumets i.e c so it take the value we define at the time of declation."
   ]
  },
  {
   "cell_type": "markdown",
   "id": "c16e261f",
   "metadata": {},
   "source": [
    "### Q 2. What is the result of this code, and why?\n",
    "    def func(a, b, c=5):\n",
    "        print(a, b, c)\n",
    "    func(1, c=3, b=2)"
   ]
  },
  {
   "cell_type": "code",
   "execution_count": 2,
   "id": "ccc9be9c",
   "metadata": {},
   "outputs": [
    {
     "name": "stdout",
     "output_type": "stream",
     "text": [
      "1 2 3\n"
     ]
    }
   ],
   "source": [
    "def func(a, b, c=5):\n",
    "    print(a, b, c)\n",
    "func(1, c=3, b=2)"
   ]
  },
  {
   "cell_type": "markdown",
   "id": "67adc3de",
   "metadata": {},
   "source": [
    "- When we make function call, order will be positional argument and then keywords arguments. we can pass the keyword arguments in any order we want.\n",
    "    Solution is 1,2,3"
   ]
  },
  {
   "cell_type": "markdown",
   "id": "50fda65e",
   "metadata": {},
   "source": [
    "### Q 3. How about this code: what is its result, and why?\n",
    "    def func(a, *pargs):\n",
    "        print(a, pargs)\n",
    "    func(1, 2, 3)"
   ]
  },
  {
   "cell_type": "code",
   "execution_count": 3,
   "id": "fced5b2d",
   "metadata": {},
   "outputs": [
    {
     "name": "stdout",
     "output_type": "stream",
     "text": [
      "1 (2, 3)\n"
     ]
    }
   ],
   "source": [
    "def func(a, *pargs):\n",
    "    print(a, pargs)\n",
    "func(1, 2, 3)"
   ]
  },
  {
   "cell_type": "markdown",
   "id": "b2e0e936",
   "metadata": {},
   "source": [
    "- The return type of *args parameter is tuple"
   ]
  },
  {
   "cell_type": "markdown",
   "id": "b95ba7c8",
   "metadata": {},
   "source": [
    "### Q 4. What does this code print, and why?\n",
    "    def func(a, **kargs):\n",
    "        print(a, kargs)\n",
    "    func(a=1, c=3, b=2)"
   ]
  },
  {
   "cell_type": "code",
   "execution_count": 4,
   "id": "fc4e1a91",
   "metadata": {},
   "outputs": [
    {
     "name": "stdout",
     "output_type": "stream",
     "text": [
      "1 {'c': 3, 'b': 2}\n"
     ]
    }
   ],
   "source": [
    "def func(a, **kargs):\n",
    "    print(a, kargs)\n",
    "func(a=1, c=3, b=2)"
   ]
  },
  {
   "cell_type": "markdown",
   "id": "777cca54",
   "metadata": {},
   "source": [
    "- The return type of *args parameter is dictionary"
   ]
  },
  {
   "cell_type": "markdown",
   "id": "f9942410",
   "metadata": {},
   "source": [
    "### Q 5. What gets printed by this, and explain?\n",
    "    def func(a, b, c=8, d=5): \n",
    "        print(a, b, c, d)\n",
    "    func(1, *(5, 6))"
   ]
  },
  {
   "cell_type": "code",
   "execution_count": 5,
   "id": "b57b4b31",
   "metadata": {},
   "outputs": [
    {
     "name": "stdout",
     "output_type": "stream",
     "text": [
      "1 5 6 5\n"
     ]
    }
   ],
   "source": [
    "def func(a, b, c=8, d=5): \n",
    "    print(a, b, c, d)\n",
    "func(1, *(5, 6))"
   ]
  },
  {
   "cell_type": "markdown",
   "id": "46549739",
   "metadata": {},
   "source": [
    "- '*' is the unpacking operator and are operators that unpack the values from iterable objects in Python\n",
    "- In the example the value *(5,6) will be unpacked and will be assigned to b and c and passed \n",
    "    as arguments, d =5 will taken by defaults are keyword arguments."
   ]
  },
  {
   "cell_type": "markdown",
   "id": "80154596",
   "metadata": {},
   "source": [
    "### Q 6. what is the result of this, and explain?\n",
    "    def func(a, b, c): \n",
    "        a = 2; b[0] = 'x'; c['a'] = 'y'\n",
    "\n",
    "    l=1; m=[1]; n={'a':0}\n",
    "    print(l,m,n)\n",
    "    func(l, m, n)\n",
    "\n",
    "    l, m, n"
   ]
  },
  {
   "cell_type": "code",
   "execution_count": 6,
   "id": "f01c1cce",
   "metadata": {},
   "outputs": [
    {
     "name": "stdout",
     "output_type": "stream",
     "text": [
      "1 [1] {'a': 0}\n"
     ]
    },
    {
     "data": {
      "text/plain": [
       "(1, ['x'], {'a': 'y'})"
      ]
     },
     "execution_count": 6,
     "metadata": {},
     "output_type": "execute_result"
    }
   ],
   "source": [
    "def func(a, b, c): \n",
    "    a = 2; b[0] = 'x'; c['a'] = 'y'\n",
    "\n",
    "l=1; m=[1]; n={'a':0}\n",
    "print(l,m,n)\n",
    "func(l, m, n)\n",
    "\n",
    "l, m, n"
   ]
  },
  {
   "cell_type": "markdown",
   "id": "fe437b72",
   "metadata": {},
   "source": [
    "- Here in the code, the list and dict are passed as argument, and those are mutable. Here the list m and parametr b point \n",
    "to the same list in the memeory location where as dict n and c point to the same memory location. Any updates to this \n",
    "list will update in the memory location"
   ]
  },
  {
   "cell_type": "code",
   "execution_count": null,
   "id": "7d7fe360",
   "metadata": {},
   "outputs": [],
   "source": []
  }
 ],
 "metadata": {
  "kernelspec": {
   "display_name": "Python 3",
   "language": "python",
   "name": "python3"
  },
  "language_info": {
   "codemirror_mode": {
    "name": "ipython",
    "version": 3
   },
   "file_extension": ".py",
   "mimetype": "text/x-python",
   "name": "python",
   "nbconvert_exporter": "python",
   "pygments_lexer": "ipython3",
   "version": "3.8.8"
  }
 },
 "nbformat": 4,
 "nbformat_minor": 5
}
