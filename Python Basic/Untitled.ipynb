{
 "cells": [
  {
   "cell_type": "markdown",
   "id": "224099c2",
   "metadata": {},
   "source": [
    "### Q 1. What advantages do Excel spreadsheets have over CSV spreadsheets?"
   ]
  },
  {
   "cell_type": "markdown",
   "id": "815ef00e",
   "metadata": {},
   "source": [
    "- Excel advantages over CSV\n",
    "1. It is a binary file that holds information about all the worksheets in a workbook\n",
    "2. An Excel not only stores data but can also do operations on the data\n",
    "3. Files saved in excel cannot be opened or edited by text editors\n",
    "4. large files user is much easier in Excel for the end user. Also, \n",
    "    you can have additional functions like selecting individual cells for import, \n",
    "    convert dates and time automatically, reading formulas and their results, filters, sorting, etc\n",
    "5. Apart from text, data can also be stored in form of charts and graphs\n",
    "6. Excel can connect to external data sources to fetch data. You can use custom add-in in Excel to increase its functionality. \n",
    "7. Excel allows for Review of Data with detailed tracking and commenting feature\n",
    "8. In Excel, spreadsheets can have values of data types other than strings; cells can have different fonts, sizes, \n",
    "   or color settings; cells can have varying widths and heights; adjacent cells can be merged"
   ]
  },
  {
   "cell_type": "markdown",
   "id": "70cd6af1",
   "metadata": {},
   "source": [
    "### Q 2.What do you pass to csv.reader() and csv.writer() to create reader and writer objects?"
   ]
  },
  {
   "cell_type": "markdown",
   "id": "c124fa02",
   "metadata": {},
   "source": [
    "- we pass a File object, obtained from a call to open()."
   ]
  },
  {
   "cell_type": "code",
   "execution_count": 3,
   "id": "8c5f66b8",
   "metadata": {},
   "outputs": [
    {
     "data": {
      "text/plain": [
       "[['title', 'author', 'year'],\n",
       " ['The Weirdstone of Brisingamen', 'Alan Garner', '1960'],\n",
       " ['Perdido Street Station', 'China Miéville', '2000'],\n",
       " ['Thud!', 'Terry Pratchett', '2005'],\n",
       " ['The Spellman Files', 'Lisa Lutz', '2007'],\n",
       " ['Small Gods', 'Terry Pratchett', '1992']]"
      ]
     },
     "execution_count": 3,
     "metadata": {},
     "output_type": "execute_result"
    }
   ],
   "source": [
    "import csv\n",
    "exlFile = open('book.csv')\n",
    "exlreader = csv.reader(exlFile)\n",
    "exlData = list(exlreader)\n",
    "exlData"
   ]
  },
  {
   "cell_type": "markdown",
   "id": "8ab87999",
   "metadata": {},
   "source": [
    "### Q 3. What modes do File objects for reader and writer objects need to be opened in?"
   ]
  },
  {
   "cell_type": "markdown",
   "id": "b1662de5",
   "metadata": {},
   "source": [
    "- File objects need to be opened in read-binary ('rb') for Reader objects and write-binary ('wb') for Writer objects"
   ]
  },
  {
   "cell_type": "markdown",
   "id": "e0d5e17e",
   "metadata": {},
   "source": [
    "### Q 4. What method takes a list argument and writes it to a CSV file?"
   ]
  },
  {
   "cell_type": "markdown",
   "id": "61c4a41b",
   "metadata": {},
   "source": [
    "- the writerow() function"
   ]
  },
  {
   "cell_type": "markdown",
   "id": "325122d6",
   "metadata": {},
   "source": [
    "### Q 5. What do the keyword arguments delimiter and line terminator do?"
   ]
  },
  {
   "cell_type": "markdown",
   "id": "2a24365b",
   "metadata": {},
   "source": [
    "- The delimiter argument changes the string used to separate cells in a row. \n",
    "- The lineterminator argument changes the string used to separate rows."
   ]
  },
  {
   "cell_type": "markdown",
   "id": "358f8bfc",
   "metadata": {},
   "source": [
    "### Q 6. What function takes a string of JSON data and returns a Python data structure?"
   ]
  },
  {
   "cell_type": "markdown",
   "id": "098c6b13",
   "metadata": {},
   "source": [
    "- json.loads()"
   ]
  },
  {
   "cell_type": "markdown",
   "id": "624006a3",
   "metadata": {},
   "source": [
    "### Q 7. What function takes a Python data structure and returns a string of JSON data?"
   ]
  },
  {
   "cell_type": "markdown",
   "id": "1540ae35",
   "metadata": {},
   "source": [
    "- json.dumps()"
   ]
  },
  {
   "cell_type": "code",
   "execution_count": null,
   "id": "72ec24a4",
   "metadata": {},
   "outputs": [],
   "source": []
  }
 ],
 "metadata": {
  "kernelspec": {
   "display_name": "Python 3",
   "language": "python",
   "name": "python3"
  },
  "language_info": {
   "codemirror_mode": {
    "name": "ipython",
    "version": 3
   },
   "file_extension": ".py",
   "mimetype": "text/x-python",
   "name": "python",
   "nbconvert_exporter": "python",
   "pygments_lexer": "ipython3",
   "version": "3.8.8"
  }
 },
 "nbformat": 4,
 "nbformat_minor": 5
}
